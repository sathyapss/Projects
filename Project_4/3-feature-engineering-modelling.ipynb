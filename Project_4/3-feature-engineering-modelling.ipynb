{
 "cells": [
  {
   "cell_type": "markdown",
   "metadata": {},
   "source": [
    "# Project 4 - West Nile Virus Prediction"
   ]
  },
  {
   "cell_type": "markdown",
   "metadata": {},
   "source": [
    "## Problem Statement\n",
    "The intent of this project is to analyze weather data and GIS data and predicting the presence of the West Nile virus, for a given time, location, and species. "
   ]
  },
  {
   "cell_type": "markdown",
   "metadata": {},
   "source": [
    "##  General Approach\n",
    "- [Data cleaning and imputation](#Data-Cleaning)\n",
    "- [Data visualization](#Data-Visualization)\n",
    "- [Feature selection](#Featuion-Selection)\n",
    "- [Cross validation](#Cross-Validation)\n",
    "- [Model fitting](#Model-Fitting)"
   ]
  },
  {
   "cell_type": "code",
   "execution_count": 1,
   "metadata": {},
   "outputs": [],
   "source": [
    "import pandas as pd\n",
    "import numpy as np\n",
    "import seaborn as sns\n",
    "import matplotlib.pyplot as plt\n",
    "from scipy.spatial.distance import cdist\n",
    "from haversine import haversine"
   ]
  },
  {
   "cell_type": "code",
   "execution_count": 2,
   "metadata": {},
   "outputs": [],
   "source": [
    "# Load dataset \n",
    "train = pd.read_csv('assets/train_cleaned.csv')\n",
    "test = pd.read_csv('assets/test_cleaned.csv')\n",
    "weather = pd.read_csv('assets/weather_cleaned.csv')\n",
    "spray = pd.read_csv('assets/spray.csv')"
   ]
  },
  {
   "cell_type": "markdown",
   "metadata": {},
   "source": [
    "### Data Cleaning and Imputation"
   ]
  },
  {
   "cell_type": "markdown",
   "metadata": {},
   "source": [
    "#### Weather data"
   ]
  },
  {
   "cell_type": "code",
   "execution_count": 3,
   "metadata": {},
   "outputs": [
    {
     "data": {
      "text/html": [
       "<div>\n",
       "<style scoped>\n",
       "    .dataframe tbody tr th:only-of-type {\n",
       "        vertical-align: middle;\n",
       "    }\n",
       "\n",
       "    .dataframe tbody tr th {\n",
       "        vertical-align: top;\n",
       "    }\n",
       "\n",
       "    .dataframe thead th {\n",
       "        text-align: right;\n",
       "    }\n",
       "</style>\n",
       "<table border=\"1\" class=\"dataframe\">\n",
       "  <thead>\n",
       "    <tr style=\"text-align: right;\">\n",
       "      <th></th>\n",
       "      <th>Station</th>\n",
       "      <th>Date</th>\n",
       "      <th>Tmax</th>\n",
       "      <th>Tmin</th>\n",
       "      <th>Tavg</th>\n",
       "      <th>DewPoint</th>\n",
       "      <th>WetBulb</th>\n",
       "      <th>PrecipTotal</th>\n",
       "      <th>StnPressure</th>\n",
       "      <th>SeaLevel</th>\n",
       "      <th>ResultSpeed</th>\n",
       "      <th>ResultDir</th>\n",
       "      <th>AvgSpeed</th>\n",
       "      <th>Rain</th>\n",
       "    </tr>\n",
       "  </thead>\n",
       "  <tbody>\n",
       "    <tr>\n",
       "      <td>0</td>\n",
       "      <td>1</td>\n",
       "      <td>2007-05-01</td>\n",
       "      <td>83</td>\n",
       "      <td>50</td>\n",
       "      <td>66.5</td>\n",
       "      <td>51</td>\n",
       "      <td>56</td>\n",
       "      <td>0.0</td>\n",
       "      <td>29.10</td>\n",
       "      <td>29.82</td>\n",
       "      <td>1.7</td>\n",
       "      <td>27</td>\n",
       "      <td>9.2</td>\n",
       "      <td>0</td>\n",
       "    </tr>\n",
       "    <tr>\n",
       "      <td>1</td>\n",
       "      <td>2</td>\n",
       "      <td>2007-05-01</td>\n",
       "      <td>84</td>\n",
       "      <td>52</td>\n",
       "      <td>68.0</td>\n",
       "      <td>51</td>\n",
       "      <td>57</td>\n",
       "      <td>0.0</td>\n",
       "      <td>29.18</td>\n",
       "      <td>29.82</td>\n",
       "      <td>2.7</td>\n",
       "      <td>25</td>\n",
       "      <td>9.6</td>\n",
       "      <td>0</td>\n",
       "    </tr>\n",
       "    <tr>\n",
       "      <td>2</td>\n",
       "      <td>1</td>\n",
       "      <td>2007-05-02</td>\n",
       "      <td>59</td>\n",
       "      <td>42</td>\n",
       "      <td>50.5</td>\n",
       "      <td>42</td>\n",
       "      <td>47</td>\n",
       "      <td>0.0</td>\n",
       "      <td>29.38</td>\n",
       "      <td>30.09</td>\n",
       "      <td>13.0</td>\n",
       "      <td>4</td>\n",
       "      <td>13.4</td>\n",
       "      <td>0</td>\n",
       "    </tr>\n",
       "    <tr>\n",
       "      <td>3</td>\n",
       "      <td>2</td>\n",
       "      <td>2007-05-02</td>\n",
       "      <td>60</td>\n",
       "      <td>43</td>\n",
       "      <td>51.5</td>\n",
       "      <td>42</td>\n",
       "      <td>47</td>\n",
       "      <td>0.0</td>\n",
       "      <td>29.44</td>\n",
       "      <td>30.08</td>\n",
       "      <td>13.3</td>\n",
       "      <td>2</td>\n",
       "      <td>13.4</td>\n",
       "      <td>0</td>\n",
       "    </tr>\n",
       "    <tr>\n",
       "      <td>4</td>\n",
       "      <td>1</td>\n",
       "      <td>2007-05-03</td>\n",
       "      <td>66</td>\n",
       "      <td>46</td>\n",
       "      <td>56.0</td>\n",
       "      <td>40</td>\n",
       "      <td>48</td>\n",
       "      <td>0.0</td>\n",
       "      <td>29.39</td>\n",
       "      <td>30.12</td>\n",
       "      <td>11.7</td>\n",
       "      <td>7</td>\n",
       "      <td>11.9</td>\n",
       "      <td>0</td>\n",
       "    </tr>\n",
       "  </tbody>\n",
       "</table>\n",
       "</div>"
      ],
      "text/plain": [
       "   Station        Date  Tmax  Tmin  Tavg  DewPoint  WetBulb  PrecipTotal  \\\n",
       "0        1  2007-05-01    83    50  66.5        51       56          0.0   \n",
       "1        2  2007-05-01    84    52  68.0        51       57          0.0   \n",
       "2        1  2007-05-02    59    42  50.5        42       47          0.0   \n",
       "3        2  2007-05-02    60    43  51.5        42       47          0.0   \n",
       "4        1  2007-05-03    66    46  56.0        40       48          0.0   \n",
       "\n",
       "   StnPressure  SeaLevel  ResultSpeed  ResultDir  AvgSpeed  Rain  \n",
       "0        29.10     29.82          1.7         27       9.2     0  \n",
       "1        29.18     29.82          2.7         25       9.6     0  \n",
       "2        29.38     30.09         13.0          4      13.4     0  \n",
       "3        29.44     30.08         13.3          2      13.4     0  \n",
       "4        29.39     30.12         11.7          7      11.9     0  "
      ]
     },
     "execution_count": 3,
     "metadata": {},
     "output_type": "execute_result"
    }
   ],
   "source": [
    "# verifying the dataframe\n",
    "weather.head()"
   ]
  },
  {
   "cell_type": "code",
   "execution_count": 4,
   "metadata": {},
   "outputs": [
    {
     "data": {
      "text/plain": [
       "Station          int64\n",
       "Date            object\n",
       "Tmax             int64\n",
       "Tmin             int64\n",
       "Tavg           float64\n",
       "DewPoint         int64\n",
       "WetBulb          int64\n",
       "PrecipTotal    float64\n",
       "StnPressure    float64\n",
       "SeaLevel       float64\n",
       "ResultSpeed    float64\n",
       "ResultDir        int64\n",
       "AvgSpeed       float64\n",
       "Rain             int64\n",
       "dtype: object"
      ]
     },
     "execution_count": 4,
     "metadata": {},
     "output_type": "execute_result"
    }
   ],
   "source": [
    "# checking the datatypes\n",
    "weather.dtypes"
   ]
  },
  {
   "cell_type": "code",
   "execution_count": 5,
   "metadata": {},
   "outputs": [],
   "source": [
    "# changing Date to DateTime \n",
    "weather['Date'] = pd.to_datetime(weather['Date'])"
   ]
  },
  {
   "cell_type": "code",
   "execution_count": 6,
   "metadata": {},
   "outputs": [
    {
     "data": {
      "text/plain": [
       "Station                 int64\n",
       "Date           datetime64[ns]\n",
       "Tmax                    int64\n",
       "Tmin                    int64\n",
       "Tavg                  float64\n",
       "DewPoint                int64\n",
       "WetBulb                 int64\n",
       "PrecipTotal           float64\n",
       "StnPressure           float64\n",
       "SeaLevel              float64\n",
       "ResultSpeed           float64\n",
       "ResultDir               int64\n",
       "AvgSpeed              float64\n",
       "Rain                    int64\n",
       "dtype: object"
      ]
     },
     "execution_count": 6,
     "metadata": {},
     "output_type": "execute_result"
    }
   ],
   "source": [
    "# verifying the change\n",
    "weather.dtypes"
   ]
  },
  {
   "cell_type": "markdown",
   "metadata": {},
   "source": [
    "#### Train data"
   ]
  },
  {
   "cell_type": "code",
   "execution_count": 7,
   "metadata": {},
   "outputs": [
    {
     "data": {
      "text/html": [
       "<div>\n",
       "<style scoped>\n",
       "    .dataframe tbody tr th:only-of-type {\n",
       "        vertical-align: middle;\n",
       "    }\n",
       "\n",
       "    .dataframe tbody tr th {\n",
       "        vertical-align: top;\n",
       "    }\n",
       "\n",
       "    .dataframe thead th {\n",
       "        text-align: right;\n",
       "    }\n",
       "</style>\n",
       "<table border=\"1\" class=\"dataframe\">\n",
       "  <thead>\n",
       "    <tr style=\"text-align: right;\">\n",
       "      <th></th>\n",
       "      <th>Date</th>\n",
       "      <th>Address</th>\n",
       "      <th>Species</th>\n",
       "      <th>Block</th>\n",
       "      <th>Street</th>\n",
       "      <th>Trap</th>\n",
       "      <th>AddressNumberAndStreet</th>\n",
       "      <th>Latitude</th>\n",
       "      <th>Longitude</th>\n",
       "      <th>AddressAccuracy</th>\n",
       "      <th>NumMosquitos</th>\n",
       "      <th>WnvPresent</th>\n",
       "      <th>Month</th>\n",
       "      <th>Year</th>\n",
       "      <th>Weekday</th>\n",
       "      <th>Tot_Mos_Species</th>\n",
       "    </tr>\n",
       "  </thead>\n",
       "  <tbody>\n",
       "    <tr>\n",
       "      <td>0</td>\n",
       "      <td>2007-05-29</td>\n",
       "      <td>4100 North Oak Park Avenue, Chicago, IL 60634,...</td>\n",
       "      <td>PIPIENS/RESTUANS</td>\n",
       "      <td>41</td>\n",
       "      <td>N OAK PARK AVE</td>\n",
       "      <td>2</td>\n",
       "      <td>4100  N OAK PARK AVE, Chicago, IL</td>\n",
       "      <td>41.954690</td>\n",
       "      <td>-87.800991</td>\n",
       "      <td>9</td>\n",
       "      <td>1</td>\n",
       "      <td>0</td>\n",
       "      <td>5</td>\n",
       "      <td>2007</td>\n",
       "      <td>Tuesday</td>\n",
       "      <td>1</td>\n",
       "    </tr>\n",
       "    <tr>\n",
       "      <td>1</td>\n",
       "      <td>2007-05-29</td>\n",
       "      <td>4100 North Oak Park Avenue, Chicago, IL 60634,...</td>\n",
       "      <td>RESTUANS</td>\n",
       "      <td>41</td>\n",
       "      <td>N OAK PARK AVE</td>\n",
       "      <td>2</td>\n",
       "      <td>4100  N OAK PARK AVE, Chicago, IL</td>\n",
       "      <td>41.954690</td>\n",
       "      <td>-87.800991</td>\n",
       "      <td>9</td>\n",
       "      <td>1</td>\n",
       "      <td>0</td>\n",
       "      <td>5</td>\n",
       "      <td>2007</td>\n",
       "      <td>Tuesday</td>\n",
       "      <td>1</td>\n",
       "    </tr>\n",
       "    <tr>\n",
       "      <td>2</td>\n",
       "      <td>2007-05-29</td>\n",
       "      <td>6200 North Mandell Avenue, Chicago, IL 60646, USA</td>\n",
       "      <td>RESTUANS</td>\n",
       "      <td>62</td>\n",
       "      <td>N MANDELL AVE</td>\n",
       "      <td>7</td>\n",
       "      <td>6200  N MANDELL AVE, Chicago, IL</td>\n",
       "      <td>41.994991</td>\n",
       "      <td>-87.769279</td>\n",
       "      <td>9</td>\n",
       "      <td>1</td>\n",
       "      <td>0</td>\n",
       "      <td>5</td>\n",
       "      <td>2007</td>\n",
       "      <td>Tuesday</td>\n",
       "      <td>1</td>\n",
       "    </tr>\n",
       "    <tr>\n",
       "      <td>3</td>\n",
       "      <td>2007-05-29</td>\n",
       "      <td>7900 West Foster Avenue, Chicago, IL 60656, USA</td>\n",
       "      <td>PIPIENS/RESTUANS</td>\n",
       "      <td>79</td>\n",
       "      <td>W FOSTER AVE</td>\n",
       "      <td>15</td>\n",
       "      <td>7900  W FOSTER AVE, Chicago, IL</td>\n",
       "      <td>41.974089</td>\n",
       "      <td>-87.824812</td>\n",
       "      <td>8</td>\n",
       "      <td>1</td>\n",
       "      <td>0</td>\n",
       "      <td>5</td>\n",
       "      <td>2007</td>\n",
       "      <td>Tuesday</td>\n",
       "      <td>1</td>\n",
       "    </tr>\n",
       "    <tr>\n",
       "      <td>4</td>\n",
       "      <td>2007-05-29</td>\n",
       "      <td>7900 West Foster Avenue, Chicago, IL 60656, USA</td>\n",
       "      <td>RESTUANS</td>\n",
       "      <td>79</td>\n",
       "      <td>W FOSTER AVE</td>\n",
       "      <td>15</td>\n",
       "      <td>7900  W FOSTER AVE, Chicago, IL</td>\n",
       "      <td>41.974089</td>\n",
       "      <td>-87.824812</td>\n",
       "      <td>8</td>\n",
       "      <td>4</td>\n",
       "      <td>0</td>\n",
       "      <td>5</td>\n",
       "      <td>2007</td>\n",
       "      <td>Tuesday</td>\n",
       "      <td>4</td>\n",
       "    </tr>\n",
       "  </tbody>\n",
       "</table>\n",
       "</div>"
      ],
      "text/plain": [
       "         Date                                            Address  \\\n",
       "0  2007-05-29  4100 North Oak Park Avenue, Chicago, IL 60634,...   \n",
       "1  2007-05-29  4100 North Oak Park Avenue, Chicago, IL 60634,...   \n",
       "2  2007-05-29  6200 North Mandell Avenue, Chicago, IL 60646, USA   \n",
       "3  2007-05-29    7900 West Foster Avenue, Chicago, IL 60656, USA   \n",
       "4  2007-05-29    7900 West Foster Avenue, Chicago, IL 60656, USA   \n",
       "\n",
       "            Species  Block           Street  Trap  \\\n",
       "0  PIPIENS/RESTUANS     41   N OAK PARK AVE     2   \n",
       "1          RESTUANS     41   N OAK PARK AVE     2   \n",
       "2          RESTUANS     62    N MANDELL AVE     7   \n",
       "3  PIPIENS/RESTUANS     79     W FOSTER AVE    15   \n",
       "4          RESTUANS     79     W FOSTER AVE    15   \n",
       "\n",
       "              AddressNumberAndStreet   Latitude  Longitude  AddressAccuracy  \\\n",
       "0  4100  N OAK PARK AVE, Chicago, IL  41.954690 -87.800991                9   \n",
       "1  4100  N OAK PARK AVE, Chicago, IL  41.954690 -87.800991                9   \n",
       "2   6200  N MANDELL AVE, Chicago, IL  41.994991 -87.769279                9   \n",
       "3    7900  W FOSTER AVE, Chicago, IL  41.974089 -87.824812                8   \n",
       "4    7900  W FOSTER AVE, Chicago, IL  41.974089 -87.824812                8   \n",
       "\n",
       "   NumMosquitos  WnvPresent  Month  Year  Weekday  Tot_Mos_Species  \n",
       "0             1           0      5  2007  Tuesday                1  \n",
       "1             1           0      5  2007  Tuesday                1  \n",
       "2             1           0      5  2007  Tuesday                1  \n",
       "3             1           0      5  2007  Tuesday                1  \n",
       "4             4           0      5  2007  Tuesday                4  "
      ]
     },
     "execution_count": 7,
     "metadata": {},
     "output_type": "execute_result"
    }
   ],
   "source": [
    "train.head()"
   ]
  },
  {
   "cell_type": "code",
   "execution_count": 8,
   "metadata": {},
   "outputs": [],
   "source": [
    "# function takes in coordinates from train data and output station number closest to it\n",
    "def closest_point(point):\n",
    "    station1, station2 = [41.995, -87.933], [41.786, -87.752]  # Fixed coordinates for two stations\n",
    "    points = [station1, station2] \n",
    "    if cdist([point], points).argmin() == 0: return 1 # return index of closest point\n",
    "    return 2"
   ]
  },
  {
   "cell_type": "code",
   "execution_count": 9,
   "metadata": {},
   "outputs": [],
   "source": [
    "# Assign Station to train data based on station coordinates\n",
    "train['Station'] = [closest_point(x) for x in train[['Latitude','Longitude']].values]"
   ]
  },
  {
   "cell_type": "code",
   "execution_count": 10,
   "metadata": {},
   "outputs": [],
   "source": [
    "# Convert test and train data to datetime format\n",
    "train['Date'] = pd.to_datetime(train['Date'])"
   ]
  },
  {
   "cell_type": "code",
   "execution_count": 11,
   "metadata": {},
   "outputs": [
    {
     "data": {
      "text/plain": [
       "Date                      datetime64[ns]\n",
       "Address                           object\n",
       "Species                           object\n",
       "Block                              int64\n",
       "Street                            object\n",
       "Trap                               int64\n",
       "AddressNumberAndStreet            object\n",
       "Latitude                         float64\n",
       "Longitude                        float64\n",
       "AddressAccuracy                    int64\n",
       "NumMosquitos                       int64\n",
       "WnvPresent                         int64\n",
       "Month                              int64\n",
       "Year                               int64\n",
       "Weekday                           object\n",
       "Tot_Mos_Species                    int64\n",
       "Station                            int64\n",
       "dtype: object"
      ]
     },
     "execution_count": 11,
     "metadata": {},
     "output_type": "execute_result"
    }
   ],
   "source": [
    "# verifying the changes\n",
    "train.dtypes"
   ]
  },
  {
   "cell_type": "markdown",
   "metadata": {},
   "source": [
    "### Feature Engineering"
   ]
  },
  {
   "cell_type": "code",
   "execution_count": 12,
   "metadata": {},
   "outputs": [],
   "source": [
    "weather = weather.set_index('Date')"
   ]
  },
  {
   "cell_type": "code",
   "execution_count": 13,
   "metadata": {},
   "outputs": [],
   "source": [
    "for c in ['PrecipTotal','Tavg','Tmin','Tmax','DewPoint']:\n",
    "    for p in [14,28,60]:\n",
    "        if c == 'PrecipTotal':\n",
    "            weather[f'{c}_{str(p)}'] = weather[c].rolling(p, min_periods=1).sum()\n",
    "        elif c == 'Tmin':\n",
    "            weather[f'{c}_{str(p)}'] = weather[c].rolling(p, min_periods=1).min()\n",
    "        elif c == 'Tmax':\n",
    "            weather[f'{c}_{str(p)}'] = weather[c].rolling(p, min_periods=1).max()\n",
    "        else:\n",
    "            weather[f'{c}_{str(p)}'] = weather[c].rolling(p, min_periods=1).mean()"
   ]
  },
  {
   "cell_type": "code",
   "execution_count": 14,
   "metadata": {},
   "outputs": [
    {
     "data": {
      "text/html": [
       "<div>\n",
       "<style scoped>\n",
       "    .dataframe tbody tr th:only-of-type {\n",
       "        vertical-align: middle;\n",
       "    }\n",
       "\n",
       "    .dataframe tbody tr th {\n",
       "        vertical-align: top;\n",
       "    }\n",
       "\n",
       "    .dataframe thead th {\n",
       "        text-align: right;\n",
       "    }\n",
       "</style>\n",
       "<table border=\"1\" class=\"dataframe\">\n",
       "  <thead>\n",
       "    <tr style=\"text-align: right;\">\n",
       "      <th></th>\n",
       "      <th>Station</th>\n",
       "      <th>Tmax</th>\n",
       "      <th>Tmin</th>\n",
       "      <th>Tavg</th>\n",
       "      <th>DewPoint</th>\n",
       "      <th>WetBulb</th>\n",
       "      <th>PrecipTotal</th>\n",
       "      <th>StnPressure</th>\n",
       "      <th>SeaLevel</th>\n",
       "      <th>ResultSpeed</th>\n",
       "      <th>...</th>\n",
       "      <th>Tavg_60</th>\n",
       "      <th>Tmin_14</th>\n",
       "      <th>Tmin_28</th>\n",
       "      <th>Tmin_60</th>\n",
       "      <th>Tmax_14</th>\n",
       "      <th>Tmax_28</th>\n",
       "      <th>Tmax_60</th>\n",
       "      <th>DewPoint_14</th>\n",
       "      <th>DewPoint_28</th>\n",
       "      <th>DewPoint_60</th>\n",
       "    </tr>\n",
       "    <tr>\n",
       "      <th>Date</th>\n",
       "      <th></th>\n",
       "      <th></th>\n",
       "      <th></th>\n",
       "      <th></th>\n",
       "      <th></th>\n",
       "      <th></th>\n",
       "      <th></th>\n",
       "      <th></th>\n",
       "      <th></th>\n",
       "      <th></th>\n",
       "      <th></th>\n",
       "      <th></th>\n",
       "      <th></th>\n",
       "      <th></th>\n",
       "      <th></th>\n",
       "      <th></th>\n",
       "      <th></th>\n",
       "      <th></th>\n",
       "      <th></th>\n",
       "      <th></th>\n",
       "      <th></th>\n",
       "    </tr>\n",
       "  </thead>\n",
       "  <tbody>\n",
       "    <tr>\n",
       "      <td>2007-05-01</td>\n",
       "      <td>1</td>\n",
       "      <td>83</td>\n",
       "      <td>50</td>\n",
       "      <td>66.5</td>\n",
       "      <td>51</td>\n",
       "      <td>56</td>\n",
       "      <td>0.00</td>\n",
       "      <td>29.10</td>\n",
       "      <td>29.82</td>\n",
       "      <td>1.7</td>\n",
       "      <td>...</td>\n",
       "      <td>66.500000</td>\n",
       "      <td>50.0</td>\n",
       "      <td>50.0</td>\n",
       "      <td>50.0</td>\n",
       "      <td>83.0</td>\n",
       "      <td>83.0</td>\n",
       "      <td>83.0</td>\n",
       "      <td>51.000000</td>\n",
       "      <td>51.000000</td>\n",
       "      <td>51.000000</td>\n",
       "    </tr>\n",
       "    <tr>\n",
       "      <td>2007-05-01</td>\n",
       "      <td>2</td>\n",
       "      <td>84</td>\n",
       "      <td>52</td>\n",
       "      <td>68.0</td>\n",
       "      <td>51</td>\n",
       "      <td>57</td>\n",
       "      <td>0.00</td>\n",
       "      <td>29.18</td>\n",
       "      <td>29.82</td>\n",
       "      <td>2.7</td>\n",
       "      <td>...</td>\n",
       "      <td>67.250000</td>\n",
       "      <td>50.0</td>\n",
       "      <td>50.0</td>\n",
       "      <td>50.0</td>\n",
       "      <td>84.0</td>\n",
       "      <td>84.0</td>\n",
       "      <td>84.0</td>\n",
       "      <td>51.000000</td>\n",
       "      <td>51.000000</td>\n",
       "      <td>51.000000</td>\n",
       "    </tr>\n",
       "    <tr>\n",
       "      <td>2007-05-02</td>\n",
       "      <td>1</td>\n",
       "      <td>59</td>\n",
       "      <td>42</td>\n",
       "      <td>50.5</td>\n",
       "      <td>42</td>\n",
       "      <td>47</td>\n",
       "      <td>0.00</td>\n",
       "      <td>29.38</td>\n",
       "      <td>30.09</td>\n",
       "      <td>13.0</td>\n",
       "      <td>...</td>\n",
       "      <td>61.666667</td>\n",
       "      <td>42.0</td>\n",
       "      <td>42.0</td>\n",
       "      <td>42.0</td>\n",
       "      <td>84.0</td>\n",
       "      <td>84.0</td>\n",
       "      <td>84.0</td>\n",
       "      <td>48.000000</td>\n",
       "      <td>48.000000</td>\n",
       "      <td>48.000000</td>\n",
       "    </tr>\n",
       "    <tr>\n",
       "      <td>2007-05-02</td>\n",
       "      <td>2</td>\n",
       "      <td>60</td>\n",
       "      <td>43</td>\n",
       "      <td>51.5</td>\n",
       "      <td>42</td>\n",
       "      <td>47</td>\n",
       "      <td>0.00</td>\n",
       "      <td>29.44</td>\n",
       "      <td>30.08</td>\n",
       "      <td>13.3</td>\n",
       "      <td>...</td>\n",
       "      <td>59.125000</td>\n",
       "      <td>42.0</td>\n",
       "      <td>42.0</td>\n",
       "      <td>42.0</td>\n",
       "      <td>84.0</td>\n",
       "      <td>84.0</td>\n",
       "      <td>84.0</td>\n",
       "      <td>46.500000</td>\n",
       "      <td>46.500000</td>\n",
       "      <td>46.500000</td>\n",
       "    </tr>\n",
       "    <tr>\n",
       "      <td>2007-05-03</td>\n",
       "      <td>1</td>\n",
       "      <td>66</td>\n",
       "      <td>46</td>\n",
       "      <td>56.0</td>\n",
       "      <td>40</td>\n",
       "      <td>48</td>\n",
       "      <td>0.00</td>\n",
       "      <td>29.39</td>\n",
       "      <td>30.12</td>\n",
       "      <td>11.7</td>\n",
       "      <td>...</td>\n",
       "      <td>58.500000</td>\n",
       "      <td>42.0</td>\n",
       "      <td>42.0</td>\n",
       "      <td>42.0</td>\n",
       "      <td>84.0</td>\n",
       "      <td>84.0</td>\n",
       "      <td>84.0</td>\n",
       "      <td>45.200000</td>\n",
       "      <td>45.200000</td>\n",
       "      <td>45.200000</td>\n",
       "    </tr>\n",
       "    <tr>\n",
       "      <td>2007-05-03</td>\n",
       "      <td>2</td>\n",
       "      <td>67</td>\n",
       "      <td>48</td>\n",
       "      <td>57.5</td>\n",
       "      <td>40</td>\n",
       "      <td>50</td>\n",
       "      <td>0.00</td>\n",
       "      <td>29.46</td>\n",
       "      <td>30.12</td>\n",
       "      <td>12.9</td>\n",
       "      <td>...</td>\n",
       "      <td>58.333333</td>\n",
       "      <td>42.0</td>\n",
       "      <td>42.0</td>\n",
       "      <td>42.0</td>\n",
       "      <td>84.0</td>\n",
       "      <td>84.0</td>\n",
       "      <td>84.0</td>\n",
       "      <td>44.333333</td>\n",
       "      <td>44.333333</td>\n",
       "      <td>44.333333</td>\n",
       "    </tr>\n",
       "    <tr>\n",
       "      <td>2007-05-04</td>\n",
       "      <td>1</td>\n",
       "      <td>66</td>\n",
       "      <td>49</td>\n",
       "      <td>57.5</td>\n",
       "      <td>41</td>\n",
       "      <td>50</td>\n",
       "      <td>0.00</td>\n",
       "      <td>29.31</td>\n",
       "      <td>30.05</td>\n",
       "      <td>10.4</td>\n",
       "      <td>...</td>\n",
       "      <td>58.214286</td>\n",
       "      <td>42.0</td>\n",
       "      <td>42.0</td>\n",
       "      <td>42.0</td>\n",
       "      <td>84.0</td>\n",
       "      <td>84.0</td>\n",
       "      <td>84.0</td>\n",
       "      <td>43.857143</td>\n",
       "      <td>43.857143</td>\n",
       "      <td>43.857143</td>\n",
       "    </tr>\n",
       "    <tr>\n",
       "      <td>2007-05-04</td>\n",
       "      <td>2</td>\n",
       "      <td>78</td>\n",
       "      <td>51</td>\n",
       "      <td>64.5</td>\n",
       "      <td>42</td>\n",
       "      <td>50</td>\n",
       "      <td>0.00</td>\n",
       "      <td>29.36</td>\n",
       "      <td>30.04</td>\n",
       "      <td>10.1</td>\n",
       "      <td>...</td>\n",
       "      <td>59.000000</td>\n",
       "      <td>42.0</td>\n",
       "      <td>42.0</td>\n",
       "      <td>42.0</td>\n",
       "      <td>84.0</td>\n",
       "      <td>84.0</td>\n",
       "      <td>84.0</td>\n",
       "      <td>43.625000</td>\n",
       "      <td>43.625000</td>\n",
       "      <td>43.625000</td>\n",
       "    </tr>\n",
       "    <tr>\n",
       "      <td>2007-05-05</td>\n",
       "      <td>1</td>\n",
       "      <td>66</td>\n",
       "      <td>53</td>\n",
       "      <td>59.5</td>\n",
       "      <td>38</td>\n",
       "      <td>49</td>\n",
       "      <td>0.00</td>\n",
       "      <td>29.40</td>\n",
       "      <td>30.10</td>\n",
       "      <td>11.7</td>\n",
       "      <td>...</td>\n",
       "      <td>59.055556</td>\n",
       "      <td>42.0</td>\n",
       "      <td>42.0</td>\n",
       "      <td>42.0</td>\n",
       "      <td>84.0</td>\n",
       "      <td>84.0</td>\n",
       "      <td>84.0</td>\n",
       "      <td>43.000000</td>\n",
       "      <td>43.000000</td>\n",
       "      <td>43.000000</td>\n",
       "    </tr>\n",
       "    <tr>\n",
       "      <td>2007-05-05</td>\n",
       "      <td>2</td>\n",
       "      <td>66</td>\n",
       "      <td>54</td>\n",
       "      <td>60.0</td>\n",
       "      <td>39</td>\n",
       "      <td>50</td>\n",
       "      <td>0.00</td>\n",
       "      <td>29.46</td>\n",
       "      <td>30.09</td>\n",
       "      <td>11.2</td>\n",
       "      <td>...</td>\n",
       "      <td>59.150000</td>\n",
       "      <td>42.0</td>\n",
       "      <td>42.0</td>\n",
       "      <td>42.0</td>\n",
       "      <td>84.0</td>\n",
       "      <td>84.0</td>\n",
       "      <td>84.0</td>\n",
       "      <td>42.600000</td>\n",
       "      <td>42.600000</td>\n",
       "      <td>42.600000</td>\n",
       "    </tr>\n",
       "    <tr>\n",
       "      <td>2007-05-06</td>\n",
       "      <td>1</td>\n",
       "      <td>68</td>\n",
       "      <td>49</td>\n",
       "      <td>58.5</td>\n",
       "      <td>30</td>\n",
       "      <td>46</td>\n",
       "      <td>0.00</td>\n",
       "      <td>29.57</td>\n",
       "      <td>30.29</td>\n",
       "      <td>14.4</td>\n",
       "      <td>...</td>\n",
       "      <td>59.090909</td>\n",
       "      <td>42.0</td>\n",
       "      <td>42.0</td>\n",
       "      <td>42.0</td>\n",
       "      <td>84.0</td>\n",
       "      <td>84.0</td>\n",
       "      <td>84.0</td>\n",
       "      <td>41.454545</td>\n",
       "      <td>41.454545</td>\n",
       "      <td>41.454545</td>\n",
       "    </tr>\n",
       "    <tr>\n",
       "      <td>2007-05-06</td>\n",
       "      <td>2</td>\n",
       "      <td>68</td>\n",
       "      <td>52</td>\n",
       "      <td>60.0</td>\n",
       "      <td>30</td>\n",
       "      <td>46</td>\n",
       "      <td>0.00</td>\n",
       "      <td>29.62</td>\n",
       "      <td>30.28</td>\n",
       "      <td>13.8</td>\n",
       "      <td>...</td>\n",
       "      <td>59.166667</td>\n",
       "      <td>42.0</td>\n",
       "      <td>42.0</td>\n",
       "      <td>42.0</td>\n",
       "      <td>84.0</td>\n",
       "      <td>84.0</td>\n",
       "      <td>84.0</td>\n",
       "      <td>40.500000</td>\n",
       "      <td>40.500000</td>\n",
       "      <td>40.500000</td>\n",
       "    </tr>\n",
       "    <tr>\n",
       "      <td>2007-05-07</td>\n",
       "      <td>1</td>\n",
       "      <td>83</td>\n",
       "      <td>47</td>\n",
       "      <td>65.0</td>\n",
       "      <td>41</td>\n",
       "      <td>54</td>\n",
       "      <td>0.00</td>\n",
       "      <td>29.38</td>\n",
       "      <td>30.12</td>\n",
       "      <td>8.6</td>\n",
       "      <td>...</td>\n",
       "      <td>59.615385</td>\n",
       "      <td>42.0</td>\n",
       "      <td>42.0</td>\n",
       "      <td>42.0</td>\n",
       "      <td>84.0</td>\n",
       "      <td>84.0</td>\n",
       "      <td>84.0</td>\n",
       "      <td>40.538462</td>\n",
       "      <td>40.538462</td>\n",
       "      <td>40.538462</td>\n",
       "    </tr>\n",
       "    <tr>\n",
       "      <td>2007-05-07</td>\n",
       "      <td>2</td>\n",
       "      <td>84</td>\n",
       "      <td>50</td>\n",
       "      <td>67.0</td>\n",
       "      <td>39</td>\n",
       "      <td>53</td>\n",
       "      <td>0.00</td>\n",
       "      <td>29.44</td>\n",
       "      <td>30.12</td>\n",
       "      <td>8.5</td>\n",
       "      <td>...</td>\n",
       "      <td>60.142857</td>\n",
       "      <td>42.0</td>\n",
       "      <td>42.0</td>\n",
       "      <td>42.0</td>\n",
       "      <td>84.0</td>\n",
       "      <td>84.0</td>\n",
       "      <td>84.0</td>\n",
       "      <td>40.428571</td>\n",
       "      <td>40.428571</td>\n",
       "      <td>40.428571</td>\n",
       "    </tr>\n",
       "    <tr>\n",
       "      <td>2007-05-08</td>\n",
       "      <td>1</td>\n",
       "      <td>82</td>\n",
       "      <td>54</td>\n",
       "      <td>68.0</td>\n",
       "      <td>58</td>\n",
       "      <td>62</td>\n",
       "      <td>0.00</td>\n",
       "      <td>29.29</td>\n",
       "      <td>30.03</td>\n",
       "      <td>2.7</td>\n",
       "      <td>...</td>\n",
       "      <td>60.666667</td>\n",
       "      <td>42.0</td>\n",
       "      <td>42.0</td>\n",
       "      <td>42.0</td>\n",
       "      <td>84.0</td>\n",
       "      <td>84.0</td>\n",
       "      <td>84.0</td>\n",
       "      <td>40.928571</td>\n",
       "      <td>41.600000</td>\n",
       "      <td>41.600000</td>\n",
       "    </tr>\n",
       "    <tr>\n",
       "      <td>2007-05-08</td>\n",
       "      <td>2</td>\n",
       "      <td>80</td>\n",
       "      <td>60</td>\n",
       "      <td>70.0</td>\n",
       "      <td>57</td>\n",
       "      <td>63</td>\n",
       "      <td>0.00</td>\n",
       "      <td>29.36</td>\n",
       "      <td>30.02</td>\n",
       "      <td>2.5</td>\n",
       "      <td>...</td>\n",
       "      <td>61.250000</td>\n",
       "      <td>42.0</td>\n",
       "      <td>42.0</td>\n",
       "      <td>42.0</td>\n",
       "      <td>84.0</td>\n",
       "      <td>84.0</td>\n",
       "      <td>84.0</td>\n",
       "      <td>41.357143</td>\n",
       "      <td>42.562500</td>\n",
       "      <td>42.562500</td>\n",
       "    </tr>\n",
       "    <tr>\n",
       "      <td>2007-05-09</td>\n",
       "      <td>1</td>\n",
       "      <td>77</td>\n",
       "      <td>61</td>\n",
       "      <td>69.0</td>\n",
       "      <td>59</td>\n",
       "      <td>63</td>\n",
       "      <td>0.13</td>\n",
       "      <td>29.21</td>\n",
       "      <td>29.94</td>\n",
       "      <td>3.9</td>\n",
       "      <td>...</td>\n",
       "      <td>61.705882</td>\n",
       "      <td>43.0</td>\n",
       "      <td>42.0</td>\n",
       "      <td>42.0</td>\n",
       "      <td>84.0</td>\n",
       "      <td>84.0</td>\n",
       "      <td>84.0</td>\n",
       "      <td>42.571429</td>\n",
       "      <td>43.529412</td>\n",
       "      <td>43.529412</td>\n",
       "    </tr>\n",
       "    <tr>\n",
       "      <td>2007-05-09</td>\n",
       "      <td>2</td>\n",
       "      <td>76</td>\n",
       "      <td>63</td>\n",
       "      <td>69.5</td>\n",
       "      <td>60</td>\n",
       "      <td>63</td>\n",
       "      <td>0.02</td>\n",
       "      <td>29.28</td>\n",
       "      <td>29.93</td>\n",
       "      <td>3.9</td>\n",
       "      <td>...</td>\n",
       "      <td>62.138889</td>\n",
       "      <td>46.0</td>\n",
       "      <td>42.0</td>\n",
       "      <td>42.0</td>\n",
       "      <td>84.0</td>\n",
       "      <td>84.0</td>\n",
       "      <td>84.0</td>\n",
       "      <td>43.857143</td>\n",
       "      <td>44.444444</td>\n",
       "      <td>44.444444</td>\n",
       "    </tr>\n",
       "    <tr>\n",
       "      <td>2007-05-10</td>\n",
       "      <td>1</td>\n",
       "      <td>84</td>\n",
       "      <td>56</td>\n",
       "      <td>70.0</td>\n",
       "      <td>52</td>\n",
       "      <td>60</td>\n",
       "      <td>0.00</td>\n",
       "      <td>29.20</td>\n",
       "      <td>29.92</td>\n",
       "      <td>0.7</td>\n",
       "      <td>...</td>\n",
       "      <td>62.552632</td>\n",
       "      <td>47.0</td>\n",
       "      <td>42.0</td>\n",
       "      <td>42.0</td>\n",
       "      <td>84.0</td>\n",
       "      <td>84.0</td>\n",
       "      <td>84.0</td>\n",
       "      <td>44.714286</td>\n",
       "      <td>44.842105</td>\n",
       "      <td>44.842105</td>\n",
       "    </tr>\n",
       "    <tr>\n",
       "      <td>2007-05-10</td>\n",
       "      <td>2</td>\n",
       "      <td>83</td>\n",
       "      <td>59</td>\n",
       "      <td>71.0</td>\n",
       "      <td>52</td>\n",
       "      <td>61</td>\n",
       "      <td>0.00</td>\n",
       "      <td>29.26</td>\n",
       "      <td>29.91</td>\n",
       "      <td>2.0</td>\n",
       "      <td>...</td>\n",
       "      <td>62.975000</td>\n",
       "      <td>47.0</td>\n",
       "      <td>42.0</td>\n",
       "      <td>42.0</td>\n",
       "      <td>84.0</td>\n",
       "      <td>84.0</td>\n",
       "      <td>84.0</td>\n",
       "      <td>45.571429</td>\n",
       "      <td>45.200000</td>\n",
       "      <td>45.200000</td>\n",
       "    </tr>\n",
       "  </tbody>\n",
       "</table>\n",
       "<p>20 rows × 28 columns</p>\n",
       "</div>"
      ],
      "text/plain": [
       "            Station  Tmax  Tmin  Tavg  DewPoint  WetBulb  PrecipTotal  \\\n",
       "Date                                                                    \n",
       "2007-05-01        1    83    50  66.5        51       56         0.00   \n",
       "2007-05-01        2    84    52  68.0        51       57         0.00   \n",
       "2007-05-02        1    59    42  50.5        42       47         0.00   \n",
       "2007-05-02        2    60    43  51.5        42       47         0.00   \n",
       "2007-05-03        1    66    46  56.0        40       48         0.00   \n",
       "2007-05-03        2    67    48  57.5        40       50         0.00   \n",
       "2007-05-04        1    66    49  57.5        41       50         0.00   \n",
       "2007-05-04        2    78    51  64.5        42       50         0.00   \n",
       "2007-05-05        1    66    53  59.5        38       49         0.00   \n",
       "2007-05-05        2    66    54  60.0        39       50         0.00   \n",
       "2007-05-06        1    68    49  58.5        30       46         0.00   \n",
       "2007-05-06        2    68    52  60.0        30       46         0.00   \n",
       "2007-05-07        1    83    47  65.0        41       54         0.00   \n",
       "2007-05-07        2    84    50  67.0        39       53         0.00   \n",
       "2007-05-08        1    82    54  68.0        58       62         0.00   \n",
       "2007-05-08        2    80    60  70.0        57       63         0.00   \n",
       "2007-05-09        1    77    61  69.0        59       63         0.13   \n",
       "2007-05-09        2    76    63  69.5        60       63         0.02   \n",
       "2007-05-10        1    84    56  70.0        52       60         0.00   \n",
       "2007-05-10        2    83    59  71.0        52       61         0.00   \n",
       "\n",
       "            StnPressure  SeaLevel  ResultSpeed  ...    Tavg_60  Tmin_14  \\\n",
       "Date                                            ...                       \n",
       "2007-05-01        29.10     29.82          1.7  ...  66.500000     50.0   \n",
       "2007-05-01        29.18     29.82          2.7  ...  67.250000     50.0   \n",
       "2007-05-02        29.38     30.09         13.0  ...  61.666667     42.0   \n",
       "2007-05-02        29.44     30.08         13.3  ...  59.125000     42.0   \n",
       "2007-05-03        29.39     30.12         11.7  ...  58.500000     42.0   \n",
       "2007-05-03        29.46     30.12         12.9  ...  58.333333     42.0   \n",
       "2007-05-04        29.31     30.05         10.4  ...  58.214286     42.0   \n",
       "2007-05-04        29.36     30.04         10.1  ...  59.000000     42.0   \n",
       "2007-05-05        29.40     30.10         11.7  ...  59.055556     42.0   \n",
       "2007-05-05        29.46     30.09         11.2  ...  59.150000     42.0   \n",
       "2007-05-06        29.57     30.29         14.4  ...  59.090909     42.0   \n",
       "2007-05-06        29.62     30.28         13.8  ...  59.166667     42.0   \n",
       "2007-05-07        29.38     30.12          8.6  ...  59.615385     42.0   \n",
       "2007-05-07        29.44     30.12          8.5  ...  60.142857     42.0   \n",
       "2007-05-08        29.29     30.03          2.7  ...  60.666667     42.0   \n",
       "2007-05-08        29.36     30.02          2.5  ...  61.250000     42.0   \n",
       "2007-05-09        29.21     29.94          3.9  ...  61.705882     43.0   \n",
       "2007-05-09        29.28     29.93          3.9  ...  62.138889     46.0   \n",
       "2007-05-10        29.20     29.92          0.7  ...  62.552632     47.0   \n",
       "2007-05-10        29.26     29.91          2.0  ...  62.975000     47.0   \n",
       "\n",
       "            Tmin_28  Tmin_60  Tmax_14  Tmax_28  Tmax_60  DewPoint_14  \\\n",
       "Date                                                                   \n",
       "2007-05-01     50.0     50.0     83.0     83.0     83.0    51.000000   \n",
       "2007-05-01     50.0     50.0     84.0     84.0     84.0    51.000000   \n",
       "2007-05-02     42.0     42.0     84.0     84.0     84.0    48.000000   \n",
       "2007-05-02     42.0     42.0     84.0     84.0     84.0    46.500000   \n",
       "2007-05-03     42.0     42.0     84.0     84.0     84.0    45.200000   \n",
       "2007-05-03     42.0     42.0     84.0     84.0     84.0    44.333333   \n",
       "2007-05-04     42.0     42.0     84.0     84.0     84.0    43.857143   \n",
       "2007-05-04     42.0     42.0     84.0     84.0     84.0    43.625000   \n",
       "2007-05-05     42.0     42.0     84.0     84.0     84.0    43.000000   \n",
       "2007-05-05     42.0     42.0     84.0     84.0     84.0    42.600000   \n",
       "2007-05-06     42.0     42.0     84.0     84.0     84.0    41.454545   \n",
       "2007-05-06     42.0     42.0     84.0     84.0     84.0    40.500000   \n",
       "2007-05-07     42.0     42.0     84.0     84.0     84.0    40.538462   \n",
       "2007-05-07     42.0     42.0     84.0     84.0     84.0    40.428571   \n",
       "2007-05-08     42.0     42.0     84.0     84.0     84.0    40.928571   \n",
       "2007-05-08     42.0     42.0     84.0     84.0     84.0    41.357143   \n",
       "2007-05-09     42.0     42.0     84.0     84.0     84.0    42.571429   \n",
       "2007-05-09     42.0     42.0     84.0     84.0     84.0    43.857143   \n",
       "2007-05-10     42.0     42.0     84.0     84.0     84.0    44.714286   \n",
       "2007-05-10     42.0     42.0     84.0     84.0     84.0    45.571429   \n",
       "\n",
       "            DewPoint_28  DewPoint_60  \n",
       "Date                                  \n",
       "2007-05-01    51.000000    51.000000  \n",
       "2007-05-01    51.000000    51.000000  \n",
       "2007-05-02    48.000000    48.000000  \n",
       "2007-05-02    46.500000    46.500000  \n",
       "2007-05-03    45.200000    45.200000  \n",
       "2007-05-03    44.333333    44.333333  \n",
       "2007-05-04    43.857143    43.857143  \n",
       "2007-05-04    43.625000    43.625000  \n",
       "2007-05-05    43.000000    43.000000  \n",
       "2007-05-05    42.600000    42.600000  \n",
       "2007-05-06    41.454545    41.454545  \n",
       "2007-05-06    40.500000    40.500000  \n",
       "2007-05-07    40.538462    40.538462  \n",
       "2007-05-07    40.428571    40.428571  \n",
       "2007-05-08    41.600000    41.600000  \n",
       "2007-05-08    42.562500    42.562500  \n",
       "2007-05-09    43.529412    43.529412  \n",
       "2007-05-09    44.444444    44.444444  \n",
       "2007-05-10    44.842105    44.842105  \n",
       "2007-05-10    45.200000    45.200000  \n",
       "\n",
       "[20 rows x 28 columns]"
      ]
     },
     "execution_count": 14,
     "metadata": {},
     "output_type": "execute_result"
    }
   ],
   "source": [
    "weather.head(20)"
   ]
  },
  {
   "cell_type": "markdown",
   "metadata": {},
   "source": [
    "### Merge weather and train data"
   ]
  },
  {
   "cell_type": "code",
   "execution_count": 15,
   "metadata": {},
   "outputs": [],
   "source": [
    "# Merge train data with weather based on date and station number\n",
    "train = train.merge(weather, on=['Date','Station'])"
   ]
  },
  {
   "cell_type": "code",
   "execution_count": 16,
   "metadata": {},
   "outputs": [],
   "source": [
    "# Create dummies for species columns\n",
    "df = pd.get_dummies(train, columns=['Species'])"
   ]
  },
  {
   "cell_type": "code",
   "execution_count": 17,
   "metadata": {},
   "outputs": [],
   "source": [
    "# Create month and day columns\n",
    "df['Month'] = df['Date'].dt.month\n",
    "df[\"Day\"] = df['Date'].dt.dayofyear"
   ]
  },
  {
   "cell_type": "markdown",
   "metadata": {},
   "source": [
    "### Data Visualization and Removing Collinear Features"
   ]
  },
  {
   "cell_type": "code",
   "execution_count": 18,
   "metadata": {},
   "outputs": [
    {
     "data": {
      "text/plain": [
       "Index(['Date', 'Address', 'Block', 'Street', 'Trap', 'AddressNumberAndStreet',\n",
       "       'Latitude', 'Longitude', 'AddressAccuracy', 'NumMosquitos',\n",
       "       'WnvPresent', 'Month', 'Year', 'Weekday', 'Tot_Mos_Species', 'Station',\n",
       "       'Tmax', 'Tmin', 'Tavg', 'DewPoint', 'WetBulb', 'PrecipTotal',\n",
       "       'StnPressure', 'SeaLevel', 'ResultSpeed', 'ResultDir', 'AvgSpeed',\n",
       "       'Rain', 'PrecipTotal_14', 'PrecipTotal_28', 'PrecipTotal_60', 'Tavg_14',\n",
       "       'Tavg_28', 'Tavg_60', 'Tmin_14', 'Tmin_28', 'Tmin_60', 'Tmax_14',\n",
       "       'Tmax_28', 'Tmax_60', 'DewPoint_14', 'DewPoint_28', 'DewPoint_60',\n",
       "       'Species_Others', 'Species_PIPIENS', 'Species_PIPIENS/RESTUANS',\n",
       "       'Species_RESTUANS', 'Day'],\n",
       "      dtype='object')"
      ]
     },
     "execution_count": 18,
     "metadata": {},
     "output_type": "execute_result"
    }
   ],
   "source": [
    "df.dtypes.keys()"
   ]
  },
  {
   "cell_type": "code",
   "execution_count": 19,
   "metadata": {},
   "outputs": [],
   "source": [
    "# separating the numerical data types from the object data types\n",
    "df_num = df.drop(columns=df.dtypes[df.dtypes == 'object'].keys())"
   ]
  },
  {
   "cell_type": "code",
   "execution_count": 20,
   "metadata": {},
   "outputs": [
    {
     "data": {
      "text/plain": [
       "Index(['Date', 'Block', 'Trap', 'Latitude', 'Longitude', 'AddressAccuracy',\n",
       "       'NumMosquitos', 'WnvPresent', 'Month', 'Year', 'Tot_Mos_Species',\n",
       "       'Station', 'Tmax', 'Tmin', 'Tavg', 'DewPoint', 'WetBulb', 'PrecipTotal',\n",
       "       'StnPressure', 'SeaLevel', 'ResultSpeed', 'ResultDir', 'AvgSpeed',\n",
       "       'Rain', 'PrecipTotal_14', 'PrecipTotal_28', 'PrecipTotal_60', 'Tavg_14',\n",
       "       'Tavg_28', 'Tavg_60', 'Tmin_14', 'Tmin_28', 'Tmin_60', 'Tmax_14',\n",
       "       'Tmax_28', 'Tmax_60', 'DewPoint_14', 'DewPoint_28', 'DewPoint_60',\n",
       "       'Species_Others', 'Species_PIPIENS', 'Species_PIPIENS/RESTUANS',\n",
       "       'Species_RESTUANS', 'Day'],\n",
       "      dtype='object')"
      ]
     },
     "execution_count": 20,
     "metadata": {},
     "output_type": "execute_result"
    }
   ],
   "source": [
    "# verifying the change\n",
    "df_num.columns"
   ]
  },
  {
   "cell_type": "code",
   "execution_count": 21,
   "metadata": {},
   "outputs": [],
   "source": [
    "# dropping the remaining 'categorical' features (Date, Block, Trap, Latitude, Longitude, AddressAccuracy, Month, Year,\n",
    "# Rain, Species_Others, 'Species_PIPIENS', 'Species_PIPIENS/RESTUANS', 'Species_RESTUANS', 'Day', 'Station' )\n",
    "df_cont = df_num[['NumMosquitos', 'Tot_Mos_Species', 'Tmax', 'Tmin', 'Tavg',\n",
    "                  'DewPoint', 'WetBulb', 'PrecipTotal',\n",
    "                  'StnPressure', 'SeaLevel', 'ResultSpeed', 'ResultDir', 'AvgSpeed', 'PrecipTotal_14', 'PrecipTotal_28', 'PrecipTotal_60', 'Tavg_14',\n",
    "                  'Tavg_28', 'Tavg_60', 'Tmin_14', 'Tmin_28', 'Tmin_60', 'Tmax_14',\n",
    "                  'Tmax_28', 'Tmax_60', 'DewPoint_14', 'DewPoint_28', 'DewPoint_60', 'WnvPresent']]"
   ]
  },
  {
   "cell_type": "code",
   "execution_count": 22,
   "metadata": {},
   "outputs": [
    {
     "data": {
      "image/png": "[encoded data removed]",
      "text/plain": [
       "<Figure size 1440x1440 with 2 Axes>"
      ]
     },
     "metadata": {
      "needs_background": "light"
     },
     "output_type": "display_data"
    }
   ],
   "source": [
    "#establish figure size\n",
    "plt.figure(figsize=(20,20))\n",
    "\n",
    "#setting title\n",
    "ax = plt.axes()\n",
    "ax.set_title('Correlation Heatmap of Continuous Variables and Presence of WNV')\n",
    "\n",
    "#set up mask to be \"True\" in the upper triangle\n",
    "mask = np.zeros_like(df_cont.corr())\n",
    "mask[np.triu_indices_from(mask)] = True\n",
    "\n",
    "#plotting heatmap while masking upper triangle with white\n",
    "with sns.axes_style(\"white\"):\n",
    "    sns.heatmap(df_cont.corr(), mask=mask, square = True, annot=True)"
   ]
  },
  {
   "cell_type": "markdown",
   "metadata": {},
   "source": [
    "From the heatmap, we can see that there are a few collinear features (including their rolls):\n",
    "- AvgSpeed & ResultSpeed\n",
    "- SeaLevel & StnPressure\n",
    "- WetBulb & Tmax, Tmin, Tavg, DewPoint "
   ]
  },
  {
   "cell_type": "code",
   "execution_count": 23,
   "metadata": {},
   "outputs": [
    {
     "data": {
      "text/plain": [
       "AvgSpeed       0.034605\n",
       "ResultSpeed    0.048893\n",
       "WnvPresent     1.000000\n",
       "Name: WnvPresent, dtype: float64"
      ]
     },
     "execution_count": 23,
     "metadata": {},
     "output_type": "execute_result"
    }
   ],
   "source": [
    "# checking collinear terms against WnvPresent\n",
    "np.abs(df[['AvgSpeed', 'ResultSpeed', 'WnvPresent']].corr().loc['WnvPresent'])"
   ]
  },
  {
   "cell_type": "code",
   "execution_count": 24,
   "metadata": {},
   "outputs": [
    {
     "data": {
      "text/plain": [
       "SeaLevel       0.006738\n",
       "StnPressure    0.007149\n",
       "WnvPresent     1.000000\n",
       "Name: WnvPresent, dtype: float64"
      ]
     },
     "execution_count": 24,
     "metadata": {},
     "output_type": "execute_result"
    }
   ],
   "source": [
    "# checking collinear terms against WnvPresent\n",
    "np.abs(df[['SeaLevel', 'StnPressure', 'WnvPresent']].corr().loc['WnvPresent'])"
   ]
  },
  {
   "cell_type": "code",
   "execution_count": 25,
   "metadata": {},
   "outputs": [
    {
     "data": {
      "text/plain": [
       "WetBulb        0.087295\n",
       "Tmax           0.056156\n",
       "Tmax_14        0.073485\n",
       "Tmax_28        0.082459\n",
       "Tmax_60        0.067110\n",
       "Tmin           0.078749\n",
       "Tmin_14        0.080009\n",
       "Tmin_28        0.110154\n",
       "Tmin_60        0.154747\n",
       "Tavg           0.070603\n",
       "Tavg_14        0.070628\n",
       "Tavg_28        0.097595\n",
       "Tavg_60        0.130006\n",
       "DewPoint       0.088737\n",
       "DewPoint_14    0.103341\n",
       "DewPoint_28    0.132170\n",
       "DewPoint_60    0.142533\n",
       "WnvPresent     1.000000\n",
       "Name: WnvPresent, dtype: float64"
      ]
     },
     "execution_count": 25,
     "metadata": {},
     "output_type": "execute_result"
    }
   ],
   "source": [
    "# checking collinear terms against WnvPresent\n",
    "np.abs(df[['WetBulb', 'Tmax', 'Tmax_14', 'Tmax_28', 'Tmax_60', 'Tmin', 'Tmin_14', 'Tmin_28', 'Tmin_60',\n",
    "           'Tavg', 'Tavg_14', 'Tavg_28', 'Tavg_60','DewPoint','DewPoint_14', 'DewPoint_28', 'DewPoint_60',\n",
    "           'WnvPresent']].corr().loc['WnvPresent'])"
   ]
  },
  {
   "cell_type": "markdown",
   "metadata": {},
   "source": [
    "We will then pick the features with higher (absolute) correlation vs presence of WNV to keep from the pairs:\n",
    "- ResultSpeed (0.048893)\n",
    "- StnPressure (0.007149)\n",
    "- DewPoint (0.087295) (including DewPoint's rolls)"
   ]
  },
  {
   "cell_type": "code",
   "execution_count": 26,
   "metadata": {},
   "outputs": [],
   "source": [
    "# dropping collinear terms with less correlation with target variable\n",
    "df = df.drop(columns=['AvgSpeed', 'SeaLevel', 'WetBulb', 'Tmax', 'Tmax_14', 'Tmax_28', 'Tmax_60',\n",
    "                      'Tmin', 'Tmin_14', 'Tmin_28', 'Tmin_60',\n",
    "                      'Tavg', 'Tavg_14', 'Tavg_28', 'Tavg_60'])"
   ]
  },
  {
   "cell_type": "code",
   "execution_count": 27,
   "metadata": {},
   "outputs": [
    {
     "data": {
      "text/plain": [
       "Index(['Date', 'Address', 'Block', 'Street', 'Trap', 'AddressNumberAndStreet',\n",
       "       'Latitude', 'Longitude', 'AddressAccuracy', 'NumMosquitos',\n",
       "       'WnvPresent', 'Month', 'Year', 'Weekday', 'Tot_Mos_Species', 'Station',\n",
       "       'DewPoint', 'PrecipTotal', 'StnPressure', 'ResultSpeed', 'ResultDir',\n",
       "       'Rain', 'PrecipTotal_14', 'PrecipTotal_28', 'PrecipTotal_60',\n",
       "       'DewPoint_14', 'DewPoint_28', 'DewPoint_60', 'Species_Others',\n",
       "       'Species_PIPIENS', 'Species_PIPIENS/RESTUANS', 'Species_RESTUANS',\n",
       "       'Day'],\n",
       "      dtype='object')"
      ]
     },
     "execution_count": 27,
     "metadata": {},
     "output_type": "execute_result"
    }
   ],
   "source": [
    "# verifying the changes\n",
    "df.columns"
   ]
  },
  {
   "cell_type": "markdown",
   "metadata": {},
   "source": [
    "### Finding location with high WnvPresent"
   ]
  },
  {
   "cell_type": "code",
   "execution_count": 28,
   "metadata": {},
   "outputs": [
    {
     "data": {
      "text/plain": [
       "Latitude   Longitude \n",
       "41.974689  -87.890615    29\n",
       "41.673408  -87.599862    15\n",
       "41.954690  -87.800991    15\n",
       "41.964242  -87.757639    14\n",
       "41.743402  -87.731435    11\n",
       "                         ..\n",
       "41.800737  -87.711880     1\n",
       "41.778748  -87.586427     1\n",
       "41.772846  -87.740029     1\n",
       "41.768388  -87.678649     1\n",
       "41.644612  -87.604498     1\n",
       "Name: Longitude, Length: 99, dtype: int64"
      ]
     },
     "execution_count": 28,
     "metadata": {},
     "output_type": "execute_result"
    }
   ],
   "source": [
    "# Find out coordinates with the highest WnvPresent\n",
    "train[train['WnvPresent'] == 1].groupby('Latitude')['Longitude'].value_counts().sort_values(ascending=False)"
   ]
  },
  {
   "cell_type": "code",
   "execution_count": 29,
   "metadata": {},
   "outputs": [],
   "source": [
    "# top 2 coordinates with high presence of WNV\n",
    "wnvpresent_lat_lon  = [(41.974689, -87.890615), (41.673408, -87.599862)]"
   ]
  },
  {
   "cell_type": "code",
   "execution_count": 30,
   "metadata": {},
   "outputs": [],
   "source": [
    "# Calculate the haversine distance from train data to coordiates with wnv persent area\n",
    "for i,area in enumerate(wnvpresent_lat_lon):\n",
    "    df['Dist_' + str(i)] = [haversine(row, (area),unit='mi') for row in zip(train['Latitude'],train['Longitude'])]\n",
    "    "
   ]
  },
  {
   "cell_type": "code",
   "execution_count": 31,
   "metadata": {},
   "outputs": [
    {
     "data": {
      "text/plain": [
       "Index(['Block', 'Trap', 'Latitude', 'Longitude', 'AddressAccuracy',\n",
       "       'NumMosquitos', 'WnvPresent', 'Month', 'Year', 'Tot_Mos_Species',\n",
       "       'Station', 'DewPoint', 'PrecipTotal', 'StnPressure', 'ResultSpeed',\n",
       "       'ResultDir', 'Rain', 'PrecipTotal_14', 'PrecipTotal_28',\n",
       "       'PrecipTotal_60', 'DewPoint_14', 'DewPoint_28', 'DewPoint_60',\n",
       "       'Species_Others', 'Species_PIPIENS', 'Species_PIPIENS/RESTUANS',\n",
       "       'Species_RESTUANS', 'Day', 'Dist_0', 'Dist_1'],\n",
       "      dtype='object')"
      ]
     },
     "execution_count": 31,
     "metadata": {},
     "output_type": "execute_result"
    }
   ],
   "source": [
    "# Display numeric data\n",
    "df._get_numeric_data().columns"
   ]
  },
  {
   "cell_type": "code",
   "execution_count": 32,
   "metadata": {},
   "outputs": [],
   "source": [
    "# features to include in model\n",
    "features = ['DewPoint', 'PrecipTotal', 'StnPressure', 'ResultSpeed', 'ResultDir', 'Rain',\n",
    "            'PrecipTotal_14', 'PrecipTotal_28', 'PrecipTotal_60', 'DewPoint_14', 'DewPoint_28','DewPoint_60',\n",
    "            'Species_Others', 'Species_PIPIENS', 'Species_PIPIENS/RESTUANS', 'Species_RESTUANS',\n",
    "            'Month', 'Day', 'Dist_0', 'Dist_1']"
   ]
  },
  {
   "cell_type": "code",
   "execution_count": 33,
   "metadata": {},
   "outputs": [],
   "source": [
    "X = df[features]\n",
    "y = df['WnvPresent']"
   ]
  },
  {
   "cell_type": "markdown",
   "metadata": {},
   "source": [
    "### Using SMOTE to handle the unbalanced data"
   ]
  },
  {
   "cell_type": "code",
   "execution_count": 34,
   "metadata": {},
   "outputs": [],
   "source": [
    "from imblearn.over_sampling import SMOTE\n",
    "smote = SMOTE()\n",
    "X, y = smote.fit_resample(X, y) "
   ]
  },
  {
   "cell_type": "markdown",
   "metadata": {},
   "source": [
    "### Modeling"
   ]
  },
  {
   "cell_type": "markdown",
   "metadata": {},
   "source": [
    "#### Random Forest Classifier"
   ]
  },
  {
   "cell_type": "code",
   "execution_count": 35,
   "metadata": {},
   "outputs": [],
   "source": [
    "from sklearn.model_selection import train_test_split, cross_val_score\n",
    "from sklearn.ensemble import RandomForestClassifier"
   ]
  },
  {
   "cell_type": "code",
   "execution_count": 36,
   "metadata": {},
   "outputs": [
    {
     "data": {
      "text/plain": [
       "RandomForestClassifier(bootstrap=True, ccp_alpha=0.0, class_weight='balanced',\n",
       "                       criterion='gini', max_depth=None, max_features='sqrt',\n",
       "                       max_leaf_nodes=None, max_samples=None,\n",
       "                       min_impurity_decrease=0.0, min_impurity_split=None,\n",
       "                       min_samples_leaf=5, min_samples_split=2,\n",
       "                       min_weight_fraction_leaf=0.0, n_estimators=1000,\n",
       "                       n_jobs=-1, oob_score=False, random_state=8, verbose=0,\n",
       "                       warm_start=False)"
      ]
     },
     "execution_count": 36,
     "metadata": {},
     "output_type": "execute_result"
    }
   ],
   "source": [
    "# initiating and fitting \n",
    "rfc = RandomForestClassifier(class_weight='balanced', max_features='sqrt',\n",
    "                             min_samples_leaf=5, n_estimators=1000, n_jobs=-1, random_state=8)\n",
    "rfc.fit(X, y)\n"
   ]
  },
  {
   "cell_type": "code",
   "execution_count": 37,
   "metadata": {},
   "outputs": [
    {
     "data": {
      "text/html": [
       "<div>\n",
       "<style scoped>\n",
       "    .dataframe tbody tr th:only-of-type {\n",
       "        vertical-align: middle;\n",
       "    }\n",
       "\n",
       "    .dataframe tbody tr th {\n",
       "        vertical-align: top;\n",
       "    }\n",
       "\n",
       "    .dataframe thead th {\n",
       "        text-align: right;\n",
       "    }\n",
       "</style>\n",
       "<table border=\"1\" class=\"dataframe\">\n",
       "  <thead>\n",
       "    <tr style=\"text-align: right;\">\n",
       "      <th></th>\n",
       "      <th>feature</th>\n",
       "      <th>importance</th>\n",
       "    </tr>\n",
       "  </thead>\n",
       "  <tbody>\n",
       "    <tr>\n",
       "      <td>11</td>\n",
       "      <td>DewPoint_60</td>\n",
       "      <td>0.120441</td>\n",
       "    </tr>\n",
       "    <tr>\n",
       "      <td>17</td>\n",
       "      <td>Day</td>\n",
       "      <td>0.103546</td>\n",
       "    </tr>\n",
       "    <tr>\n",
       "      <td>15</td>\n",
       "      <td>Species_RESTUANS</td>\n",
       "      <td>0.097625</td>\n",
       "    </tr>\n",
       "    <tr>\n",
       "      <td>18</td>\n",
       "      <td>Dist_0</td>\n",
       "      <td>0.091602</td>\n",
       "    </tr>\n",
       "    <tr>\n",
       "      <td>19</td>\n",
       "      <td>Dist_1</td>\n",
       "      <td>0.080730</td>\n",
       "    </tr>\n",
       "    <tr>\n",
       "      <td>10</td>\n",
       "      <td>DewPoint_28</td>\n",
       "      <td>0.064095</td>\n",
       "    </tr>\n",
       "    <tr>\n",
       "      <td>14</td>\n",
       "      <td>Species_PIPIENS/RESTUANS</td>\n",
       "      <td>0.054754</td>\n",
       "    </tr>\n",
       "    <tr>\n",
       "      <td>16</td>\n",
       "      <td>Month</td>\n",
       "      <td>0.047996</td>\n",
       "    </tr>\n",
       "    <tr>\n",
       "      <td>9</td>\n",
       "      <td>DewPoint_14</td>\n",
       "      <td>0.046940</td>\n",
       "    </tr>\n",
       "    <tr>\n",
       "      <td>13</td>\n",
       "      <td>Species_PIPIENS</td>\n",
       "      <td>0.044584</td>\n",
       "    </tr>\n",
       "    <tr>\n",
       "      <td>3</td>\n",
       "      <td>ResultSpeed</td>\n",
       "      <td>0.040102</td>\n",
       "    </tr>\n",
       "    <tr>\n",
       "      <td>7</td>\n",
       "      <td>PrecipTotal_28</td>\n",
       "      <td>0.039236</td>\n",
       "    </tr>\n",
       "    <tr>\n",
       "      <td>8</td>\n",
       "      <td>PrecipTotal_60</td>\n",
       "      <td>0.035143</td>\n",
       "    </tr>\n",
       "    <tr>\n",
       "      <td>2</td>\n",
       "      <td>StnPressure</td>\n",
       "      <td>0.025163</td>\n",
       "    </tr>\n",
       "    <tr>\n",
       "      <td>0</td>\n",
       "      <td>DewPoint</td>\n",
       "      <td>0.025135</td>\n",
       "    </tr>\n",
       "    <tr>\n",
       "      <td>6</td>\n",
       "      <td>PrecipTotal_14</td>\n",
       "      <td>0.023718</td>\n",
       "    </tr>\n",
       "    <tr>\n",
       "      <td>4</td>\n",
       "      <td>ResultDir</td>\n",
       "      <td>0.021070</td>\n",
       "    </tr>\n",
       "    <tr>\n",
       "      <td>12</td>\n",
       "      <td>Species_Others</td>\n",
       "      <td>0.018550</td>\n",
       "    </tr>\n",
       "    <tr>\n",
       "      <td>1</td>\n",
       "      <td>PrecipTotal</td>\n",
       "      <td>0.014365</td>\n",
       "    </tr>\n",
       "  </tbody>\n",
       "</table>\n",
       "</div>"
      ],
      "text/plain": [
       "                     feature  importance\n",
       "11               DewPoint_60    0.120441\n",
       "17                       Day    0.103546\n",
       "15          Species_RESTUANS    0.097625\n",
       "18                    Dist_0    0.091602\n",
       "19                    Dist_1    0.080730\n",
       "10               DewPoint_28    0.064095\n",
       "14  Species_PIPIENS/RESTUANS    0.054754\n",
       "16                     Month    0.047996\n",
       "9                DewPoint_14    0.046940\n",
       "13           Species_PIPIENS    0.044584\n",
       "3                ResultSpeed    0.040102\n",
       "7             PrecipTotal_28    0.039236\n",
       "8             PrecipTotal_60    0.035143\n",
       "2                StnPressure    0.025163\n",
       "0                   DewPoint    0.025135\n",
       "6             PrecipTotal_14    0.023718\n",
       "4                  ResultDir    0.021070\n",
       "12            Species_Others    0.018550\n",
       "1                PrecipTotal    0.014365"
      ]
     },
     "execution_count": 37,
     "metadata": {},
     "output_type": "execute_result"
    }
   ],
   "source": [
    "# looking at the important features\n",
    "feature_import = rfc.feature_importances_\n",
    "pd.DataFrame(columns=['feature', 'importance'], \n",
    "             data=list(zip(features, feature_import))).sort_values('importance',ascending=False).head(19)\n"
   ]
  },
  {
   "cell_type": "markdown",
   "metadata": {},
   "source": [
    "#### SVM"
   ]
  },
  {
   "cell_type": "code",
   "execution_count": 38,
   "metadata": {},
   "outputs": [],
   "source": [
    "from sklearn.svm import SVC\n",
    "from sklearn.preprocessing import StandardScaler"
   ]
  },
  {
   "cell_type": "code",
   "execution_count": 39,
   "metadata": {},
   "outputs": [],
   "source": [
    "# initiating standard scalar\n",
    "ss = StandardScaler()"
   ]
  },
  {
   "cell_type": "code",
   "execution_count": 40,
   "metadata": {},
   "outputs": [],
   "source": [
    "# fit and transform\n",
    "X = ss.fit_transform(X)"
   ]
  },
  {
   "cell_type": "code",
   "execution_count": 41,
   "metadata": {},
   "outputs": [],
   "source": [
    "# iniating\n",
    "svm = SVC(probability=True, random_state=8)"
   ]
  },
  {
   "cell_type": "code",
   "execution_count": 42,
   "metadata": {},
   "outputs": [
    {
     "data": {
      "text/plain": [
       "SVC(C=1.0, break_ties=False, cache_size=200, class_weight=None, coef0=0.0,\n",
       "    decision_function_shape='ovr', degree=3, gamma='scale', kernel='rbf',\n",
       "    max_iter=-1, probability=True, random_state=8, shrinking=True, tol=0.001,\n",
       "    verbose=False)"
      ]
     },
     "execution_count": 42,
     "metadata": {},
     "output_type": "execute_result"
    }
   ],
   "source": [
    "# fitting\n",
    "svm.fit(X,y)"
   ]
  },
  {
   "cell_type": "markdown",
   "metadata": {},
   "source": [
    "## Handling the Test Data \n"
   ]
  },
  {
   "cell_type": "code",
   "execution_count": 43,
   "metadata": {},
   "outputs": [],
   "source": [
    "# Assigning nearest station to each row, changing date object type and merging with the weather data \n",
    "# to align with df\n",
    "test['Station'] = [closest_point(x) for x in test[['Latitude','Longitude']].values]\n",
    "test['Date'] = pd.to_datetime(test['Date'])\n",
    "test = test.merge(weather, on=['Date','Station'])\n",
    "test = pd.get_dummies(test, columns=['Species'])\n",
    "test['Month'] = test['Date'].dt.month\n",
    "test[\"Day\"] = test['Date'].dt.dayofyear"
   ]
  },
  {
   "cell_type": "code",
   "execution_count": 44,
   "metadata": {},
   "outputs": [],
   "source": [
    "# Repeat for test data\n",
    "for i,area in enumerate(wnvpresent_lat_lon):\n",
    "    test['Dist_' + str(i)] = [haversine(row, (area),unit='mi') for row in zip(test['Latitude'],test['Longitude'])]"
   ]
  },
  {
   "cell_type": "code",
   "execution_count": 45,
   "metadata": {},
   "outputs": [],
   "source": [
    "# Make match above\n",
    "X_test = test[features]"
   ]
  },
  {
   "cell_type": "markdown",
   "metadata": {},
   "source": [
    "## Predictions"
   ]
  },
  {
   "cell_type": "code",
   "execution_count": 46,
   "metadata": {},
   "outputs": [],
   "source": [
    "def preds(model, X_test):\n",
    "    if model == 'rfc':\n",
    "        pred = rfc.predict_proba(X_test)\n",
    "        submission = pd.DataFrame(columns=['Id', 'WnvPresent'], data=list(zip(test['Id'], pred)))\n",
    "        submission.WnvPresent = submission['WnvPresent'].map(lambda x: x[1])\n",
    "        submission.to_csv('submission_rfc_new.csv',index=False)        \n",
    "        \n",
    "    elif model == 'svm':\n",
    "        pred = svm.predict_proba(ss.transform(X_test))\n",
    "        submission = pd.DataFrame(columns=['Id', 'WnvPresent'], data=list(zip(test['Id'], pred)))\n",
    "        submission.WnvPresent = submission['WnvPresent'].map(lambda x: x[1])\n",
    "        submission.to_csv('submission_svm_new.csv',index=False)        \n",
    "    return pred"
   ]
  },
  {
   "cell_type": "code",
   "execution_count": 47,
   "metadata": {},
   "outputs": [],
   "source": [
    "# Whatever model you decided on:\n",
    "predictions = svm.predict(ss.transform(X_test))"
   ]
  },
  {
   "cell_type": "code",
   "execution_count": 48,
   "metadata": {},
   "outputs": [],
   "source": [
    "predictions_rfc = preds('rfc', X_test)\n",
    "predictions_svm = preds('svm', X_test)"
   ]
  },
  {
   "cell_type": "markdown",
   "metadata": {},
   "source": [
    "## Kaggle Score"
   ]
  },
  {
   "cell_type": "markdown",
   "metadata": {},
   "source": [
    "We managed to obtain a better Kaggle score using RandomForectClassifer (0.75095) vs SupportVectorMachine (0.70675)."
   ]
  },
  {
   "cell_type": "code",
   "execution_count": null,
   "metadata": {},
   "outputs": [],
   "source": []
  }
 ],
 "metadata": {
  "kernelspec": {
   "display_name": "Python 3",
   "language": "python",
   "name": "python3"
  },
  "language_info": {
   "codemirror_mode": {
    "name": "ipython",
    "version": 3
   },
   "file_extension": ".py",
   "mimetype": "text/x-python",
   "name": "python",
   "nbconvert_exporter": "python",
   "pygments_lexer": "ipython3",
   "version": "3.7.4"
  }
 },
 "nbformat": 4,
 "nbformat_minor": 2
}
