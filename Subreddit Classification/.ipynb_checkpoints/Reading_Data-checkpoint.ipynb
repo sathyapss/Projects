{
 "cells": [
  {
   "cell_type": "markdown",
   "metadata": {},
   "source": [
    "# Reading the data from API and load it into CSV file"
   ]
  },
  {
   "cell_type": "markdown",
   "metadata": {},
   "source": [
    "This code reads the data from the subreddits and load into the csv files"
   ]
  },
  {
   "cell_type": "code",
   "execution_count": 4,
   "metadata": {},
   "outputs": [],
   "source": [
    "import requests\n",
    "import pandas as pd\n",
    "import time\n",
    "import random"
   ]
  },
  {
   "cell_type": "markdown",
   "metadata": {},
   "source": [
    "# The first subreddit the OutofLoop"
   ]
  },
  {
   "cell_type": "code",
   "execution_count": 5,
   "metadata": {},
   "outputs": [],
   "source": [
    "url = 'https://www.reddit.com/r/OutOfTheLoop.json'"
   ]
  },
  {
   "cell_type": "code",
   "execution_count": 6,
   "metadata": {},
   "outputs": [],
   "source": [
    "res = requests.get(url, headers={'User-agent': 'Pony Inc 1.0'})"
   ]
  },
  {
   "cell_type": "code",
   "execution_count": 9,
   "metadata": {},
   "outputs": [
    {
     "data": {
      "text/plain": [
       "200"
      ]
     },
     "execution_count": 9,
     "metadata": {},
     "output_type": "execute_result"
    }
   ],
   "source": [
    "res.status_code"
   ]
  },
  {
   "cell_type": "code",
   "execution_count": 10,
   "metadata": {},
   "outputs": [
    {
     "name": "stdout",
     "output_type": "stream",
     "text": [
      "https://www.reddit.com/r/OutOfTheLoop.json\n",
      "4\n",
      "https://www.reddit.com/r/OutOfTheLoop.json?after=t3_euey78\n",
      "3\n",
      "https://www.reddit.com/r/OutOfTheLoop.json?after=t3_etly84\n",
      "2\n",
      "https://www.reddit.com/r/OutOfTheLoop.json?after=t3_esc80v\n",
      "6\n",
      "https://www.reddit.com/r/OutOfTheLoop.json?after=t3_er8sub\n",
      "6\n",
      "https://www.reddit.com/r/OutOfTheLoop.json?after=t3_eqiqmm\n",
      "4\n",
      "https://www.reddit.com/r/OutOfTheLoop.json?after=t3_epkety\n",
      "5\n",
      "https://www.reddit.com/r/OutOfTheLoop.json?after=t3_eo9yob\n",
      "3\n",
      "https://www.reddit.com/r/OutOfTheLoop.json\n",
      "3\n",
      "https://www.reddit.com/r/OutOfTheLoop.json?after=t3_euey78\n",
      "4\n",
      "https://www.reddit.com/r/OutOfTheLoop.json?after=t3_etly84\n",
      "6\n",
      "https://www.reddit.com/r/OutOfTheLoop.json?after=t3_esc80v\n",
      "3\n",
      "https://www.reddit.com/r/OutOfTheLoop.json?after=t3_er8sub\n",
      "5\n",
      "https://www.reddit.com/r/OutOfTheLoop.json?after=t3_eqiqmm\n",
      "6\n",
      "https://www.reddit.com/r/OutOfTheLoop.json?after=t3_epkety\n",
      "2\n",
      "https://www.reddit.com/r/OutOfTheLoop.json?after=t3_eo9yob\n",
      "6\n",
      "https://www.reddit.com/r/OutOfTheLoop.json\n",
      "3\n",
      "https://www.reddit.com/r/OutOfTheLoop.json?after=t3_euey78\n",
      "6\n",
      "https://www.reddit.com/r/OutOfTheLoop.json?after=t3_etly84\n",
      "4\n",
      "https://www.reddit.com/r/OutOfTheLoop.json?after=t3_esc80v\n",
      "4\n",
      "https://www.reddit.com/r/OutOfTheLoop.json?after=t3_er8sub\n",
      "5\n",
      "https://www.reddit.com/r/OutOfTheLoop.json?after=t3_eqiqmm\n",
      "3\n",
      "https://www.reddit.com/r/OutOfTheLoop.json?after=t3_epkety\n",
      "6\n",
      "https://www.reddit.com/r/OutOfTheLoop.json?after=t3_eo9yob\n",
      "2\n",
      "https://www.reddit.com/r/OutOfTheLoop.json\n",
      "5\n",
      "https://www.reddit.com/r/OutOfTheLoop.json?after=t3_euey78\n",
      "4\n",
      "https://www.reddit.com/r/OutOfTheLoop.json?after=t3_etly84\n",
      "4\n",
      "https://www.reddit.com/r/OutOfTheLoop.json?after=t3_esc80v\n",
      "2\n",
      "https://www.reddit.com/r/OutOfTheLoop.json?after=t3_er8sub\n",
      "6\n",
      "https://www.reddit.com/r/OutOfTheLoop.json?after=t3_eqiqmm\n",
      "6\n",
      "https://www.reddit.com/r/OutOfTheLoop.json?after=t3_epkety\n",
      "4\n",
      "https://www.reddit.com/r/OutOfTheLoop.json?after=t3_eo9yob\n",
      "3\n",
      "https://www.reddit.com/r/OutOfTheLoop.json\n",
      "6\n",
      "https://www.reddit.com/r/OutOfTheLoop.json?after=t3_euey78\n",
      "5\n",
      "https://www.reddit.com/r/OutOfTheLoop.json?after=t3_etly84\n",
      "5\n",
      "https://www.reddit.com/r/OutOfTheLoop.json?after=t3_esc80v\n",
      "5\n",
      "https://www.reddit.com/r/OutOfTheLoop.json?after=t3_er8sub\n",
      "2\n",
      "https://www.reddit.com/r/OutOfTheLoop.json?after=t3_eqiqmm\n",
      "3\n",
      "https://www.reddit.com/r/OutOfTheLoop.json?after=t3_epkety\n",
      "5\n",
      "https://www.reddit.com/r/OutOfTheLoop.json?after=t3_eo9yob\n",
      "6\n",
      "https://www.reddit.com/r/OutOfTheLoop.json\n",
      "2\n",
      "https://www.reddit.com/r/OutOfTheLoop.json?after=t3_euey78\n",
      "4\n",
      "https://www.reddit.com/r/OutOfTheLoop.json?after=t3_etly84\n",
      "4\n",
      "https://www.reddit.com/r/OutOfTheLoop.json?after=t3_esc80v\n",
      "3\n",
      "https://www.reddit.com/r/OutOfTheLoop.json?after=t3_er8sub\n",
      "5\n",
      "https://www.reddit.com/r/OutOfTheLoop.json?after=t3_eqiqmm\n",
      "6\n",
      "https://www.reddit.com/r/OutOfTheLoop.json?after=t3_epkety\n",
      "5\n",
      "https://www.reddit.com/r/OutOfTheLoop.json?after=t3_eo9yob\n",
      "5\n",
      "https://www.reddit.com/r/OutOfTheLoop.json\n",
      "2\n",
      "https://www.reddit.com/r/OutOfTheLoop.json?after=t3_euey78\n",
      "4\n",
      "https://www.reddit.com/r/OutOfTheLoop.json?after=t3_etly84\n",
      "4\n",
      "https://www.reddit.com/r/OutOfTheLoop.json?after=t3_esc80v\n",
      "6\n",
      "https://www.reddit.com/r/OutOfTheLoop.json?after=t3_er8sub\n",
      "4\n",
      "https://www.reddit.com/r/OutOfTheLoop.json?after=t3_eqiqmm\n",
      "6\n",
      "https://www.reddit.com/r/OutOfTheLoop.json?after=t3_epkety\n",
      "2\n",
      "https://www.reddit.com/r/OutOfTheLoop.json?after=t3_eo9yob\n",
      "3\n",
      "https://www.reddit.com/r/OutOfTheLoop.json\n",
      "4\n",
      "https://www.reddit.com/r/OutOfTheLoop.json?after=t3_euey78\n",
      "5\n",
      "https://www.reddit.com/r/OutOfTheLoop.json?after=t3_etly84\n",
      "5\n",
      "https://www.reddit.com/r/OutOfTheLoop.json?after=t3_esc80v\n",
      "5\n",
      "https://www.reddit.com/r/OutOfTheLoop.json?after=t3_er8sub\n",
      "6\n",
      "https://www.reddit.com/r/OutOfTheLoop.json?after=t3_eqiqmm\n",
      "4\n",
      "https://www.reddit.com/r/OutOfTheLoop.json?after=t3_epkety\n",
      "4\n",
      "https://www.reddit.com/r/OutOfTheLoop.json?after=t3_eo9yob\n",
      "4\n",
      "https://www.reddit.com/r/OutOfTheLoop.json\n",
      "5\n",
      "https://www.reddit.com/r/OutOfTheLoop.json?after=t3_euey78\n",
      "4\n",
      "https://www.reddit.com/r/OutOfTheLoop.json?after=t3_etly84\n",
      "5\n",
      "https://www.reddit.com/r/OutOfTheLoop.json?after=t3_esc80v\n",
      "3\n",
      "https://www.reddit.com/r/OutOfTheLoop.json?after=t3_er8sub\n",
      "6\n",
      "https://www.reddit.com/r/OutOfTheLoop.json?after=t3_eqiqmm\n",
      "3\n",
      "https://www.reddit.com/r/OutOfTheLoop.json?after=t3_epkety\n",
      "6\n",
      "https://www.reddit.com/r/OutOfTheLoop.json?after=t3_eo9yob\n",
      "4\n",
      "https://www.reddit.com/r/OutOfTheLoop.json\n",
      "3\n",
      "https://www.reddit.com/r/OutOfTheLoop.json?after=t3_euey78\n",
      "5\n",
      "https://www.reddit.com/r/OutOfTheLoop.json?after=t3_etly84\n",
      "6\n",
      "https://www.reddit.com/r/OutOfTheLoop.json?after=t3_esc80v\n",
      "2\n",
      "https://www.reddit.com/r/OutOfTheLoop.json?after=t3_er8sub\n",
      "2\n",
      "https://www.reddit.com/r/OutOfTheLoop.json?after=t3_eqiqmm\n",
      "5\n",
      "https://www.reddit.com/r/OutOfTheLoop.json?after=t3_epkety\n",
      "6\n",
      "https://www.reddit.com/r/OutOfTheLoop.json?after=t3_eo9yob\n",
      "2\n",
      "https://www.reddit.com/r/OutOfTheLoop.json\n",
      "2\n",
      "https://www.reddit.com/r/OutOfTheLoop.json?after=t3_euey78\n",
      "3\n",
      "https://www.reddit.com/r/OutOfTheLoop.json?after=t3_etly84\n",
      "3\n",
      "https://www.reddit.com/r/OutOfTheLoop.json?after=t3_esc80v\n",
      "6\n",
      "https://www.reddit.com/r/OutOfTheLoop.json?after=t3_er8sub\n",
      "3\n",
      "https://www.reddit.com/r/OutOfTheLoop.json?after=t3_eqiqmm\n",
      "3\n",
      "https://www.reddit.com/r/OutOfTheLoop.json?after=t3_epkety\n",
      "6\n",
      "https://www.reddit.com/r/OutOfTheLoop.json?after=t3_eo9yob\n",
      "4\n",
      "https://www.reddit.com/r/OutOfTheLoop.json\n",
      "2\n",
      "https://www.reddit.com/r/OutOfTheLoop.json?after=t3_euey78\n",
      "2\n",
      "https://www.reddit.com/r/OutOfTheLoop.json?after=t3_etly84\n",
      "6\n",
      "https://www.reddit.com/r/OutOfTheLoop.json?after=t3_esc80v\n",
      "5\n",
      "https://www.reddit.com/r/OutOfTheLoop.json?after=t3_er8sub\n",
      "3\n",
      "https://www.reddit.com/r/OutOfTheLoop.json?after=t3_eqiqmm\n",
      "5\n",
      "https://www.reddit.com/r/OutOfTheLoop.json?after=t3_epkety\n",
      "5\n",
      "https://www.reddit.com/r/OutOfTheLoop.json?after=t3_eo9yob\n",
      "3\n",
      "https://www.reddit.com/r/OutOfTheLoop.json\n",
      "2\n",
      "https://www.reddit.com/r/OutOfTheLoop.json?after=t3_euey78\n",
      "6\n",
      "https://www.reddit.com/r/OutOfTheLoop.json?after=t3_etly84\n",
      "5\n",
      "https://www.reddit.com/r/OutOfTheLoop.json?after=t3_esc80v\n",
      "5\n"
     ]
    }
   ],
   "source": [
    "posts = []\n",
    "after = None\n",
    "for a in range(100):\n",
    "    if after == None:\n",
    "        current_url = url\n",
    "    else:\n",
    "        current_url = url + '?after=' + after\n",
    "    print(current_url)\n",
    "    res = requests.get(current_url, headers={'User-agent': 'Pony Inc 1.0'})\n",
    "    \n",
    "    if res.status_code != 200:\n",
    "        print('Status error', res.status_code)\n",
    "        break\n",
    "    \n",
    "    current_dict = res.json()\n",
    "    current_posts = [p['data'] for p in current_dict['data']['children']]\n",
    "    posts.extend(current_posts)\n",
    "    after = current_dict['data']['after']\n",
    "    \n",
    "\n",
    "\n",
    "    # generate a random sleep duration to look more 'natural'\n",
    "    sleep_duration = random.randint(2,6)\n",
    "    print(sleep_duration)\n",
    "    time.sleep(sleep_duration)"
   ]
  },
  {
   "cell_type": "code",
   "execution_count": 12,
   "metadata": {},
   "outputs": [],
   "source": [
    "pd.DataFrame(posts).to_csv('Outofloop.csv', index = False)"
   ]
  },
  {
   "cell_type": "markdown",
   "metadata": {},
   "source": [
    "# The second Subreddit Cooking"
   ]
  },
  {
   "cell_type": "code",
   "execution_count": 7,
   "metadata": {},
   "outputs": [],
   "source": [
    "url = 'https://www.reddit.com/r/Cooking.json'"
   ]
  },
  {
   "cell_type": "code",
   "execution_count": 8,
   "metadata": {},
   "outputs": [],
   "source": [
    "res = requests.get(url, headers={'User-agent': 'Pony Inc 1.0'})"
   ]
  },
  {
   "cell_type": "code",
   "execution_count": 9,
   "metadata": {},
   "outputs": [
    {
     "data": {
      "text/plain": [
       "200"
      ]
     },
     "execution_count": 9,
     "metadata": {},
     "output_type": "execute_result"
    }
   ],
   "source": [
    "res.status_code"
   ]
  },
  {
   "cell_type": "code",
   "execution_count": 10,
   "metadata": {},
   "outputs": [
    {
     "name": "stdout",
     "output_type": "stream",
     "text": [
      "https://www.reddit.com/r/Cooking.json\n",
      "4\n"
     ]
    }
   ],
   "source": [
    "posts = []\n",
    "after = None\n",
    "for a in range(100):\n",
    "    if after == None:\n",
    "        current_url = url\n",
    "    else:\n",
    "        current_url = url + '?after=' + after\n",
    "    print(current_url)\n",
    "    res = requests.get(current_url, headers={'User-agent': 'Pony Inc 1.0'})\n",
    "    \n",
    "    if res.status_code != 200:\n",
    "        print('Status error', res.status_code)\n",
    "        break\n",
    "    \n",
    "    current_dict = res.json()\n",
    "    current_posts = [p['data'] for p in current_dict['data']['children']]\n",
    "    posts.extend(current_posts)\n",
    "    after = current_dict['data']['after']\n",
    "    \n",
    "\n",
    "\n",
    "    # generate a random sleep duration to look more 'natural'\n",
    "    sleep_duration = random.randint(2,6)\n",
    "    print(sleep_duration)\n",
    "    time.sleep(sleep_duration)"
   ]
  },
  {
   "cell_type": "code",
   "execution_count": null,
   "metadata": {},
   "outputs": [],
   "source": [
    "pd.DataFrame(posts).to_csv('Cooking.csv', index = False)"
   ]
  }
 ],
 "metadata": {
  "kernelspec": {
   "display_name": "Python 3",
   "language": "python",
   "name": "python3"
  },
  "language_info": {
   "codemirror_mode": {
    "name": "ipython",
    "version": 3
   },
   "file_extension": ".py",
   "mimetype": "text/x-python",
   "name": "python",
   "nbconvert_exporter": "python",
   "pygments_lexer": "ipython3",
   "version": "3.7.4"
  }
 },
 "nbformat": 4,
 "nbformat_minor": 2
}
