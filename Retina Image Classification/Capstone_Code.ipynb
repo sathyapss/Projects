{
  "nbformat": 4,
  "nbformat_minor": 0,
  "metadata": {
    "colab": {
      "name": "Capstone Code.ipynb",
      "provenance": [],
      "collapsed_sections": [],
      "toc_visible": true,
      "machine_shape": "hm"
    },
    "kernelspec": {
      "name": "python3",
      "display_name": "Python 3"
    },
    "accelerator": "GPU"
  },
  "cells": [
    {
      "cell_type": "markdown",
      "metadata": {
        "id": "tmnM_MlsM9mF",
        "colab_type": "text"
      },
      "source": [
        "**APTOS 2019 Blindness Detection**\n",
        "\n"
      ]
    },
    {
      "cell_type": "markdown",
      "metadata": {
        "id": "p3fiL0ClNLF-",
        "colab_type": "text"
      },
      "source": [
        "**Import the train image files mountted from the google drive**"
      ]
    },
    {
      "cell_type": "code",
      "metadata": {
        "id": "stq_JPYuY68Y",
        "colab_type": "code",
        "colab": {}
      },
      "source": [
        "from google.colab import drive\n",
        "drive.mount('/content/drive',force_remount=True)"
      ],
      "execution_count": 0,
      "outputs": []
    },
    {
      "cell_type": "markdown",
      "metadata": {
        "id": "hFei62ccNcwD",
        "colab_type": "text"
      },
      "source": [
        "Read the image files from the training image directory and resize the image to standard 224 X 224 image size and load rthe image to the array"
      ]
    },
    {
      "cell_type": "markdown",
      "metadata": {
        "id": "HeIW3rn_Z5Ws",
        "colab_type": "text"
      },
      "source": [
        "**Select Standardized Photo Size**\n",
        "\n"
      ]
    },
    {
      "cell_type": "markdown",
      "metadata": {
        "id": "cf4E2Eq4Z7UL",
        "colab_type": "text"
      },
      "source": [
        "The photos will have to be reshaped prior to modeling so that all images have the same shape. This is often a small square image.\n",
        "\n",
        "Smaller inputs mean a model that is faster to train, and typically this concern dominates the choice of image size. In this case, choose a fixed size of 224×224 pixels."
      ]
    },
    {
      "cell_type": "markdown",
      "metadata": {
        "id": "MQ1j9ugpa1Vd",
        "colab_type": "text"
      },
      "source": [
        "**Preparing  Training DataSet**"
      ]
    },
    {
      "cell_type": "markdown",
      "metadata": {
        "id": "iibwu0TJaqwt",
        "colab_type": "text"
      },
      "source": [
        "We load all of the images, reshape them, and store them as a single NumPy array. \n",
        "\n",
        "The example below uses the Keras image processing API to load all 3662 photos in the training dataset and reshapes them to 224×224 square photos. The label is also determined for each photo based on the filenames. A tuple of photos and labels is then saved."
      ]
    },
    {
      "cell_type": "code",
      "metadata": {
        "id": "FtxJDdnsJc-Z",
        "colab_type": "code",
        "colab": {}
      },
      "source": [
        "# load libraries\n",
        "from os import listdir\n",
        "from numpy import asarray\n",
        "import pandas as pd\n",
        "import numpy as np\n",
        "from keras.preprocessing.image import load_img\n",
        "from keras.preprocessing.image import img_to_array\n",
        "\n",
        "from PIL import Image\n",
        "import os\n",
        "from keras.preprocessing.image import ImageDataGenerator"
      ],
      "execution_count": 0,
      "outputs": []
    },
    {
      "cell_type": "code",
      "metadata": {
        "id": "RxEDBpG8_Hgu",
        "colab_type": "code",
        "colab": {}
      },
      "source": [
        "# define location of dataset\n",
        "folder = '/content/drive/My Drive/Capstone/Data/train_images/'\n",
        "photos, labels = list(), list()\n",
        "\n",
        "# enumerate files in the directory\n",
        "for file in listdir(folder):\n",
        "    if file ==  '.DS_Store':\n",
        "        continue\n",
        "    photo = img_to_array(load_img(folder + file, target_size=(224, 224)))\n",
        "\n",
        "   # photo = img_to_array(photo)\n",
        "    photos.append(photo)\n",
        "    labels.append(file.replace('.png',''))"
      ],
      "execution_count": 0,
      "outputs": []
    },
    {
      "cell_type": "code",
      "metadata": {
        "id": "9OGk_14QC3TQ",
        "colab_type": "code",
        "outputId": "7f8ca872-a95b-43f6-ac63-8af7a11ff902",
        "colab": {
          "base_uri": "https://localhost:8080/",
          "height": 34
        }
      },
      "source": [
        "photos[0].shape"
      ],
      "execution_count": 13,
      "outputs": [
        {
          "output_type": "execute_result",
          "data": {
            "text/plain": [
              "(3662, 224, 224, 3)"
            ]
          },
          "metadata": {
            "tags": []
          },
          "execution_count": 13
        }
      ]
    },
    {
      "cell_type": "code",
      "metadata": {
        "id": "Qa8JxihAmC16",
        "colab_type": "code",
        "colab": {}
      },
      "source": [
        "photos = asarray(photos)"
      ],
      "execution_count": 0,
      "outputs": []
    },
    {
      "cell_type": "markdown",
      "metadata": {
        "id": "2ZTtV8JmefI_",
        "colab_type": "text"
      },
      "source": [
        "**Preparing Test DataSet**"
      ]
    },
    {
      "cell_type": "code",
      "metadata": {
        "id": "V47U4ArqGLws",
        "colab_type": "code",
        "colab": {}
      },
      "source": [
        "# define location of dataset for test images\n",
        "folder = '/content/drive/My Drive/Capstone/Data/test_images/'\n",
        "photos_test, labels_test = list(), list()\n",
        "\n",
        "# enumerate files in the directory\n",
        "for file in listdir(folder):\n",
        "    if file ==  '.DS_Store':\n",
        "        continue\n",
        "    photo = img_to_array(load_img(folder + file, target_size=(224, 224)))\n",
        "\n",
        "   # photo = img_to_array(photo)\n",
        "    photos_test.append(photo)\n",
        "    labels_test.append(file.replace('.png',''))\n",
        "photos_test = asarray(photos_test)"
      ],
      "execution_count": 0,
      "outputs": []
    },
    {
      "cell_type": "code",
      "metadata": {
        "id": "tJHeNiSo2pky",
        "colab_type": "code",
        "colab": {}
      },
      "source": [
        "import tensorflow as tf\n",
        "from keras.utils import np_utils\n",
        "from keras.utils import to_categorical\n",
        "from tensorflow.python.keras.layers import Dense, GlobalAveragePooling2D, Dropout,Flatten, Input, Conv2D, MaxPooling2D, Dropout, Flatten,Activation\n",
        "from tensorflow.python.keras.models import Model,load_model,Sequential\n",
        "\n",
        "from sklearn.model_selection import train_test_split\n",
        "\n",
        "import matplotlib.pyplot as plt"
      ],
      "execution_count": 0,
      "outputs": []
    },
    {
      "cell_type": "markdown",
      "metadata": {
        "id": "Tfq9nd4NnVzj",
        "colab_type": "text"
      },
      "source": [
        "Load the Training CSV file with Diagnosis Code and File name"
      ]
    },
    {
      "cell_type": "code",
      "metadata": {
        "id": "IuMBgT794BFS",
        "colab_type": "code",
        "colab": {}
      },
      "source": [
        "df =pd.read_csv('/content/drive/My Drive/Capstone/Data/train.csv')"
      ],
      "execution_count": 0,
      "outputs": []
    },
    {
      "cell_type": "markdown",
      "metadata": {
        "id": "PV4kEHSXnhsP",
        "colab_type": "text"
      },
      "source": [
        " Prediction Categorical Column"
      ]
    },
    {
      "cell_type": "code",
      "metadata": {
        "id": "FOtY3Ui74k7E",
        "colab_type": "code",
        "colab": {}
      },
      "source": [
        "y=list()\n",
        "for i in range(len(labels)):\n",
        "  y.append(df.loc[df['id_code']==labels[i],'diagnosis'].astype(str).item())\n",
        "  \n"
      ],
      "execution_count": 0,
      "outputs": []
    },
    {
      "cell_type": "code",
      "metadata": {
        "id": "eh5K6oP174nv",
        "colab_type": "code",
        "colab": {}
      },
      "source": [
        "\n",
        "y=to_categorical(y)"
      ],
      "execution_count": 0,
      "outputs": []
    },
    {
      "cell_type": "markdown",
      "metadata": {
        "id": "FpzEogcPnNb6",
        "colab_type": "text"
      },
      "source": [
        "**Train/Test Split**"
      ]
    },
    {
      "cell_type": "code",
      "metadata": {
        "id": "9tmnZc63_9S2",
        "colab_type": "code",
        "colab": {}
      },
      "source": [
        "\n",
        "X_train, X_test, y_train, y_test = train_test_split(photos, y, random_state=42,stratify=y)"
      ],
      "execution_count": 0,
      "outputs": []
    },
    {
      "cell_type": "code",
      "metadata": {
        "id": "Drdi65A2luJY",
        "colab_type": "code",
        "outputId": "3f6d9949-59ae-4705-facb-30ea9e862384",
        "colab": {
          "base_uri": "https://localhost:8080/",
          "height": 34
        }
      },
      "source": [
        "X_train.shape"
      ],
      "execution_count": 18,
      "outputs": [
        {
          "output_type": "execute_result",
          "data": {
            "text/plain": [
              "(2746, 224, 224, 3)"
            ]
          },
          "metadata": {
            "tags": []
          },
          "execution_count": 18
        }
      ]
    },
    {
      "cell_type": "markdown",
      "metadata": {
        "id": "n20xF3pQL5wL",
        "colab_type": "text"
      },
      "source": [
        "**Image Augumentation:**"
      ]
    },
    {
      "cell_type": "markdown",
      "metadata": {
        "id": "bsLO1QURMCkF",
        "colab_type": "text"
      },
      "source": [
        "Since in the training dataset , we have the images 3662, and it is less count for training the model.SO we used the image augumnetaion for training the model.\n",
        "Since the image is eye , we tried the rotation of the image for image generation. Sample image augumentation is as follows. "
      ]
    },
    {
      "cell_type": "code",
      "metadata": {
        "id": "M2fMvTw7BfA8",
        "colab_type": "code",
        "colab": {}
      },
      "source": [
        "from keras.preprocessing.image import ImageDataGenerator\n",
        "# create image data augmentation generator\n",
        "datagen = ImageDataGenerator(rotation_range=20,\n",
        "                             width_shift_range=0, \n",
        "                             height_shift_range=0,  \n",
        "                             ## Float. Shear Intensity (Shear angle in counter-clockwise direction in degrees)\n",
        "                             shear_range=5.0,\n",
        "                             ## zoom_range: Float or [lower, upper]. \n",
        "                             ## Range for random zoom. If a float, \n",
        "                             ## [lower, upper] = [1-zoom_range, 1+zoom_range]\n",
        "                            # zoom_range=[0.6, 1.2], \n",
        "                             fill_mode='nearest', \n",
        "                             #cval=-2, \n",
        "                             horizontal_flip=True, \n",
        "                             vertical_flip=True)"
      ],
      "execution_count": 0,
      "outputs": []
    },
    {
      "cell_type": "code",
      "metadata": {
        "id": "eMGfY407eMU_",
        "colab_type": "code",
        "colab": {}
      },
      "source": [
        "datagen.fit(X_train)"
      ],
      "execution_count": 0,
      "outputs": []
    },
    {
      "cell_type": "markdown",
      "metadata": {
        "id": "7fv-6yCYnGu0",
        "colab_type": "text"
      },
      "source": [
        "**Base CNN Model**"
      ]
    },
    {
      "cell_type": "code",
      "metadata": {
        "id": "UCBb-EyaJCaN",
        "colab_type": "code",
        "colab": {}
      },
      "source": [
        "cnn_model = Sequential()\n",
        "cnn_model.add(Conv2D(filters = 6,            \n",
        "                     kernel_size = 3,       \n",
        "                     activation='relu',      \n",
        "                     input_shape=(224,224,3))) \n",
        "cnn_model.add(MaxPooling2D(pool_size=(2,2))) \n",
        "cnn_model.add(Conv2D(16,\n",
        "                     kernel_size=3,\n",
        "                     activation='relu'))\n",
        "cnn_model.add(MaxPooling2D(pool_size=(2,2)))\n",
        "cnn_model.add(Flatten())\n",
        "cnn_model.add(Dense(128, activation='relu'))\n",
        "cnn_model.add(Dense(5, activation='sigmoid'))\n"
      ],
      "execution_count": 0,
      "outputs": []
    },
    {
      "cell_type": "code",
      "metadata": {
        "id": "njkkEjGWMH2C",
        "colab_type": "code",
        "colab": {}
      },
      "source": [
        "cnn_model.compile(loss='binary_crossentropy',\n",
        "                  optimizer='adam',\n",
        "                  metrics=['accuracy'])"
      ],
      "execution_count": 0,
      "outputs": []
    },
    {
      "cell_type": "code",
      "metadata": {
        "id": "j8ttYB9CMNjU",
        "colab_type": "code",
        "outputId": "c39e0c8b-fffc-4974-9e64-47fe5b44b779",
        "colab": {
          "base_uri": "https://localhost:8080/",
          "height": 377
        }
      },
      "source": [
        "# Fit model on training data\n",
        "history = cnn_model.fit(datagen.flow(X_train, y_train, batch_size=256),\n",
        "                        #batch_size=256,\n",
        "                        validation_data=(X_test, y_test),\n",
        "                        epochs=5,\n",
        "                        verbose=1)"
      ],
      "execution_count": 37,
      "outputs": [
        {
          "output_type": "stream",
          "text": [
            "Epoch 1/5\n",
            "10/11 [==========================>...] - ETA: 2s - loss: 20.0239 - acc: 0.7598Epoch 1/5\n",
            "916/11 [==================================================================================================================================================================================================================================================================================================================================================================================================================================================================================================================================================================================================================================================================================================================================================================================================================================================================================================================================================================================================================================================================================================================================================================================================================================================================================================================================================================================================================================================================================================================================================================================================================================================================================================================================================================================================================================================================================================================================================================================================================================================================================================================================================================================================================================================================================================================================================================================================================================================================================================================================================================================================] - 1s 663us/sample - loss: 8.1853 - acc: 0.8703\n",
            "11/11 [==============================] - 29s 3s/step - loss: 18.9067 - acc: 0.7705 - val_loss: 7.8430 - val_acc: 0.8703\n",
            "Epoch 2/5\n",
            "10/11 [==========================>...] - ETA: 2s - loss: 3.1472 - acc: 0.8512Epoch 1/5\n",
            "916/11 [==================================================================================================================================================================================================================================================================================================================================================================================================================================================================================================================================================================================================================================================================================================================================================================================================================================================================================================================================================================================================================================================================================================================================================================================================================================================================================================================================================================================================================================================================================================================================================================================================================================================================================================================================================================================================================================================================================================================================================================================================================================================================================================================================================================================================================================================================================================================================================================================================================================================================================================================================================================================================] - 0s 449us/sample - loss: 1.7033 - acc: 0.8690\n",
            "11/11 [==============================] - 28s 3s/step - loss: 2.9818 - acc: 0.8507 - val_loss: 1.6356 - val_acc: 0.8690\n",
            "Epoch 3/5\n",
            "10/11 [==========================>...] - ETA: 2s - loss: 0.7887 - acc: 0.8810Epoch 1/5\n",
            "916/11 [==================================================================================================================================================================================================================================================================================================================================================================================================================================================================================================================================================================================================================================================================================================================================================================================================================================================================================================================================================================================================================================================================================================================================================================================================================================================================================================================================================================================================================================================================================================================================================================================================================================================================================================================================================================================================================================================================================================================================================================================================================================================================================================================================================================================================================================================================================================================================================================================================================================================================================================================================================================================================] - 0s 457us/sample - loss: 0.7281 - acc: 0.8688\n",
            "11/11 [==============================] - 28s 3s/step - loss: 0.7687 - acc: 0.8800 - val_loss: 0.6890 - val_acc: 0.8688\n",
            "Epoch 4/5\n",
            "10/11 [==========================>...] - ETA: 2s - loss: 0.4237 - acc: 0.8635Epoch 1/5\n",
            "916/11 [==================================================================================================================================================================================================================================================================================================================================================================================================================================================================================================================================================================================================================================================================================================================================================================================================================================================================================================================================================================================================================================================================================================================================================================================================================================================================================================================================================================================================================================================================================================================================================================================================================================================================================================================================================================================================================================================================================================================================================================================================================================================================================================================================================================================================================================================================================================================================================================================================================================================================================================================================================================================================] - 0s 456us/sample - loss: 0.4659 - acc: 0.8635\n",
            "11/11 [==============================] - 28s 3s/step - loss: 0.4181 - acc: 0.8637 - val_loss: 0.4431 - val_acc: 0.8635\n",
            "Epoch 5/5\n",
            "10/11 [==========================>...] - ETA: 2s - loss: 0.3425 - acc: 0.8720Epoch 1/5\n",
            "916/11 [==================================================================================================================================================================================================================================================================================================================================================================================================================================================================================================================================================================================================================================================================================================================================================================================================================================================================================================================================================================================================================================================================================================================================================================================================================================================================================================================================================================================================================================================================================================================================================================================================================================================================================================================================================================================================================================================================================================================================================================================================================================================================================================================================================================================================================================================================================================================================================================================================================================================================================================================================================================================================] - 0s 461us/sample - loss: 0.3739 - acc: 0.8825\n",
            "11/11 [==============================] - 28s 3s/step - loss: 0.3408 - acc: 0.8731 - val_loss: 0.3527 - val_acc: 0.8825\n"
          ],
          "name": "stdout"
        }
      ]
    },
    {
      "cell_type": "markdown",
      "metadata": {
        "id": "scBOzcM6FtWJ",
        "colab_type": "text"
      },
      "source": [
        "**Evaluation of Base CNN Model**"
      ]
    },
    {
      "cell_type": "markdown",
      "metadata": {
        "id": "nwTBMnSKF2Lj",
        "colab_type": "text"
      },
      "source": [
        "By Image Augumentation the accuracy for the validation data is 0.85. The Validation loss 0.3527. Before the image augumentation the accuracy was around 0.4"
      ]
    },
    {
      "cell_type": "code",
      "metadata": {
        "id": "HKR72n53lZHm",
        "colab_type": "code",
        "outputId": "c1ac2aaf-22ae-4e6b-ccc3-80c9df6fdca2",
        "colab": {
          "base_uri": "https://localhost:8080/",
          "height": 410
        }
      },
      "source": [
        "\n",
        "\n",
        "# Check out our train loss and test loss over epochs.\n",
        "train_loss = history.history['loss']\n",
        "test_loss = history.history['val_loss']\n",
        "\n",
        "# Set figure size.\n",
        "plt.figure(figsize=(10, 6))\n",
        "\n",
        "# Generate line plot of training, testing loss over epochs.\n",
        "plt.plot(train_loss, label='Training Loss', color='#185fad')\n",
        "plt.plot(test_loss, label='Testing Loss', color='orange')\n",
        "\n",
        "# Set title\n",
        "plt.title('Training and Testing Loss by Epoch with Image Augumentation', fontsize = 16)\n",
        "plt.xlabel('Epoch', fontsize = 14)\n",
        "plt.ylabel('Binary Crossentropy', fontsize = 14)\n",
        "plt.xticks([0, 1, 2, 3, 4], [1, 2, 3, 4, 5])\n",
        "\n",
        "plt.legend(fontsize = 14);"
      ],
      "execution_count": 40,
      "outputs": [
        {
          "output_type": "display_data",
          "data": {
            "image/png": "[encoded data removed]",
            "text/plain": [
              "<Figure size 720x432 with 1 Axes>"
            ]
          },
          "metadata": {
            "tags": []
          }
        }
      ]
    },
    {
      "cell_type": "code",
      "metadata": {
        "id": "7KMnhdxGmhX9",
        "colab_type": "code",
        "outputId": "ea3b38fd-00e2-4065-efdf-1046d8c22bd6",
        "colab": {
          "base_uri": "https://localhost:8080/",
          "height": 410
        }
      },
      "source": [
        "\n",
        "# Check out our train loss and test loss over epochs.\n",
        "train_loss = history.history['acc']\n",
        "test_loss = history.history['val_acc']\n",
        "\n",
        "# Set figure size.\n",
        "plt.figure(figsize=(10, 6))\n",
        "\n",
        "# Generate line plot of training, testing loss over epochs.\n",
        "plt.plot(train_loss, label='Training accuracy', color='#185fad')\n",
        "plt.plot(test_loss, label='Testing accuracy', color='orange')\n",
        "\n",
        "# Set title\n",
        "plt.title('Training and Testing accuracy by Epoch with image Augumentation', fontsize = 16)\n",
        "plt.xlabel('Epoch', fontsize = 14)\n",
        "plt.ylabel('Accuracy' , fontsize = 14)\n",
        "plt.xticks([0, 1, 2, 3, 4], [1, 2, 3, 4, 5])\n",
        "\n",
        "plt.legend(fontsize = 14);"
      ],
      "execution_count": 42,
      "outputs": [
        {
          "output_type": "display_data",
          "data": {
            "image/png": "[encoded data removed]",
            "text/plain": [
              "<Figure size 720x432 with 1 Axes>"
            ]
          },
          "metadata": {
            "tags": []
          }
        }
      ]
    },
    {
      "cell_type": "code",
      "metadata": {
        "id": "yB9pd3hgsxEK",
        "colab_type": "code",
        "outputId": "3e641865-0d4b-4df6-ae3f-690edaa069ab",
        "colab": {
          "base_uri": "https://localhost:8080/",
          "height": 34
        }
      },
      "source": [
        "cnn_score = cnn_model.evaluate(X_test,\n",
        "                               y_test,\n",
        "                               verbose=1)\n",
        "\n",
        "cnn_labels = cnn_model.metrics_names"
      ],
      "execution_count": 43,
      "outputs": [
        {
          "output_type": "stream",
          "text": [
            "916/916 [==============================] - 1s 933us/sample - loss: 0.3478 - acc: 0.8825\n"
          ],
          "name": "stdout"
        }
      ]
    },
    {
      "cell_type": "code",
      "metadata": {
        "id": "WPew-UUXyr7i",
        "colab_type": "code",
        "colab": {}
      },
      "source": [
        "ynew = cnn_model.predict_classes(X_test)"
      ],
      "execution_count": 0,
      "outputs": []
    },
    {
      "cell_type": "markdown",
      "metadata": {
        "id": "9puW7pW6-dz1",
        "colab_type": "text"
      },
      "source": [
        "**Pretrained Model VGG16 with Image Augumentaion** "
      ]
    },
    {
      "cell_type": "code",
      "metadata": {
        "id": "VKsDxR4f-gsg",
        "colab_type": "code",
        "colab": {}
      },
      "source": [
        "\n",
        "base_model = tf.keras.applications.vgg16.VGG16(weights='imagenet', include_top=False, input_shape=(224, 224, 3))"
      ],
      "execution_count": 0,
      "outputs": []
    },
    {
      "cell_type": "code",
      "metadata": {
        "id": "rgdlPOjP-4eh",
        "colab_type": "code",
        "colab": {
          "base_uri": "https://localhost:8080/",
          "height": 34
        },
        "outputId": "68cfdf65-e436-41b6-f961-7125309dfca5"
      },
      "source": [
        "\n",
        "x = base_model.output\n",
        "x = GlobalAveragePooling2D()(x) \n",
        "x = Dense(512, activation='relu')(x)\n",
        "x = Dense(1028, activation='relu')(x)\n",
        "predictions = Dense(5, activation='sigmoid')(x)\n",
        "model = Model(inputs=base_model.input, outputs=predictions)\n",
        "len(model.layers)"
      ],
      "execution_count": 54,
      "outputs": [
        {
          "output_type": "execute_result",
          "data": {
            "text/plain": [
              "23"
            ]
          },
          "metadata": {
            "tags": []
          },
          "execution_count": 54
        }
      ]
    },
    {
      "cell_type": "code",
      "metadata": {
        "id": "qOZ2eITAAfeo",
        "colab_type": "code",
        "outputId": "695eee14-21d6-4e66-b883-365c6861636c",
        "colab": {
          "base_uri": "https://localhost:8080/",
          "height": 935
        }
      },
      "source": [
        "model.summary()"
      ],
      "execution_count": 55,
      "outputs": [
        {
          "output_type": "stream",
          "text": [
            "Model: \"model_1\"\n",
            "_________________________________________________________________\n",
            "Layer (type)                 Output Shape              Param #   \n",
            "=================================================================\n",
            "input_2 (InputLayer)         [(None, 224, 224, 3)]     0         \n",
            "_________________________________________________________________\n",
            "block1_conv1 (Conv2D)        (None, 224, 224, 64)      1792      \n",
            "_________________________________________________________________\n",
            "block1_conv2 (Conv2D)        (None, 224, 224, 64)      36928     \n",
            "_________________________________________________________________\n",
            "block1_pool (MaxPooling2D)   (None, 112, 112, 64)      0         \n",
            "_________________________________________________________________\n",
            "block2_conv1 (Conv2D)        (None, 112, 112, 128)     73856     \n",
            "_________________________________________________________________\n",
            "block2_conv2 (Conv2D)        (None, 112, 112, 128)     147584    \n",
            "_________________________________________________________________\n",
            "block2_pool (MaxPooling2D)   (None, 56, 56, 128)       0         \n",
            "_________________________________________________________________\n",
            "block3_conv1 (Conv2D)        (None, 56, 56, 256)       295168    \n",
            "_________________________________________________________________\n",
            "block3_conv2 (Conv2D)        (None, 56, 56, 256)       590080    \n",
            "_________________________________________________________________\n",
            "block3_conv3 (Conv2D)        (None, 56, 56, 256)       590080    \n",
            "_________________________________________________________________\n",
            "block3_pool (MaxPooling2D)   (None, 28, 28, 256)       0         \n",
            "_________________________________________________________________\n",
            "block4_conv1 (Conv2D)        (None, 28, 28, 512)       1180160   \n",
            "_________________________________________________________________\n",
            "block4_conv2 (Conv2D)        (None, 28, 28, 512)       2359808   \n",
            "_________________________________________________________________\n",
            "block4_conv3 (Conv2D)        (None, 28, 28, 512)       2359808   \n",
            "_________________________________________________________________\n",
            "block4_pool (MaxPooling2D)   (None, 14, 14, 512)       0         \n",
            "_________________________________________________________________\n",
            "block5_conv1 (Conv2D)        (None, 14, 14, 512)       2359808   \n",
            "_________________________________________________________________\n",
            "block5_conv2 (Conv2D)        (None, 14, 14, 512)       2359808   \n",
            "_________________________________________________________________\n",
            "block5_conv3 (Conv2D)        (None, 14, 14, 512)       2359808   \n",
            "_________________________________________________________________\n",
            "block5_pool (MaxPooling2D)   (None, 7, 7, 512)         0         \n",
            "_________________________________________________________________\n",
            "global_average_pooling2d_1 ( (None, 512)               0         \n",
            "_________________________________________________________________\n",
            "dense_13 (Dense)             (None, 512)               262656    \n",
            "_________________________________________________________________\n",
            "dense_14 (Dense)             (None, 1028)              527364    \n",
            "_________________________________________________________________\n",
            "dense_15 (Dense)             (None, 5)                 5145      \n",
            "=================================================================\n",
            "Total params: 15,509,853\n",
            "Trainable params: 15,509,853\n",
            "Non-trainable params: 0\n",
            "_________________________________________________________________\n"
          ],
          "name": "stdout"
        }
      ]
    },
    {
      "cell_type": "code",
      "metadata": {
        "id": "b_ekB7SRBg0A",
        "colab_type": "code",
        "outputId": "13721bda-c2a3-455c-8fcd-c010b9ade991",
        "colab": {
          "base_uri": "https://localhost:8080/",
          "height": 408
        }
      },
      "source": [
        "for layer in base_model.layers:\n",
        "    layer.trainable = False\n",
        "\n",
        "for layer in model.layers:\n",
        "    print(layer.name,layer.trainable)"
      ],
      "execution_count": 56,
      "outputs": [
        {
          "output_type": "stream",
          "text": [
            "input_2 False\n",
            "block1_conv1 False\n",
            "block1_conv2 False\n",
            "block1_pool False\n",
            "block2_conv1 False\n",
            "block2_conv2 False\n",
            "block2_pool False\n",
            "block3_conv1 False\n",
            "block3_conv2 False\n",
            "block3_conv3 False\n",
            "block3_pool False\n",
            "block4_conv1 False\n",
            "block4_conv2 False\n",
            "block4_conv3 False\n",
            "block4_pool False\n",
            "block5_conv1 False\n",
            "block5_conv2 False\n",
            "block5_conv3 False\n",
            "block5_pool False\n",
            "global_average_pooling2d_1 True\n",
            "dense_13 True\n",
            "dense_14 True\n",
            "dense_15 True\n"
          ],
          "name": "stdout"
        }
      ]
    },
    {
      "cell_type": "code",
      "metadata": {
        "id": "YRlijXVwMIMb",
        "colab_type": "code",
        "colab": {}
      },
      "source": [
        "from tensorflow.keras.callbacks import ModelCheckpoint, Callback\n",
        "\n",
        "\n",
        "checkpoint = ModelCheckpoint('/checkpoints/weights_{epoch:02d}_{val_acc:.2f}.hdf5', verbose=1, save_best_only=True, mode='auto')"
      ],
      "execution_count": 0,
      "outputs": []
    },
    {
      "cell_type": "code",
      "metadata": {
        "id": "NqoW6FuWGVky",
        "colab_type": "code",
        "colab": {}
      },
      "source": [
        "#from tensorflow.keras.optimizers import Adam\n",
        "#ada = Adam(lr=0.01, beta_1=0.9, beta_2=0.999, amsgrad=False)"
      ],
      "execution_count": 0,
      "outputs": []
    },
    {
      "cell_type": "code",
      "metadata": {
        "id": "pMOJ2K3OAjaT",
        "colab_type": "code",
        "colab": {}
      },
      "source": [
        "model.compile(optimizer= 'adam', loss='binary_crossentropy',metrics=['accuracy'])"
      ],
      "execution_count": 0,
      "outputs": []
    },
    {
      "cell_type": "code",
      "metadata": {
        "id": "RHjRQJgxBCLA",
        "colab_type": "code",
        "outputId": "5593aa93-4cfd-4593-9e88-d4d9ad05f08d",
        "colab": {
          "base_uri": "https://localhost:8080/",
          "height": 1000
        }
      },
      "source": [
        "history = model.fit(datagen.flow(X_train, y_train, batch_size=256),\n",
        "                        validation_data=(X_test, y_test),\n",
        "                        epochs=30,\n",
        "                        verbose=1)"
      ],
      "execution_count": 59,
      "outputs": [
        {
          "output_type": "stream",
          "text": [
            "Epoch 1/30\n",
            "10/11 [==========================>...] - ETA: 2s - loss: 0.5134 - acc: 0.8459Epoch 1/30\n",
            "916/11 [==================================================================================================================================================================================================================================================================================================================================================================================================================================================================================================================================================================================================================================================================================================================================================================================================================================================================================================================================================================================================================================================================================================================================================================================================================================================================================================================================================================================================================================================================================================================================================================================================================================================================================================================================================================================================================================================================================================================================================================================================================================================================================================================================================================================================================================================================================================================================================================================================================================================================================================================================================================================================] - 19s 20ms/sample - loss: 0.3298 - acc: 0.8742\n",
            "11/11 [==============================] - 49s 4s/step - loss: 0.4960 - acc: 0.8473 - val_loss: 0.3146 - val_acc: 0.8742\n",
            "Epoch 2/30\n",
            "10/11 [==========================>...] - ETA: 2s - loss: 0.2627 - acc: 0.8924Epoch 1/30\n",
            "916/11 [==================================================================================================================================================================================================================================================================================================================================================================================================================================================================================================================================================================================================================================================================================================================================================================================================================================================================================================================================================================================================================================================================================================================================================================================================================================================================================================================================================================================================================================================================================================================================================================================================================================================================================================================================================================================================================================================================================================================================================================================================================================================================================================================================================================================================================================================================================================================================================================================================================================================================================================================================================================================================] - 8s 9ms/sample - loss: 0.2667 - acc: 0.8948\n",
            "11/11 [==============================] - 33s 3s/step - loss: 0.2664 - acc: 0.8918 - val_loss: 0.2569 - val_acc: 0.8948\n",
            "Epoch 3/30\n",
            "10/11 [==========================>...] - ETA: 2s - loss: 0.2299 - acc: 0.9010Epoch 1/30\n",
            "916/11 [==================================================================================================================================================================================================================================================================================================================================================================================================================================================================================================================================================================================================================================================================================================================================================================================================================================================================================================================================================================================================================================================================================================================================================================================================================================================================================================================================================================================================================================================================================================================================================================================================================================================================================================================================================================================================================================================================================================================================================================================================================================================================================================================================================================================================================================================================================================================================================================================================================================================================================================================================================================================================] - 8s 9ms/sample - loss: 0.2343 - acc: 0.8978\n",
            "11/11 [==============================] - 33s 3s/step - loss: 0.2288 - acc: 0.9023 - val_loss: 0.2283 - val_acc: 0.8978\n",
            "Epoch 4/30\n",
            "10/11 [==========================>...] - ETA: 2s - loss: 0.2080 - acc: 0.9113Epoch 1/30\n",
            "916/11 [==================================================================================================================================================================================================================================================================================================================================================================================================================================================================================================================================================================================================================================================================================================================================================================================================================================================================================================================================================================================================================================================================================================================================================================================================================================================================================================================================================================================================================================================================================================================================================================================================================================================================================================================================================================================================================================================================================================================================================================================================================================================================================================================================================================================================================================================================================================================================================================================================================================================================================================================================================================================================] - 8s 9ms/sample - loss: 0.2241 - acc: 0.8998\n",
            "11/11 [==============================] - 33s 3s/step - loss: 0.2092 - acc: 0.9102 - val_loss: 0.2218 - val_acc: 0.8998\n",
            "Epoch 5/30\n",
            "10/11 [==========================>...] - ETA: 2s - loss: 0.2002 - acc: 0.9159Epoch 1/30\n",
            "916/11 [==================================================================================================================================================================================================================================================================================================================================================================================================================================================================================================================================================================================================================================================================================================================================================================================================================================================================================================================================================================================================================================================================================================================================================================================================================================================================================================================================================================================================================================================================================================================================================================================================================================================================================================================================================================================================================================================================================================================================================================================================================================================================================================================================================================================================================================================================================================================================================================================================================================================================================================================================================================================================] - 8s 9ms/sample - loss: 0.2220 - acc: 0.9059\n",
            "11/11 [==============================] - 33s 3s/step - loss: 0.1992 - acc: 0.9165 - val_loss: 0.2163 - val_acc: 0.9059\n",
            "Epoch 6/30\n",
            "10/11 [==========================>...] - ETA: 2s - loss: 0.1908 - acc: 0.9207Epoch 1/30\n",
            "916/11 [==================================================================================================================================================================================================================================================================================================================================================================================================================================================================================================================================================================================================================================================================================================================================================================================================================================================================================================================================================================================================================================================================================================================================================================================================================================================================================================================================================================================================================================================================================================================================================================================================================================================================================================================================================================================================================================================================================================================================================================================================================================================================================================================================================================================================================================================================================================================================================================================================================================================================================================================================================================================================] - 8s 9ms/sample - loss: 0.2175 - acc: 0.9083\n",
            "11/11 [==============================] - 33s 3s/step - loss: 0.1886 - acc: 0.9220 - val_loss: 0.2138 - val_acc: 0.9083\n",
            "Epoch 7/30\n",
            "10/11 [==========================>...] - ETA: 2s - loss: 0.1798 - acc: 0.9263Epoch 1/30\n",
            "916/11 [==================================================================================================================================================================================================================================================================================================================================================================================================================================================================================================================================================================================================================================================================================================================================================================================================================================================================================================================================================================================================================================================================================================================================================================================================================================================================================================================================================================================================================================================================================================================================================================================================================================================================================================================================================================================================================================================================================================================================================================================================================================================================================================================================================================================================================================================================================================================================================================================================================================================================================================================================================================================================] - 8s 9ms/sample - loss: 0.2077 - acc: 0.9092\n",
            "11/11 [==============================] - 33s 3s/step - loss: 0.1804 - acc: 0.9256 - val_loss: 0.2078 - val_acc: 0.9092\n",
            "Epoch 8/30\n",
            "10/11 [==========================>...] - ETA: 2s - loss: 0.1779 - acc: 0.9263Epoch 1/30\n",
            "916/11 [==================================================================================================================================================================================================================================================================================================================================================================================================================================================================================================================================================================================================================================================================================================================================================================================================================================================================================================================================================================================================================================================================================================================================================================================================================================================================================================================================================================================================================================================================================================================================================================================================================================================================================================================================================================================================================================================================================================================================================================================================================================================================================================================================================================================================================================================================================================================================================================================================================================================================================================================================================================================================] - 8s 9ms/sample - loss: 0.2149 - acc: 0.9103\n",
            "11/11 [==============================] - 33s 3s/step - loss: 0.1779 - acc: 0.9266 - val_loss: 0.2132 - val_acc: 0.9103\n",
            "Epoch 9/30\n",
            "10/11 [==========================>...] - ETA: 2s - loss: 0.1750 - acc: 0.9261Epoch 1/30\n",
            "916/11 [==================================================================================================================================================================================================================================================================================================================================================================================================================================================================================================================================================================================================================================================================================================================================================================================================================================================================================================================================================================================================================================================================================================================================================================================================================================================================================================================================================================================================================================================================================================================================================================================================================================================================================================================================================================================================================================================================================================================================================================================================================================================================================================================================================================================================================================================================================================================================================================================================================================================================================================================================================================================================] - 8s 9ms/sample - loss: 0.2011 - acc: 0.9105\n",
            "11/11 [==============================] - 33s 3s/step - loss: 0.1734 - acc: 0.9273 - val_loss: 0.2020 - val_acc: 0.9105\n",
            "Epoch 10/30\n",
            "10/11 [==========================>...] - ETA: 2s - loss: 0.1664 - acc: 0.9338Epoch 1/30\n",
            "916/11 [==================================================================================================================================================================================================================================================================================================================================================================================================================================================================================================================================================================================================================================================================================================================================================================================================================================================================================================================================================================================================================================================================================================================================================================================================================================================================================================================================================================================================================================================================================================================================================================================================================================================================================================================================================================================================================================================================================================================================================================================================================================================================================================================================================================================================================================================================================================================================================================================================================================================================================================================================================================================================] - 8s 9ms/sample - loss: 0.2042 - acc: 0.9111\n",
            "11/11 [==============================] - 33s 3s/step - loss: 0.1674 - acc: 0.9331 - val_loss: 0.2048 - val_acc: 0.9111\n",
            "Epoch 11/30\n",
            "10/11 [==========================>...] - ETA: 2s - loss: 0.1708 - acc: 0.9288Epoch 1/30\n",
            "916/11 [==================================================================================================================================================================================================================================================================================================================================================================================================================================================================================================================================================================================================================================================================================================================================================================================================================================================================================================================================================================================================================================================================================================================================================================================================================================================================================================================================================================================================================================================================================================================================================================================================================================================================================================================================================================================================================================================================================================================================================================================================================================================================================================================================================================================================================================================================================================================================================================================================================================================================================================================================================================================================] - 8s 9ms/sample - loss: 0.2263 - acc: 0.9087\n",
            "11/11 [==============================] - 33s 3s/step - loss: 0.1669 - acc: 0.9307 - val_loss: 0.2184 - val_acc: 0.9087\n",
            "Epoch 12/30\n",
            "10/11 [==========================>...] - ETA: 2s - loss: 0.1726 - acc: 0.9300Epoch 1/30\n",
            "916/11 [==================================================================================================================================================================================================================================================================================================================================================================================================================================================================================================================================================================================================================================================================================================================================================================================================================================================================================================================================================================================================================================================================================================================================================================================================================================================================================================================================================================================================================================================================================================================================================================================================================================================================================================================================================================================================================================================================================================================================================================================================================================================================================================================================================================================================================================================================================================================================================================================================================================================================================================================================================================================================] - 8s 9ms/sample - loss: 0.2048 - acc: 0.9111\n",
            "11/11 [==============================] - 33s 3s/step - loss: 0.1712 - acc: 0.9302 - val_loss: 0.2069 - val_acc: 0.9111\n",
            "Epoch 13/30\n",
            "10/11 [==========================>...] - ETA: 2s - loss: 0.1618 - acc: 0.9329Epoch 1/30\n",
            "916/11 [==================================================================================================================================================================================================================================================================================================================================================================================================================================================================================================================================================================================================================================================================================================================================================================================================================================================================================================================================================================================================================================================================================================================================================================================================================================================================================================================================================================================================================================================================================================================================================================================================================================================================================================================================================================================================================================================================================================================================================================================================================================================================================================================================================================================================================================================================================================================================================================================================================================================================================================================================================================================================] - 8s 9ms/sample - loss: 0.2014 - acc: 0.9122\n",
            "11/11 [==============================] - 33s 3s/step - loss: 0.1623 - acc: 0.9323 - val_loss: 0.2038 - val_acc: 0.9122\n",
            "Epoch 14/30\n",
            "10/11 [==========================>...] - ETA: 2s - loss: 0.1546 - acc: 0.9356Epoch 1/30\n",
            "916/11 [==================================================================================================================================================================================================================================================================================================================================================================================================================================================================================================================================================================================================================================================================================================================================================================================================================================================================================================================================================================================================================================================================================================================================================================================================================================================================================================================================================================================================================================================================================================================================================================================================================================================================================================================================================================================================================================================================================================================================================================================================================================================================================================================================================================================================================================================================================================================================================================================================================================================================================================================================================================================================] - 19s 20ms/sample - loss: 0.1962 - acc: 0.9131\n",
            "11/11 [==============================] - 43s 4s/step - loss: 0.1556 - acc: 0.9355 - val_loss: 0.2032 - val_acc: 0.9131\n",
            "Epoch 15/30\n",
            "10/11 [==========================>...] - ETA: 2s - loss: 0.1474 - acc: 0.9392Epoch 1/30\n",
            "916/11 [==================================================================================================================================================================================================================================================================================================================================================================================================================================================================================================================================================================================================================================================================================================================================================================================================================================================================================================================================================================================================================================================================================================================================================================================================================================================================================================================================================================================================================================================================================================================================================================================================================================================================================================================================================================================================================================================================================================================================================================================================================================================================================================================================================================================================================================================================================================================================================================================================================================================================================================================================================================================================] - 8s 9ms/sample - loss: 0.1956 - acc: 0.9151\n",
            "11/11 [==============================] - 33s 3s/step - loss: 0.1495 - acc: 0.9390 - val_loss: 0.1995 - val_acc: 0.9151\n",
            "Epoch 16/30\n",
            "10/11 [==========================>...] - ETA: 2s - loss: 0.1478 - acc: 0.9418Epoch 1/30\n",
            "916/11 [==================================================================================================================================================================================================================================================================================================================================================================================================================================================================================================================================================================================================================================================================================================================================================================================================================================================================================================================================================================================================================================================================================================================================================================================================================================================================================================================================================================================================================================================================================================================================================================================================================================================================================================================================================================================================================================================================================================================================================================================================================================================================================================================================================================================================================================================================================================================================================================================================================================================================================================================================================================================================] - 8s 9ms/sample - loss: 0.1977 - acc: 0.9144\n",
            "11/11 [==============================] - 32s 3s/step - loss: 0.1474 - acc: 0.9418 - val_loss: 0.2039 - val_acc: 0.9144\n",
            "Epoch 17/30\n",
            "10/11 [==========================>...] - ETA: 2s - loss: 0.1509 - acc: 0.9392Epoch 1/30\n",
            "916/11 [==================================================================================================================================================================================================================================================================================================================================================================================================================================================================================================================================================================================================================================================================================================================================================================================================================================================================================================================================================================================================================================================================================================================================================================================================================================================================================================================================================================================================================================================================================================================================================================================================================================================================================================================================================================================================================================================================================================================================================================================================================================================================================================================================================================================================================================================================================================================================================================================================================================================================================================================================================================================================] - 8s 9ms/sample - loss: 0.2273 - acc: 0.9114\n",
            "11/11 [==============================] - 33s 3s/step - loss: 0.1476 - acc: 0.9413 - val_loss: 0.2184 - val_acc: 0.9114\n",
            "Epoch 18/30\n",
            "10/11 [==========================>...] - ETA: 2s - loss: 0.1465 - acc: 0.9411Epoch 1/30\n",
            "916/11 [==================================================================================================================================================================================================================================================================================================================================================================================================================================================================================================================================================================================================================================================================================================================================================================================================================================================================================================================================================================================================================================================================================================================================================================================================================================================================================================================================================================================================================================================================================================================================================================================================================================================================================================================================================================================================================================================================================================================================================================================================================================================================================================================================================================================================================================================================================================================================================================================================================================================================================================================================================================================================] - 8s 9ms/sample - loss: 0.2225 - acc: 0.9114\n",
            "11/11 [==============================] - 33s 3s/step - loss: 0.1469 - acc: 0.9413 - val_loss: 0.2195 - val_acc: 0.9114\n",
            "Epoch 19/30\n",
            "10/11 [==========================>...] - ETA: 2s - loss: 0.1479 - acc: 0.9390Epoch 1/30\n",
            "916/11 [==================================================================================================================================================================================================================================================================================================================================================================================================================================================================================================================================================================================================================================================================================================================================================================================================================================================================================================================================================================================================================================================================================================================================================================================================================================================================================================================================================================================================================================================================================================================================================================================================================================================================================================================================================================================================================================================================================================================================================================================================================================================================================================================================================================================================================================================================================================================================================================================================================================================================================================================================================================================================] - 8s 9ms/sample - loss: 0.2217 - acc: 0.9155\n",
            "11/11 [==============================] - 33s 3s/step - loss: 0.1468 - acc: 0.9395 - val_loss: 0.2123 - val_acc: 0.9155\n",
            "Epoch 20/30\n",
            "10/11 [==========================>...] - ETA: 2s - loss: 0.1396 - acc: 0.9435Epoch 1/30\n",
            "916/11 [==================================================================================================================================================================================================================================================================================================================================================================================================================================================================================================================================================================================================================================================================================================================================================================================================================================================================================================================================================================================================================================================================================================================================================================================================================================================================================================================================================================================================================================================================================================================================================================================================================================================================================================================================================================================================================================================================================================================================================================================================================================================================================================================================================================================================================================================================================================================================================================================================================================================================================================================================================================================================] - 8s 9ms/sample - loss: 0.2324 - acc: 0.9096\n",
            "11/11 [==============================] - 33s 3s/step - loss: 0.1407 - acc: 0.9430 - val_loss: 0.2245 - val_acc: 0.9096\n",
            "Epoch 21/30\n",
            "10/11 [==========================>...] - ETA: 2s - loss: 0.1337 - acc: 0.9453Epoch 1/30\n",
            "916/11 [==================================================================================================================================================================================================================================================================================================================================================================================================================================================================================================================================================================================================================================================================================================================================================================================================================================================================================================================================================================================================================================================================================================================================================================================================================================================================================================================================================================================================================================================================================================================================================================================================================================================================================================================================================================================================================================================================================================================================================================================================================================================================================================================================================================================================================================================================================================================================================================================================================================================================================================================================================================================================] - 8s 9ms/sample - loss: 0.2083 - acc: 0.9122\n",
            "11/11 [==============================] - 33s 3s/step - loss: 0.1350 - acc: 0.9440 - val_loss: 0.2070 - val_acc: 0.9122\n",
            "Epoch 22/30\n",
            "10/11 [==========================>...] - ETA: 2s - loss: 0.1325 - acc: 0.9445Epoch 1/30\n",
            "916/11 [==================================================================================================================================================================================================================================================================================================================================================================================================================================================================================================================================================================================================================================================================================================================================================================================================================================================================================================================================================================================================================================================================================================================================================================================================================================================================================================================================================================================================================================================================================================================================================================================================================================================================================================================================================================================================================================================================================================================================================================================================================================================================================================================================================================================================================================================================================================================================================================================================================================================================================================================================================================================================] - 8s 9ms/sample - loss: 0.2092 - acc: 0.9151\n",
            "11/11 [==============================] - 33s 3s/step - loss: 0.1313 - acc: 0.9454 - val_loss: 0.2115 - val_acc: 0.9151\n",
            "Epoch 23/30\n",
            "10/11 [==========================>...] - ETA: 2s - loss: 0.1294 - acc: 0.9480Epoch 1/30\n",
            "916/11 [==================================================================================================================================================================================================================================================================================================================================================================================================================================================================================================================================================================================================================================================================================================================================================================================================================================================================================================================================================================================================================================================================================================================================================================================================================================================================================================================================================================================================================================================================================================================================================================================================================================================================================================================================================================================================================================================================================================================================================================================================================================================================================================================================================================================================================================================================================================================================================================================================================================================================================================================================================================================================] - 8s 9ms/sample - loss: 0.2300 - acc: 0.9151\n",
            "11/11 [==============================] - 33s 3s/step - loss: 0.1283 - acc: 0.9481 - val_loss: 0.2216 - val_acc: 0.9151\n",
            "Epoch 24/30\n",
            "10/11 [==========================>...] - ETA: 2s - loss: 0.1264 - acc: 0.9482Epoch 1/30\n",
            "916/11 [==================================================================================================================================================================================================================================================================================================================================================================================================================================================================================================================================================================================================================================================================================================================================================================================================================================================================================================================================================================================================================================================================================================================================================================================================================================================================================================================================================================================================================================================================================================================================================================================================================================================================================================================================================================================================================================================================================================================================================================================================================================================================================================================================================================================================================================================================================================================================================================================================================================================================================================================================================================================================] - 8s 9ms/sample - loss: 0.2189 - acc: 0.9131\n",
            "11/11 [==============================] - 33s 3s/step - loss: 0.1269 - acc: 0.9480 - val_loss: 0.2196 - val_acc: 0.9131\n",
            "Epoch 25/30\n",
            "10/11 [==========================>...] - ETA: 2s - loss: 0.1233 - acc: 0.9498Epoch 1/30\n",
            "916/11 [==================================================================================================================================================================================================================================================================================================================================================================================================================================================================================================================================================================================================================================================================================================================================================================================================================================================================================================================================================================================================================================================================================================================================================================================================================================================================================================================================================================================================================================================================================================================================================================================================================================================================================================================================================================================================================================================================================================================================================================================================================================================================================================================================================================================================================================================================================================================================================================================================================================================================================================================================================================================================] - 8s 9ms/sample - loss: 0.2211 - acc: 0.9107\n",
            "11/11 [==============================] - 33s 3s/step - loss: 0.1245 - acc: 0.9495 - val_loss: 0.2180 - val_acc: 0.9107\n",
            "Epoch 26/30\n",
            "10/11 [==========================>...] - ETA: 2s - loss: 0.1241 - acc: 0.9486Epoch 1/30\n",
            "916/11 [==================================================================================================================================================================================================================================================================================================================================================================================================================================================================================================================================================================================================================================================================================================================================================================================================================================================================================================================================================================================================================================================================================================================================================================================================================================================================================================================================================================================================================================================================================================================================================================================================================================================================================================================================================================================================================================================================================================================================================================================================================================================================================================================================================================================================================================================================================================================================================================================================================================================================================================================================================================================================] - 8s 9ms/sample - loss: 0.2166 - acc: 0.9135\n",
            "11/11 [==============================] - 32s 3s/step - loss: 0.1266 - acc: 0.9473 - val_loss: 0.2190 - val_acc: 0.9135\n",
            "Epoch 27/30\n",
            "10/11 [==========================>...] - ETA: 2s - loss: 0.1250 - acc: 0.9500Epoch 1/30\n",
            "916/11 [==================================================================================================================================================================================================================================================================================================================================================================================================================================================================================================================================================================================================================================================================================================================================================================================================================================================================================================================================================================================================================================================================================================================================================================================================================================================================================================================================================================================================================================================================================================================================================================================================================================================================================================================================================================================================================================================================================================================================================================================================================================================================================================================================================================================================================================================================================================================================================================================================================================================================================================================================================================================================] - 8s 9ms/sample - loss: 0.2262 - acc: 0.9131\n",
            "11/11 [==============================] - 33s 3s/step - loss: 0.1240 - acc: 0.9501 - val_loss: 0.2251 - val_acc: 0.9131\n",
            "Epoch 28/30\n",
            "10/11 [==========================>...] - ETA: 2s - loss: 0.1219 - acc: 0.9505Epoch 1/30\n",
            "916/11 [==================================================================================================================================================================================================================================================================================================================================================================================================================================================================================================================================================================================================================================================================================================================================================================================================================================================================================================================================================================================================================================================================================================================================================================================================================================================================================================================================================================================================================================================================================================================================================================================================================================================================================================================================================================================================================================================================================================================================================================================================================================================================================================================================================================================================================================================================================================================================================================================================================================================================================================================================================================================================] - 8s 9ms/sample - loss: 0.2117 - acc: 0.9105\n",
            "11/11 [==============================] - 33s 3s/step - loss: 0.1231 - acc: 0.9495 - val_loss: 0.2204 - val_acc: 0.9105\n",
            "Epoch 29/30\n",
            "10/11 [==========================>...] - ETA: 2s - loss: 0.1141 - acc: 0.9564Epoch 1/30\n",
            "916/11 [==================================================================================================================================================================================================================================================================================================================================================================================================================================================================================================================================================================================================================================================================================================================================================================================================================================================================================================================================================================================================================================================================================================================================================================================================================================================================================================================================================================================================================================================================================================================================================================================================================================================================================================================================================================================================================================================================================================================================================================================================================================================================================================================================================================================================================================================================================================================================================================================================================================================================================================================================================================================================] - 8s 9ms/sample - loss: 0.2198 - acc: 0.9105\n",
            "11/11 [==============================] - 33s 3s/step - loss: 0.1157 - acc: 0.9562 - val_loss: 0.2247 - val_acc: 0.9105\n",
            "Epoch 30/30\n",
            "10/11 [==========================>...] - ETA: 2s - loss: 0.1157 - acc: 0.9547Epoch 1/30\n",
            "916/11 [==================================================================================================================================================================================================================================================================================================================================================================================================================================================================================================================================================================================================================================================================================================================================================================================================================================================================================================================================================================================================================================================================================================================================================================================================================================================================================================================================================================================================================================================================================================================================================================================================================================================================================================================================================================================================================================================================================================================================================================================================================================================================================================================================================================================================================================================================================================================================================================================================================================================================================================================================================================================================] - 8s 9ms/sample - loss: 0.2250 - acc: 0.9131\n",
            "11/11 [==============================] - 33s 3s/step - loss: 0.1138 - acc: 0.9556 - val_loss: 0.2256 - val_acc: 0.9131\n"
          ],
          "name": "stdout"
        }
      ]
    },
    {
      "cell_type": "code",
      "metadata": {
        "id": "2z-TywiooBFd",
        "colab_type": "code",
        "outputId": "43a6de7a-87ab-4977-9380-3e3dc4fbc69b",
        "colab": {
          "base_uri": "https://localhost:8080/",
          "height": 410
        }
      },
      "source": [
        "\n",
        "# Check out our train loss and test loss over epochs.\n",
        "train_loss = history.history['acc']\n",
        "test_loss = history.history['val_acc']\n",
        "\n",
        "# Set figure size.\n",
        "plt.figure(figsize=(10, 6))\n",
        "\n",
        "# Generate line plot of training, testing loss over epochs.\n",
        "plt.plot(train_loss, label='Training accuracy', color='#185fad')\n",
        "plt.plot(test_loss, label='Testing accuracy', color='orange')\n",
        "\n",
        "# Set title\n",
        "plt.title('Training and Testing accuracy by Epoch with Image Augumentaion for VGG16', fontsize = 16)\n",
        "plt.xlabel('Epoch', fontsize = 14)\n",
        "plt.ylabel('Accuracy', fontsize = 14)\n",
        "#plt.xticks([0, 1, 2, 3, 4], [1, 2, 3, 4, 5])\n",
        "\n",
        "plt.legend(fontsize = 14);"
      ],
      "execution_count": 62,
      "outputs": [
        {
          "output_type": "display_data",
          "data": {
            "image/png": "[encoded data removed]",
            "text/plain": [
              "<Figure size 720x432 with 1 Axes>"
            ]
          },
          "metadata": {
            "tags": []
          }
        }
      ]
    },
    {
      "cell_type": "code",
      "metadata": {
        "id": "_GclevcVREsr",
        "colab_type": "code",
        "colab": {
          "base_uri": "https://localhost:8080/",
          "height": 410
        },
        "outputId": "6d16e4e0-2bd0-4733-c4bc-a008ce4e4d94"
      },
      "source": [
        "\n",
        "# Check out our train loss and test loss over epochs.\n",
        "train_loss = history.history['loss']\n",
        "test_loss = history.history['val_loss']\n",
        "\n",
        "# Set figure size.\n",
        "plt.figure(figsize=(10, 6))\n",
        "\n",
        "# Generate line plot of training, testing loss over epochs.\n",
        "plt.plot(train_loss, label='Training Loss', color='#185fad')\n",
        "plt.plot(test_loss, label='Testing Loss', color='orange')\n",
        "\n",
        "# Set title\n",
        "plt.title('Training and Testing loss by Epoch with Image Augumentaion for VGG16', fontsize = 16)\n",
        "plt.xlabel('Epoch', fontsize = 14)\n",
        "plt.ylabel('Binary_Crosscentrophy', fontsize = 14)\n",
        "#plt.xticks([0, 1, 2, 3, 4], [1, 2, 3, 4, 5])\n",
        "\n",
        "plt.legend(fontsize = 14);\n"
      ],
      "execution_count": 64,
      "outputs": [
        {
          "output_type": "display_data",
          "data": {
            "image/png": "[encoded data removed]",
            "text/plain": [
              "<Figure size 720x432 with 1 Axes>"
            ]
          },
          "metadata": {
            "tags": []
          }
        }
      ]
    },
    {
      "cell_type": "markdown",
      "metadata": {
        "id": "0GGUnSx7YBLd",
        "colab_type": "text"
      },
      "source": [
        "The VGG16 Pretrained model has the accuracy opf 0.91. And this model is used to predict the test images which are the following commands"
      ]
    },
    {
      "cell_type": "code",
      "metadata": {
        "id": "pOH7YIFpHG0z",
        "colab_type": "code",
        "colab": {}
      },
      "source": [
        "pred_class= model.predict(photos_test)\n"
      ],
      "execution_count": 0,
      "outputs": []
    },
    {
      "cell_type": "code",
      "metadata": {
        "id": "yq9W28LnO_l9",
        "colab_type": "code",
        "colab": {}
      },
      "source": [
        "#y_photos_test = np.argmax( pred_class ,axis=None,out=None)\n",
        "\n",
        "y_photos_test = [np.argmax(y, axis=None, out=None) for y in pred_class]"
      ],
      "execution_count": 0,
      "outputs": []
    },
    {
      "cell_type": "code",
      "metadata": {
        "id": "Mc1-XEZQPkpt",
        "colab_type": "code",
        "colab": {}
      },
      "source": [
        "df_pred = pd.DataFrame(labels_test) "
      ],
      "execution_count": 0,
      "outputs": []
    },
    {
      "cell_type": "code",
      "metadata": {
        "id": "LufO0JF7Rqz7",
        "colab_type": "code",
        "colab": {}
      },
      "source": [
        "df_pred['classes'] = y_photos_test"
      ],
      "execution_count": 0,
      "outputs": []
    },
    {
      "cell_type": "code",
      "metadata": {
        "id": "Ml9R2Yq6R1X3",
        "colab_type": "code",
        "outputId": "65b0b35b-5671-464d-a3a2-225c86359ba3",
        "colab": {
          "base_uri": "https://localhost:8080/",
          "height": 204
        }
      },
      "source": [
        "my_columns = [\"id_code\", \"diagnosis\"]\n",
        "\n",
        "df_pred.columns = my_columns\n",
        "\n",
        "df_pred.head()"
      ],
      "execution_count": 0,
      "outputs": [
        {
          "output_type": "execute_result",
          "data": {
            "text/html": [
              "<div>\n",
              "<style scoped>\n",
              "    .dataframe tbody tr th:only-of-type {\n",
              "        vertical-align: middle;\n",
              "    }\n",
              "\n",
              "    .dataframe tbody tr th {\n",
              "        vertical-align: top;\n",
              "    }\n",
              "\n",
              "    .dataframe thead th {\n",
              "        text-align: right;\n",
              "    }\n",
              "</style>\n",
              "<table border=\"1\" class=\"dataframe\">\n",
              "  <thead>\n",
              "    <tr style=\"text-align: right;\">\n",
              "      <th></th>\n",
              "      <th>id_code</th>\n",
              "      <th>diagnosis</th>\n",
              "    </tr>\n",
              "  </thead>\n",
              "  <tbody>\n",
              "    <tr>\n",
              "      <th>0</th>\n",
              "      <td>afc9e5eb7158</td>\n",
              "      <td>2</td>\n",
              "    </tr>\n",
              "    <tr>\n",
              "      <th>1</th>\n",
              "      <td>b9195b82342b</td>\n",
              "      <td>2</td>\n",
              "    </tr>\n",
              "    <tr>\n",
              "      <th>2</th>\n",
              "      <td>dff51d618ebd</td>\n",
              "      <td>2</td>\n",
              "    </tr>\n",
              "    <tr>\n",
              "      <th>3</th>\n",
              "      <td>eb470f336ee2</td>\n",
              "      <td>2</td>\n",
              "    </tr>\n",
              "    <tr>\n",
              "      <th>4</th>\n",
              "      <td>c5c5c97d4404</td>\n",
              "      <td>2</td>\n",
              "    </tr>\n",
              "  </tbody>\n",
              "</table>\n",
              "</div>"
            ],
            "text/plain": [
              "        id_code  diagnosis\n",
              "0  afc9e5eb7158          2\n",
              "1  b9195b82342b          2\n",
              "2  dff51d618ebd          2\n",
              "3  eb470f336ee2          2\n",
              "4  c5c5c97d4404          2"
            ]
          },
          "metadata": {
            "tags": []
          },
          "execution_count": 88
        }
      ]
    },
    {
      "cell_type": "code",
      "metadata": {
        "id": "8LqujcyIQhbO",
        "colab_type": "code",
        "colab": {}
      },
      "source": [
        "df_test =pd.read_csv('/content/drive/My Drive/Capstone/Data/test.csv')"
      ],
      "execution_count": 0,
      "outputs": []
    },
    {
      "cell_type": "code",
      "metadata": {
        "id": "oryR0RLpS6Z6",
        "colab_type": "code",
        "colab": {}
      },
      "source": [
        "df_test = df_test.merge(df_pred,how='left')"
      ],
      "execution_count": 0,
      "outputs": []
    },
    {
      "cell_type": "code",
      "metadata": {
        "id": "UxFIh-XMUgg6",
        "colab_type": "code",
        "colab": {}
      },
      "source": [
        "df_test.to_csv('/content/drive/My Drive/Capstone/Data/sample_submission.csv')"
      ],
      "execution_count": 0,
      "outputs": []
    },
    {
      "cell_type": "code",
      "metadata": {
        "id": "OVBNkNS1VPFL",
        "colab_type": "code",
        "colab": {}
      },
      "source": [
        "from google.colab import files\n",
        "files.download('sample_submission.csv')"
      ],
      "execution_count": 0,
      "outputs": []
    },
    {
      "cell_type": "markdown",
      "metadata": {
        "id": "tjFdmFzvYR8g",
        "colab_type": "text"
      },
      "source": [
        "Sample Image for the filters of the VGG16 in between layers. "
      ]
    },
    {
      "cell_type": "code",
      "metadata": {
        "id": "SwGc8LQaqNH-",
        "colab_type": "code",
        "colab": {}
      },
      "source": [
        "inp = X_test[0]"
      ],
      "execution_count": 0,
      "outputs": []
    },
    {
      "cell_type": "code",
      "metadata": {
        "id": "aHC0PosAqqBr",
        "colab_type": "code",
        "colab": {}
      },
      "source": [
        "inp =np.array([inp])"
      ],
      "execution_count": 0,
      "outputs": []
    },
    {
      "cell_type": "code",
      "metadata": {
        "id": "3GocCCzPqxH5",
        "colab_type": "code",
        "colab": {}
      },
      "source": [
        "inp.shape"
      ],
      "execution_count": 0,
      "outputs": []
    },
    {
      "cell_type": "code",
      "metadata": {
        "id": "LkmNmJB5hAv9",
        "colab_type": "code",
        "colab": {}
      },
      "source": [
        "activations= model.predict(inp)"
      ],
      "execution_count": 0,
      "outputs": []
    },
    {
      "cell_type": "code",
      "metadata": {
        "id": "26t5Bvtxr3f6",
        "colab_type": "code",
        "outputId": "7af3ebd1-b6ea-47eb-d6f5-bd5590a88976",
        "colab": {
          "base_uri": "https://localhost:8080/",
          "height": 34
        }
      },
      "source": [
        "activations.shape[1]"
      ],
      "execution_count": 0,
      "outputs": [
        {
          "output_type": "execute_result",
          "data": {
            "text/plain": [
              "5"
            ]
          },
          "metadata": {
            "tags": []
          },
          "execution_count": 85
        }
      ]
    },
    {
      "cell_type": "markdown",
      "metadata": {
        "id": "DBhdY1WyYf06",
        "colab_type": "text"
      },
      "source": [
        "**Layer1 : Output**"
      ]
    },
    {
      "cell_type": "code",
      "metadata": {
        "id": "aQfC4l6ahlKA",
        "colab_type": "code",
        "outputId": "bb422dab-c720-46e4-8a4b-216b714490ac",
        "colab": {
          "base_uri": "https://localhost:8080/",
          "height": 252
        }
      },
      "source": [
        "model_l1 = Model(inputs=model.inputs, outputs=model.layers[1].output)\n",
        "feature_maps = model_l1.predict(inp)\n",
        "# plot the output from each block\n",
        "square = 8\n",
        "for fmap in feature_maps:\n",
        "\t# plot all 64 maps in an 8x8 squares\n",
        "\tix = 1\n",
        "\tfor _ in range(square):\n",
        "\t\tfor _ in range(square):\n",
        "\t\t\t# specify subplot and turn of axis\n",
        "\t\t\tax = plt.subplot(square, square, ix)\n",
        "\t\t\tax.set_xticks([])\n",
        "\t\t\tax.set_yticks([])\n",
        "\t\t\t# plot filter channel in grayscale\n",
        "\t\t\tplt.imshow(fmap[ :, :, ix-1], cmap='viridis')\n",
        "\t\t\tix += 1\n",
        "\t# show the figure\n",
        "\tplt.show()"
      ],
      "execution_count": 68,
      "outputs": [
        {
          "output_type": "display_data",
          "data": {
            "image/png": "[encoded data removed]",
            "text/plain": [
              "<Figure size 432x288 with 64 Axes>"
            ]
          },
          "metadata": {
            "tags": []
          }
        }
      ]
    },
    {
      "cell_type": "markdown",
      "metadata": {
        "id": "8tTAzFmrYm1c",
        "colab_type": "text"
      },
      "source": [
        "**Layer5 Output**"
      ]
    },
    {
      "cell_type": "code",
      "metadata": {
        "id": "dLzW1Nyp_Ptq",
        "colab_type": "code",
        "outputId": "d19356f5-de05-43da-f0c2-64818508c30e",
        "colab": {
          "base_uri": "https://localhost:8080/",
          "height": 252
        }
      },
      "source": [
        "model_l5 = Model(inputs=model.inputs, outputs=model.layers[5].output)\n",
        "feature_maps = model_l5.predict(inp)\n",
        "# plot the output from each block\n",
        "square = 8\n",
        "for fmap in feature_maps:\n",
        "\t# plot all 64 maps in an 8x8 squares\n",
        "\tix = 1\n",
        "\tfor i in range(8):\n",
        "\t\tfor j in range(12):\n",
        "\t\t\t# specify subplot and turn of axis\n",
        "\t\t\tax = plt.subplot(8, 12, ix)\n",
        "\t\t\tax.set_xticks([])\n",
        "\t\t\tax.set_yticks([])\n",
        "\t\t\t# plot filter channel in grayscale\n",
        "\t\t\tplt.imshow(fmap[ :, :, ix-1], cmap='viridis')\n",
        "\t\t\tix += 1\n",
        "\t# show the figure\n",
        "\tplt.show()"
      ],
      "execution_count": 83,
      "outputs": [
        {
          "output_type": "display_data",
          "data": {
            "image/png": "[encoded data removed]",
            "text/plain": [
              "<Figure size 432x288 with 96 Axes>"
            ]
          },
          "metadata": {
            "tags": []
          }
        }
      ]
    },
    {
      "cell_type": "markdown",
      "metadata": {
        "id": "M9_LByDMB-Tm",
        "colab_type": "text"
      },
      "source": [
        "**ResNet Base Model**"
      ]
    },
    {
      "cell_type": "markdown",
      "metadata": {
        "id": "68MGUezdYydG",
        "colab_type": "text"
      },
      "source": [
        "The resnet101 pretrained model is evaluvated , to see if there is any room for improvement in accuracy. But the accuracy was 0.76."
      ]
    },
    {
      "cell_type": "code",
      "metadata": {
        "id": "80_ENzCECAf9",
        "colab_type": "code",
        "outputId": "84f2ba32-9824-466c-9a9b-5586b78206cf",
        "colab": {
          "base_uri": "https://localhost:8080/",
          "height": 71
        }
      },
      "source": [
        "\n",
        "# create the base pre-trained model\n",
        "base_resnet_model = tf.keras.applications.ResNet101(weights='imagenet', include_top=False, input_shape=(224, 224, 3))"
      ],
      "execution_count": 84,
      "outputs": [
        {
          "output_type": "stream",
          "text": [
            "Downloading data from https://github.com/keras-team/keras-applications/releases/download/resnet/resnet101_weights_tf_dim_ordering_tf_kernels_notop.h5\n",
            "171450368/171446536 [==============================] - 3s 0us/step\n"
          ],
          "name": "stdout"
        }
      ]
    },
    {
      "cell_type": "code",
      "metadata": {
        "id": "wR5ht-j8Cp6x",
        "colab_type": "code",
        "outputId": "2860954f-be8c-41d7-9b6c-f5b4b83b5def",
        "colab": {
          "base_uri": "https://localhost:8080/",
          "height": 34
        }
      },
      "source": [
        "\n",
        "x = base_resnet_model.output\n",
        "x = GlobalAveragePooling2D()(x) \n",
        "x = Dense(512, activation='relu')(x)\n",
        "x = Dense(1024, activation='relu')(x)\n",
        "predictions = Dense(5, activation='sigmoid')(x)\n",
        "model_resnet = Model(inputs=base_resnet_model.input, outputs=predictions)\n",
        "len(model_resnet.layers)"
      ],
      "execution_count": 85,
      "outputs": [
        {
          "output_type": "execute_result",
          "data": {
            "text/plain": [
              "349"
            ]
          },
          "metadata": {
            "tags": []
          },
          "execution_count": 85
        }
      ]
    },
    {
      "cell_type": "code",
      "metadata": {
        "id": "NYrbjZgVC10e",
        "colab_type": "code",
        "outputId": "dea0e256-6def-4a46-a33f-f1542f576c02",
        "colab": {
          "base_uri": "https://localhost:8080/",
          "height": 1000
        }
      },
      "source": [
        "for layer in base_resnet_model.layers:\n",
        "    layer.trainable = False\n",
        "\n",
        "for layer in model_resnet.layers:\n",
        "    print(layer.name,layer.trainable)"
      ],
      "execution_count": 86,
      "outputs": [
        {
          "output_type": "stream",
          "text": [
            "input_3 False\n",
            "conv1_pad False\n",
            "conv1_conv False\n",
            "conv1_bn False\n",
            "conv1_relu False\n",
            "pool1_pad False\n",
            "pool1_pool False\n",
            "conv2_block1_1_conv False\n",
            "conv2_block1_1_bn False\n",
            "conv2_block1_1_relu False\n",
            "conv2_block1_2_conv False\n",
            "conv2_block1_2_bn False\n",
            "conv2_block1_2_relu False\n",
            "conv2_block1_0_conv False\n",
            "conv2_block1_3_conv False\n",
            "conv2_block1_0_bn False\n",
            "conv2_block1_3_bn False\n",
            "conv2_block1_add False\n",
            "conv2_block1_out False\n",
            "conv2_block2_1_conv False\n",
            "conv2_block2_1_bn False\n",
            "conv2_block2_1_relu False\n",
            "conv2_block2_2_conv False\n",
            "conv2_block2_2_bn False\n",
            "conv2_block2_2_relu False\n",
            "conv2_block2_3_conv False\n",
            "conv2_block2_3_bn False\n",
            "conv2_block2_add False\n",
            "conv2_block2_out False\n",
            "conv2_block3_1_conv False\n",
            "conv2_block3_1_bn False\n",
            "conv2_block3_1_relu False\n",
            "conv2_block3_2_conv False\n",
            "conv2_block3_2_bn False\n",
            "conv2_block3_2_relu False\n",
            "conv2_block3_3_conv False\n",
            "conv2_block3_3_bn False\n",
            "conv2_block3_add False\n",
            "conv2_block3_out False\n",
            "conv3_block1_1_conv False\n",
            "conv3_block1_1_bn False\n",
            "conv3_block1_1_relu False\n",
            "conv3_block1_2_conv False\n",
            "conv3_block1_2_bn False\n",
            "conv3_block1_2_relu False\n",
            "conv3_block1_0_conv False\n",
            "conv3_block1_3_conv False\n",
            "conv3_block1_0_bn False\n",
            "conv3_block1_3_bn False\n",
            "conv3_block1_add False\n",
            "conv3_block1_out False\n",
            "conv3_block2_1_conv False\n",
            "conv3_block2_1_bn False\n",
            "conv3_block2_1_relu False\n",
            "conv3_block2_2_conv False\n",
            "conv3_block2_2_bn False\n",
            "conv3_block2_2_relu False\n",
            "conv3_block2_3_conv False\n",
            "conv3_block2_3_bn False\n",
            "conv3_block2_add False\n",
            "conv3_block2_out False\n",
            "conv3_block3_1_conv False\n",
            "conv3_block3_1_bn False\n",
            "conv3_block3_1_relu False\n",
            "conv3_block3_2_conv False\n",
            "conv3_block3_2_bn False\n",
            "conv3_block3_2_relu False\n",
            "conv3_block3_3_conv False\n",
            "conv3_block3_3_bn False\n",
            "conv3_block3_add False\n",
            "conv3_block3_out False\n",
            "conv3_block4_1_conv False\n",
            "conv3_block4_1_bn False\n",
            "conv3_block4_1_relu False\n",
            "conv3_block4_2_conv False\n",
            "conv3_block4_2_bn False\n",
            "conv3_block4_2_relu False\n",
            "conv3_block4_3_conv False\n",
            "conv3_block4_3_bn False\n",
            "conv3_block4_add False\n",
            "conv3_block4_out False\n",
            "conv4_block1_1_conv False\n",
            "conv4_block1_1_bn False\n",
            "conv4_block1_1_relu False\n",
            "conv4_block1_2_conv False\n",
            "conv4_block1_2_bn False\n",
            "conv4_block1_2_relu False\n",
            "conv4_block1_0_conv False\n",
            "conv4_block1_3_conv False\n",
            "conv4_block1_0_bn False\n",
            "conv4_block1_3_bn False\n",
            "conv4_block1_add False\n",
            "conv4_block1_out False\n",
            "conv4_block2_1_conv False\n",
            "conv4_block2_1_bn False\n",
            "conv4_block2_1_relu False\n",
            "conv4_block2_2_conv False\n",
            "conv4_block2_2_bn False\n",
            "conv4_block2_2_relu False\n",
            "conv4_block2_3_conv False\n",
            "conv4_block2_3_bn False\n",
            "conv4_block2_add False\n",
            "conv4_block2_out False\n",
            "conv4_block3_1_conv False\n",
            "conv4_block3_1_bn False\n",
            "conv4_block3_1_relu False\n",
            "conv4_block3_2_conv False\n",
            "conv4_block3_2_bn False\n",
            "conv4_block3_2_relu False\n",
            "conv4_block3_3_conv False\n",
            "conv4_block3_3_bn False\n",
            "conv4_block3_add False\n",
            "conv4_block3_out False\n",
            "conv4_block4_1_conv False\n",
            "conv4_block4_1_bn False\n",
            "conv4_block4_1_relu False\n",
            "conv4_block4_2_conv False\n",
            "conv4_block4_2_bn False\n",
            "conv4_block4_2_relu False\n",
            "conv4_block4_3_conv False\n",
            "conv4_block4_3_bn False\n",
            "conv4_block4_add False\n",
            "conv4_block4_out False\n",
            "conv4_block5_1_conv False\n",
            "conv4_block5_1_bn False\n",
            "conv4_block5_1_relu False\n",
            "conv4_block5_2_conv False\n",
            "conv4_block5_2_bn False\n",
            "conv4_block5_2_relu False\n",
            "conv4_block5_3_conv False\n",
            "conv4_block5_3_bn False\n",
            "conv4_block5_add False\n",
            "conv4_block5_out False\n",
            "conv4_block6_1_conv False\n",
            "conv4_block6_1_bn False\n",
            "conv4_block6_1_relu False\n",
            "conv4_block6_2_conv False\n",
            "conv4_block6_2_bn False\n",
            "conv4_block6_2_relu False\n",
            "conv4_block6_3_conv False\n",
            "conv4_block6_3_bn False\n",
            "conv4_block6_add False\n",
            "conv4_block6_out False\n",
            "conv4_block7_1_conv False\n",
            "conv4_block7_1_bn False\n",
            "conv4_block7_1_relu False\n",
            "conv4_block7_2_conv False\n",
            "conv4_block7_2_bn False\n",
            "conv4_block7_2_relu False\n",
            "conv4_block7_3_conv False\n",
            "conv4_block7_3_bn False\n",
            "conv4_block7_add False\n",
            "conv4_block7_out False\n",
            "conv4_block8_1_conv False\n",
            "conv4_block8_1_bn False\n",
            "conv4_block8_1_relu False\n",
            "conv4_block8_2_conv False\n",
            "conv4_block8_2_bn False\n",
            "conv4_block8_2_relu False\n",
            "conv4_block8_3_conv False\n",
            "conv4_block8_3_bn False\n",
            "conv4_block8_add False\n",
            "conv4_block8_out False\n",
            "conv4_block9_1_conv False\n",
            "conv4_block9_1_bn False\n",
            "conv4_block9_1_relu False\n",
            "conv4_block9_2_conv False\n",
            "conv4_block9_2_bn False\n",
            "conv4_block9_2_relu False\n",
            "conv4_block9_3_conv False\n",
            "conv4_block9_3_bn False\n",
            "conv4_block9_add False\n",
            "conv4_block9_out False\n",
            "conv4_block10_1_conv False\n",
            "conv4_block10_1_bn False\n",
            "conv4_block10_1_relu False\n",
            "conv4_block10_2_conv False\n",
            "conv4_block10_2_bn False\n",
            "conv4_block10_2_relu False\n",
            "conv4_block10_3_conv False\n",
            "conv4_block10_3_bn False\n",
            "conv4_block10_add False\n",
            "conv4_block10_out False\n",
            "conv4_block11_1_conv False\n",
            "conv4_block11_1_bn False\n",
            "conv4_block11_1_relu False\n",
            "conv4_block11_2_conv False\n",
            "conv4_block11_2_bn False\n",
            "conv4_block11_2_relu False\n",
            "conv4_block11_3_conv False\n",
            "conv4_block11_3_bn False\n",
            "conv4_block11_add False\n",
            "conv4_block11_out False\n",
            "conv4_block12_1_conv False\n",
            "conv4_block12_1_bn False\n",
            "conv4_block12_1_relu False\n",
            "conv4_block12_2_conv False\n",
            "conv4_block12_2_bn False\n",
            "conv4_block12_2_relu False\n",
            "conv4_block12_3_conv False\n",
            "conv4_block12_3_bn False\n",
            "conv4_block12_add False\n",
            "conv4_block12_out False\n",
            "conv4_block13_1_conv False\n",
            "conv4_block13_1_bn False\n",
            "conv4_block13_1_relu False\n",
            "conv4_block13_2_conv False\n",
            "conv4_block13_2_bn False\n",
            "conv4_block13_2_relu False\n",
            "conv4_block13_3_conv False\n",
            "conv4_block13_3_bn False\n",
            "conv4_block13_add False\n",
            "conv4_block13_out False\n",
            "conv4_block14_1_conv False\n",
            "conv4_block14_1_bn False\n",
            "conv4_block14_1_relu False\n",
            "conv4_block14_2_conv False\n",
            "conv4_block14_2_bn False\n",
            "conv4_block14_2_relu False\n",
            "conv4_block14_3_conv False\n",
            "conv4_block14_3_bn False\n",
            "conv4_block14_add False\n",
            "conv4_block14_out False\n",
            "conv4_block15_1_conv False\n",
            "conv4_block15_1_bn False\n",
            "conv4_block15_1_relu False\n",
            "conv4_block15_2_conv False\n",
            "conv4_block15_2_bn False\n",
            "conv4_block15_2_relu False\n",
            "conv4_block15_3_conv False\n",
            "conv4_block15_3_bn False\n",
            "conv4_block15_add False\n",
            "conv4_block15_out False\n",
            "conv4_block16_1_conv False\n",
            "conv4_block16_1_bn False\n",
            "conv4_block16_1_relu False\n",
            "conv4_block16_2_conv False\n",
            "conv4_block16_2_bn False\n",
            "conv4_block16_2_relu False\n",
            "conv4_block16_3_conv False\n",
            "conv4_block16_3_bn False\n",
            "conv4_block16_add False\n",
            "conv4_block16_out False\n",
            "conv4_block17_1_conv False\n",
            "conv4_block17_1_bn False\n",
            "conv4_block17_1_relu False\n",
            "conv4_block17_2_conv False\n",
            "conv4_block17_2_bn False\n",
            "conv4_block17_2_relu False\n",
            "conv4_block17_3_conv False\n",
            "conv4_block17_3_bn False\n",
            "conv4_block17_add False\n",
            "conv4_block17_out False\n",
            "conv4_block18_1_conv False\n",
            "conv4_block18_1_bn False\n",
            "conv4_block18_1_relu False\n",
            "conv4_block18_2_conv False\n",
            "conv4_block18_2_bn False\n",
            "conv4_block18_2_relu False\n",
            "conv4_block18_3_conv False\n",
            "conv4_block18_3_bn False\n",
            "conv4_block18_add False\n",
            "conv4_block18_out False\n",
            "conv4_block19_1_conv False\n",
            "conv4_block19_1_bn False\n",
            "conv4_block19_1_relu False\n",
            "conv4_block19_2_conv False\n",
            "conv4_block19_2_bn False\n",
            "conv4_block19_2_relu False\n",
            "conv4_block19_3_conv False\n",
            "conv4_block19_3_bn False\n",
            "conv4_block19_add False\n",
            "conv4_block19_out False\n",
            "conv4_block20_1_conv False\n",
            "conv4_block20_1_bn False\n",
            "conv4_block20_1_relu False\n",
            "conv4_block20_2_conv False\n",
            "conv4_block20_2_bn False\n",
            "conv4_block20_2_relu False\n",
            "conv4_block20_3_conv False\n",
            "conv4_block20_3_bn False\n",
            "conv4_block20_add False\n",
            "conv4_block20_out False\n",
            "conv4_block21_1_conv False\n",
            "conv4_block21_1_bn False\n",
            "conv4_block21_1_relu False\n",
            "conv4_block21_2_conv False\n",
            "conv4_block21_2_bn False\n",
            "conv4_block21_2_relu False\n",
            "conv4_block21_3_conv False\n",
            "conv4_block21_3_bn False\n",
            "conv4_block21_add False\n",
            "conv4_block21_out False\n",
            "conv4_block22_1_conv False\n",
            "conv4_block22_1_bn False\n",
            "conv4_block22_1_relu False\n",
            "conv4_block22_2_conv False\n",
            "conv4_block22_2_bn False\n",
            "conv4_block22_2_relu False\n",
            "conv4_block22_3_conv False\n",
            "conv4_block22_3_bn False\n",
            "conv4_block22_add False\n",
            "conv4_block22_out False\n",
            "conv4_block23_1_conv False\n",
            "conv4_block23_1_bn False\n",
            "conv4_block23_1_relu False\n",
            "conv4_block23_2_conv False\n",
            "conv4_block23_2_bn False\n",
            "conv4_block23_2_relu False\n",
            "conv4_block23_3_conv False\n",
            "conv4_block23_3_bn False\n",
            "conv4_block23_add False\n",
            "conv4_block23_out False\n",
            "conv5_block1_1_conv False\n",
            "conv5_block1_1_bn False\n",
            "conv5_block1_1_relu False\n",
            "conv5_block1_2_conv False\n",
            "conv5_block1_2_bn False\n",
            "conv5_block1_2_relu False\n",
            "conv5_block1_0_conv False\n",
            "conv5_block1_3_conv False\n",
            "conv5_block1_0_bn False\n",
            "conv5_block1_3_bn False\n",
            "conv5_block1_add False\n",
            "conv5_block1_out False\n",
            "conv5_block2_1_conv False\n",
            "conv5_block2_1_bn False\n",
            "conv5_block2_1_relu False\n",
            "conv5_block2_2_conv False\n",
            "conv5_block2_2_bn False\n",
            "conv5_block2_2_relu False\n",
            "conv5_block2_3_conv False\n",
            "conv5_block2_3_bn False\n",
            "conv5_block2_add False\n",
            "conv5_block2_out False\n",
            "conv5_block3_1_conv False\n",
            "conv5_block3_1_bn False\n",
            "conv5_block3_1_relu False\n",
            "conv5_block3_2_conv False\n",
            "conv5_block3_2_bn False\n",
            "conv5_block3_2_relu False\n",
            "conv5_block3_3_conv False\n",
            "conv5_block3_3_bn False\n",
            "conv5_block3_add False\n",
            "conv5_block3_out False\n",
            "global_average_pooling2d_2 True\n",
            "dense_16 True\n",
            "dense_17 True\n",
            "dense_18 True\n"
          ],
          "name": "stdout"
        }
      ]
    },
    {
      "cell_type": "code",
      "metadata": {
        "id": "LAuo_4etXN77",
        "colab_type": "code",
        "colab": {}
      },
      "source": [
        "model_resnet.compile(optimizer= 'adam', loss='binary_crossentropy',metrics=['accuracy'])"
      ],
      "execution_count": 0,
      "outputs": []
    },
    {
      "cell_type": "code",
      "metadata": {
        "id": "X8YQyJCTC_Nc",
        "colab_type": "code",
        "outputId": "b1a6f0b1-ad84-4cee-e5be-d280911de782",
        "colab": {
          "base_uri": "https://localhost:8080/",
          "height": 1000
        }
      },
      "source": [
        "history_resnet = model_resnet.fit(datagen.flow(X_train, y_train, batch_size=256),\n",
        "                        validation_data=(X_test, y_test),\n",
        "                        epochs=30,\n",
        "                        verbose=1)"
      ],
      "execution_count": 89,
      "outputs": [
        {
          "output_type": "stream",
          "text": [
            "Epoch 1/30\n",
            "10/11 [==========================>...] - ETA: 3s - loss: 0.3920 - acc: 0.8202Epoch 1/30\n",
            "916/11 [==================================================================================================================================================================================================================================================================================================================================================================================================================================================================================================================================================================================================================================================================================================================================================================================================================================================================================================================================================================================================================================================================================================================================================================================================================================================================================================================================================================================================================================================================================================================================================================================================================================================================================================================================================================================================================================================================================================================================================================================================================================================================================================================================================================================================================================================================================================================================================================================================================================================================================================================================================================================================] - 15s 17ms/sample - loss: 0.6812 - acc: 0.8107\n",
            "11/11 [==============================] - 59s 5s/step - loss: 0.3791 - acc: 0.8256 - val_loss: 0.6466 - val_acc: 0.8107\n",
            "Epoch 2/30\n",
            "10/11 [==========================>...] - ETA: 2s - loss: 0.2378 - acc: 0.9021Epoch 1/30\n",
            "916/11 [==================================================================================================================================================================================================================================================================================================================================================================================================================================================================================================================================================================================================================================================================================================================================================================================================================================================================================================================================================================================================================================================================================================================================================================================================================================================================================================================================================================================================================================================================================================================================================================================================================================================================================================================================================================================================================================================================================================================================================================================================================================================================================================================================================================================================================================================================================================================================================================================================================================================================================================================================================================================================] - 13s 14ms/sample - loss: 0.8287 - acc: 0.8085\n",
            "11/11 [==============================] - 45s 4s/step - loss: 0.2337 - acc: 0.9033 - val_loss: 0.7917 - val_acc: 0.8085\n",
            "Epoch 3/30\n",
            "10/11 [==========================>...] - ETA: 2s - loss: 0.2148 - acc: 0.9051Epoch 1/30\n",
            "916/11 [==================================================================================================================================================================================================================================================================================================================================================================================================================================================================================================================================================================================================================================================================================================================================================================================================================================================================================================================================================================================================================================================================================================================================================================================================================================================================================================================================================================================================================================================================================================================================================================================================================================================================================================================================================================================================================================================================================================================================================================================================================================================================================================================================================================================================================================================================================================================================================================================================================================================================================================================================================================================================] - 10s 11ms/sample - loss: 0.9419 - acc: 0.8052\n",
            "11/11 [==============================] - 42s 4s/step - loss: 0.2135 - acc: 0.9063 - val_loss: 0.9016 - val_acc: 0.8052\n",
            "Epoch 4/30\n",
            "10/11 [==========================>...] - ETA: 2s - loss: 0.2037 - acc: 0.9100Epoch 1/30\n",
            "916/11 [==================================================================================================================================================================================================================================================================================================================================================================================================================================================================================================================================================================================================================================================================================================================================================================================================================================================================================================================================================================================================================================================================================================================================================================================================================================================================================================================================================================================================================================================================================================================================================================================================================================================================================================================================================================================================================================================================================================================================================================================================================================================================================================================================================================================================================================================================================================================================================================================================================================================================================================================================================================================================] - 10s 11ms/sample - loss: 0.8619 - acc: 0.8105\n",
            "11/11 [==============================] - 42s 4s/step - loss: 0.1999 - acc: 0.9132 - val_loss: 0.8256 - val_acc: 0.8105\n",
            "Epoch 5/30\n",
            "10/11 [==========================>...] - ETA: 2s - loss: 0.1908 - acc: 0.9206Epoch 1/30\n",
            "916/11 [==================================================================================================================================================================================================================================================================================================================================================================================================================================================================================================================================================================================================================================================================================================================================================================================================================================================================================================================================================================================================================================================================================================================================================================================================================================================================================================================================================================================================================================================================================================================================================================================================================================================================================================================================================================================================================================================================================================================================================================================================================================================================================================================================================================================================================================================================================================================================================================================================================================================================================================================================================================================================] - 10s 11ms/sample - loss: 0.5776 - acc: 0.8443\n",
            "11/11 [==============================] - 42s 4s/step - loss: 0.1905 - acc: 0.9206 - val_loss: 0.5551 - val_acc: 0.8443\n",
            "Epoch 6/30\n",
            "10/11 [==========================>...] - ETA: 2s - loss: 0.1793 - acc: 0.9243Epoch 1/30\n",
            "916/11 [==================================================================================================================================================================================================================================================================================================================================================================================================================================================================================================================================================================================================================================================================================================================================================================================================================================================================================================================================================================================================================================================================================================================================================================================================================================================================================================================================================================================================================================================================================================================================================================================================================================================================================================================================================================================================================================================================================================================================================================================================================================================================================================================================================================================================================================================================================================================================================================================================================================================================================================================================================================================================] - 10s 11ms/sample - loss: 0.7834 - acc: 0.8238\n",
            "11/11 [==============================] - 42s 4s/step - loss: 0.1799 - acc: 0.9235 - val_loss: 0.7542 - val_acc: 0.8238\n",
            "Epoch 7/30\n",
            "10/11 [==========================>...] - ETA: 2s - loss: 0.1683 - acc: 0.9307Epoch 1/30\n",
            "916/11 [==================================================================================================================================================================================================================================================================================================================================================================================================================================================================================================================================================================================================================================================================================================================================================================================================================================================================================================================================================================================================================================================================================================================================================================================================================================================================================================================================================================================================================================================================================================================================================================================================================================================================================================================================================================================================================================================================================================================================================================================================================================================================================================================================================================================================================================================================================================================================================================================================================================================================================================================================================================================================] - 10s 11ms/sample - loss: 0.6848 - acc: 0.8358\n",
            "11/11 [==============================] - 42s 4s/step - loss: 0.1699 - acc: 0.9295 - val_loss: 0.6626 - val_acc: 0.8358\n",
            "Epoch 8/30\n",
            "10/11 [==========================>...] - ETA: 2s - loss: 0.1636 - acc: 0.9333Epoch 1/30\n",
            "916/11 [==================================================================================================================================================================================================================================================================================================================================================================================================================================================================================================================================================================================================================================================================================================================================================================================================================================================================================================================================================================================================================================================================================================================================================================================================================================================================================================================================================================================================================================================================================================================================================================================================================================================================================================================================================================================================================================================================================================================================================================================================================================================================================================================================================================================================================================================================================================================================================================================================================================================================================================================================================================================================] - 10s 11ms/sample - loss: 0.7927 - acc: 0.8002\n",
            "11/11 [==============================] - 42s 4s/step - loss: 0.1660 - acc: 0.9318 - val_loss: 0.7712 - val_acc: 0.8002\n",
            "Epoch 9/30\n",
            "10/11 [==========================>...] - ETA: 2s - loss: 0.1645 - acc: 0.9296Epoch 1/30\n",
            "916/11 [==================================================================================================================================================================================================================================================================================================================================================================================================================================================================================================================================================================================================================================================================================================================================================================================================================================================================================================================================================================================================================================================================================================================================================================================================================================================================================================================================================================================================================================================================================================================================================================================================================================================================================================================================================================================================================================================================================================================================================================================================================================================================================================================================================================================================================================================================================================================================================================================================================================================================================================================================================================================================] - 10s 11ms/sample - loss: 0.7563 - acc: 0.8253\n",
            "11/11 [==============================] - 42s 4s/step - loss: 0.1647 - acc: 0.9293 - val_loss: 0.7341 - val_acc: 0.8253\n",
            "Epoch 10/30\n",
            "10/11 [==========================>...] - ETA: 2s - loss: 0.1584 - acc: 0.9335Epoch 1/30\n",
            "916/11 [==================================================================================================================================================================================================================================================================================================================================================================================================================================================================================================================================================================================================================================================================================================================================================================================================================================================================================================================================================================================================================================================================================================================================================================================================================================================================================================================================================================================================================================================================================================================================================================================================================================================================================================================================================================================================================================================================================================================================================================================================================================================================================================================================================================================================================================================================================================================================================================================================================================================================================================================================================================================================] - 10s 11ms/sample - loss: 0.8081 - acc: 0.7893\n",
            "11/11 [==============================] - 42s 4s/step - loss: 0.1582 - acc: 0.9331 - val_loss: 0.7921 - val_acc: 0.7893\n",
            "Epoch 11/30\n",
            "10/11 [==========================>...] - ETA: 2s - loss: 0.1589 - acc: 0.9345Epoch 1/30\n",
            "916/11 [==================================================================================================================================================================================================================================================================================================================================================================================================================================================================================================================================================================================================================================================================================================================================================================================================================================================================================================================================================================================================================================================================================================================================================================================================================================================================================================================================================================================================================================================================================================================================================================================================================================================================================================================================================================================================================================================================================================================================================================================================================================================================================================================================================================================================================================================================================================================================================================================================================================================================================================================================================================================================] - 11s 12ms/sample - loss: 0.8550 - acc: 0.8172\n",
            "11/11 [==============================] - 42s 4s/step - loss: 0.1613 - acc: 0.9336 - val_loss: 0.8298 - val_acc: 0.8172\n",
            "Epoch 12/30\n",
            "10/11 [==========================>...] - ETA: 2s - loss: 0.1578 - acc: 0.9355Epoch 1/30\n",
            "916/11 [==================================================================================================================================================================================================================================================================================================================================================================================================================================================================================================================================================================================================================================================================================================================================================================================================================================================================================================================================================================================================================================================================================================================================================================================================================================================================================================================================================================================================================================================================================================================================================================================================================================================================================================================================================================================================================================================================================================================================================================================================================================================================================================================================================================================================================================================================================================================================================================================================================================================================================================================================================================================================] - 10s 11ms/sample - loss: 0.6962 - acc: 0.8225\n",
            "11/11 [==============================] - 42s 4s/step - loss: 0.1568 - acc: 0.9358 - val_loss: 0.6848 - val_acc: 0.8225\n",
            "Epoch 13/30\n",
            "10/11 [==========================>...] - ETA: 2s - loss: 0.1441 - acc: 0.9390Epoch 1/30\n",
            "916/11 [==================================================================================================================================================================================================================================================================================================================================================================================================================================================================================================================================================================================================================================================================================================================================================================================================================================================================================================================================================================================================================================================================================================================================================================================================================================================================================================================================================================================================================================================================================================================================================================================================================================================================================================================================================================================================================================================================================================================================================================================================================================================================================================================================================================================================================================================================================================================================================================================================================================================================================================================================================================================================] - 10s 11ms/sample - loss: 0.6537 - acc: 0.8321\n",
            "11/11 [==============================] - 42s 4s/step - loss: 0.1458 - acc: 0.9379 - val_loss: 0.6506 - val_acc: 0.8321\n",
            "Epoch 14/30\n",
            "10/11 [==========================>...] - ETA: 2s - loss: 0.1469 - acc: 0.9392Epoch 1/30\n",
            "916/11 [==================================================================================================================================================================================================================================================================================================================================================================================================================================================================================================================================================================================================================================================================================================================================================================================================================================================================================================================================================================================================================================================================================================================================================================================================================================================================================================================================================================================================================================================================================================================================================================================================================================================================================================================================================================================================================================================================================================================================================================================================================================================================================================================================================================================================================================================================================================================================================================================================================================================================================================================================================================================================] - 10s 11ms/sample - loss: 0.8202 - acc: 0.7985\n",
            "11/11 [==============================] - 42s 4s/step - loss: 0.1447 - acc: 0.9403 - val_loss: 0.8133 - val_acc: 0.7985\n",
            "Epoch 15/30\n",
            "10/11 [==========================>...] - ETA: 2s - loss: 0.1425 - acc: 0.9410Epoch 1/30\n",
            "916/11 [==================================================================================================================================================================================================================================================================================================================================================================================================================================================================================================================================================================================================================================================================================================================================================================================================================================================================================================================================================================================================================================================================================================================================================================================================================================================================================================================================================================================================================================================================================================================================================================================================================================================================================================================================================================================================================================================================================================================================================================================================================================================================================================================================================================================================================================================================================================================================================================================================================================================================================================================================================================================================] - 10s 11ms/sample - loss: 0.6916 - acc: 0.8284\n",
            "11/11 [==============================] - 42s 4s/step - loss: 0.1399 - acc: 0.9422 - val_loss: 0.6896 - val_acc: 0.8284\n",
            "Epoch 16/30\n",
            "10/11 [==========================>...] - ETA: 2s - loss: 0.1328 - acc: 0.9452Epoch 1/30\n",
            "916/11 [==================================================================================================================================================================================================================================================================================================================================================================================================================================================================================================================================================================================================================================================================================================================================================================================================================================================================================================================================================================================================================================================================================================================================================================================================================================================================================================================================================================================================================================================================================================================================================================================================================================================================================================================================================================================================================================================================================================================================================================================================================================================================================================================================================================================================================================================================================================================================================================================================================================================================================================================================================================================================] - 10s 11ms/sample - loss: 0.8841 - acc: 0.8035\n",
            "11/11 [==============================] - 42s 4s/step - loss: 0.1309 - acc: 0.9465 - val_loss: 0.8686 - val_acc: 0.8035\n",
            "Epoch 17/30\n",
            "10/11 [==========================>...] - ETA: 2s - loss: 0.1290 - acc: 0.9457Epoch 1/30\n",
            "916/11 [==================================================================================================================================================================================================================================================================================================================================================================================================================================================================================================================================================================================================================================================================================================================================================================================================================================================================================================================================================================================================================================================================================================================================================================================================================================================================================================================================================================================================================================================================================================================================================================================================================================================================================================================================================================================================================================================================================================================================================================================================================================================================================================================================================================================================================================================================================================================================================================================================================================================================================================================================================================================================] - 10s 11ms/sample - loss: 0.6843 - acc: 0.8352\n",
            "11/11 [==============================] - 42s 4s/step - loss: 0.1331 - acc: 0.9448 - val_loss: 0.6717 - val_acc: 0.8352\n",
            "Epoch 18/30\n",
            "10/11 [==========================>...] - ETA: 2s - loss: 0.1343 - acc: 0.9422Epoch 1/30\n",
            "916/11 [==================================================================================================================================================================================================================================================================================================================================================================================================================================================================================================================================================================================================================================================================================================================================================================================================================================================================================================================================================================================================================================================================================================================================================================================================================================================================================================================================================================================================================================================================================================================================================================================================================================================================================================================================================================================================================================================================================================================================================================================================================================================================================================================================================================================================================================================================================================================================================================================================================================================================================================================================================================================================] - 10s 11ms/sample - loss: 0.7682 - acc: 0.8004\n",
            "11/11 [==============================] - 42s 4s/step - loss: 0.1329 - acc: 0.9424 - val_loss: 0.7727 - val_acc: 0.8004\n",
            "Epoch 19/30\n",
            "10/11 [==========================>...] - ETA: 2s - loss: 0.1337 - acc: 0.9463Epoch 1/30\n",
            "916/11 [==================================================================================================================================================================================================================================================================================================================================================================================================================================================================================================================================================================================================================================================================================================================================================================================================================================================================================================================================================================================================================================================================================================================================================================================================================================================================================================================================================================================================================================================================================================================================================================================================================================================================================================================================================================================================================================================================================================================================================================================================================================================================================================================================================================================================================================================================================================================================================================================================================================================================================================================================================================================================] - 10s 11ms/sample - loss: 0.8363 - acc: 0.7740\n",
            "11/11 [==============================] - 42s 4s/step - loss: 0.1347 - acc: 0.9462 - val_loss: 0.8428 - val_acc: 0.7740\n",
            "Epoch 20/30\n",
            "10/11 [==========================>...] - ETA: 2s - loss: 0.1209 - acc: 0.9500Epoch 1/30\n",
            "916/11 [==================================================================================================================================================================================================================================================================================================================================================================================================================================================================================================================================================================================================================================================================================================================================================================================================================================================================================================================================================================================================================================================================================================================================================================================================================================================================================================================================================================================================================================================================================================================================================================================================================================================================================================================================================================================================================================================================================================================================================================================================================================================================================================================================================================================================================================================================================================================================================================================================================================================================================================================================================================================================] - 10s 11ms/sample - loss: 0.8885 - acc: 0.7954\n",
            "11/11 [==============================] - 42s 4s/step - loss: 0.1214 - acc: 0.9498 - val_loss: 0.8861 - val_acc: 0.7954\n",
            "Epoch 21/30\n",
            "10/11 [==========================>...] - ETA: 2s - loss: 0.1173 - acc: 0.9518Epoch 1/30\n",
            "916/11 [==================================================================================================================================================================================================================================================================================================================================================================================================================================================================================================================================================================================================================================================================================================================================================================================================================================================================================================================================================================================================================================================================================================================================================================================================================================================================================================================================================================================================================================================================================================================================================================================================================================================================================================================================================================================================================================================================================================================================================================================================================================================================================================================================================================================================================================================================================================================================================================================================================================================================================================================================================================================================] - 10s 11ms/sample - loss: 0.8614 - acc: 0.7884\n",
            "11/11 [==============================] - 42s 4s/step - loss: 0.1199 - acc: 0.9506 - val_loss: 0.8772 - val_acc: 0.7884\n",
            "Epoch 22/30\n",
            "10/11 [==========================>...] - ETA: 2s - loss: 0.1156 - acc: 0.9524Epoch 1/30\n",
            "916/11 [==================================================================================================================================================================================================================================================================================================================================================================================================================================================================================================================================================================================================================================================================================================================================================================================================================================================================================================================================================================================================================================================================================================================================================================================================================================================================================================================================================================================================================================================================================================================================================================================================================================================================================================================================================================================================================================================================================================================================================================================================================================================================================================================================================================================================================================================================================================================================================================================================================================================================================================================================================================================================] - 10s 11ms/sample - loss: 1.0017 - acc: 0.7574\n",
            "11/11 [==============================] - 42s 4s/step - loss: 0.1160 - acc: 0.9524 - val_loss: 1.0129 - val_acc: 0.7574\n",
            "Epoch 23/30\n",
            "10/11 [==========================>...] - ETA: 2s - loss: 0.1089 - acc: 0.9554Epoch 1/30\n",
            "916/11 [==================================================================================================================================================================================================================================================================================================================================================================================================================================================================================================================================================================================================================================================================================================================================================================================================================================================================================================================================================================================================================================================================================================================================================================================================================================================================================================================================================================================================================================================================================================================================================================================================================================================================================================================================================================================================================================================================================================================================================================================================================================================================================================================================================================================================================================================================================================================================================================================================================================================================================================================================================================================================] - 10s 11ms/sample - loss: 0.9161 - acc: 0.7965\n",
            "11/11 [==============================] - 42s 4s/step - loss: 0.1099 - acc: 0.9552 - val_loss: 0.9190 - val_acc: 0.7965\n",
            "Epoch 24/30\n",
            "10/11 [==========================>...] - ETA: 2s - loss: 0.1142 - acc: 0.9518Epoch 1/30\n",
            "916/11 [==================================================================================================================================================================================================================================================================================================================================================================================================================================================================================================================================================================================================================================================================================================================================================================================================================================================================================================================================================================================================================================================================================================================================================================================================================================================================================================================================================================================================================================================================================================================================================================================================================================================================================================================================================================================================================================================================================================================================================================================================================================================================================================================================================================================================================================================================================================================================================================================================================================================================================================================================================================================================] - 10s 11ms/sample - loss: 1.1938 - acc: 0.7648\n",
            "11/11 [==============================] - 42s 4s/step - loss: 0.1128 - acc: 0.9529 - val_loss: 1.1957 - val_acc: 0.7648\n",
            "Epoch 25/30\n",
            "10/11 [==========================>...] - ETA: 2s - loss: 0.1054 - acc: 0.9580Epoch 1/30\n",
            "916/11 [==================================================================================================================================================================================================================================================================================================================================================================================================================================================================================================================================================================================================================================================================================================================================================================================================================================================================================================================================================================================================================================================================================================================================================================================================================================================================================================================================================================================================================================================================================================================================================================================================================================================================================================================================================================================================================================================================================================================================================================================================================================================================================================================================================================================================================================================================================================================================================================================================================================================================================================================================================================================================] - 10s 11ms/sample - loss: 0.8765 - acc: 0.8138\n",
            "11/11 [==============================] - 42s 4s/step - loss: 0.1052 - acc: 0.9578 - val_loss: 0.8780 - val_acc: 0.8138\n",
            "Epoch 26/30\n",
            "10/11 [==========================>...] - ETA: 2s - loss: 0.1052 - acc: 0.9570Epoch 1/30\n",
            "916/11 [==================================================================================================================================================================================================================================================================================================================================================================================================================================================================================================================================================================================================================================================================================================================================================================================================================================================================================================================================================================================================================================================================================================================================================================================================================================================================================================================================================================================================================================================================================================================================================================================================================================================================================================================================================================================================================================================================================================================================================================================================================================================================================================================================================================================================================================================================================================================================================================================================================================================================================================================================================================================================] - 10s 11ms/sample - loss: 1.0875 - acc: 0.7605\n",
            "11/11 [==============================] - 42s 4s/step - loss: 0.1049 - acc: 0.9575 - val_loss: 1.0956 - val_acc: 0.7605\n",
            "Epoch 27/30\n",
            "10/11 [==========================>...] - ETA: 2s - loss: 0.0984 - acc: 0.9613Epoch 1/30\n",
            "916/11 [==================================================================================================================================================================================================================================================================================================================================================================================================================================================================================================================================================================================================================================================================================================================================================================================================================================================================================================================================================================================================================================================================================================================================================================================================================================================================================================================================================================================================================================================================================================================================================================================================================================================================================================================================================================================================================================================================================================================================================================================================================================================================================================================================================================================================================================================================================================================================================================================================================================================================================================================================================================================================] - 10s 11ms/sample - loss: 1.0041 - acc: 0.8024\n",
            "11/11 [==============================] - 42s 4s/step - loss: 0.1029 - acc: 0.9591 - val_loss: 1.0016 - val_acc: 0.8024\n",
            "Epoch 28/30\n",
            "10/11 [==========================>...] - ETA: 2s - loss: 0.1096 - acc: 0.9529Epoch 1/30\n",
            "916/11 [==================================================================================================================================================================================================================================================================================================================================================================================================================================================================================================================================================================================================================================================================================================================================================================================================================================================================================================================================================================================================================================================================================================================================================================================================================================================================================================================================================================================================================================================================================================================================================================================================================================================================================================================================================================================================================================================================================================================================================================================================================================================================================================================================================================================================================================================================================================================================================================================================================================================================================================================================================================================================] - 10s 11ms/sample - loss: 1.0198 - acc: 0.8050\n",
            "11/11 [==============================] - 42s 4s/step - loss: 0.1098 - acc: 0.9528 - val_loss: 1.0244 - val_acc: 0.8050\n",
            "Epoch 29/30\n",
            "10/11 [==========================>...] - ETA: 2s - loss: 0.1144 - acc: 0.9533Epoch 1/30\n",
            "916/11 [==================================================================================================================================================================================================================================================================================================================================================================================================================================================================================================================================================================================================================================================================================================================================================================================================================================================================================================================================================================================================================================================================================================================================================================================================================================================================================================================================================================================================================================================================================================================================================================================================================================================================================================================================================================================================================================================================================================================================================================================================================================================================================================================================================================================================================================================================================================================================================================================================================================================================================================================================================================================================] - 10s 11ms/sample - loss: 1.2125 - acc: 0.7166\n",
            "11/11 [==============================] - 42s 4s/step - loss: 0.1122 - acc: 0.9540 - val_loss: 1.2315 - val_acc: 0.7166\n",
            "Epoch 30/30\n",
            "10/11 [==========================>...] - ETA: 2s - loss: 0.0956 - acc: 0.9601Epoch 1/30\n",
            "916/11 [==================================================================================================================================================================================================================================================================================================================================================================================================================================================================================================================================================================================================================================================================================================================================================================================================================================================================================================================================================================================================================================================================================================================================================================================================================================================================================================================================================================================================================================================================================================================================================================================================================================================================================================================================================================================================================================================================================================================================================================================================================================================================================================================================================================================================================================================================================================================================================================================================================================================================================================================================================================================================] - 10s 11ms/sample - loss: 1.1915 - acc: 0.7690\n",
            "11/11 [==============================] - 42s 4s/step - loss: 0.0946 - acc: 0.9606 - val_loss: 1.2047 - val_acc: 0.7690\n"
          ],
          "name": "stdout"
        }
      ]
    },
    {
      "cell_type": "markdown",
      "metadata": {
        "id": "lXhnMOQeyiDA",
        "colab_type": "text"
      },
      "source": [
        "**Learning transfer from DenseNet with Image Augumentation**\n",
        "\n",
        "\n",
        "\n"
      ]
    },
    {
      "cell_type": "markdown",
      "metadata": {
        "id": "QS7Y1GQ0ZFQx",
        "colab_type": "text"
      },
      "source": [
        "The Dense121 pretrained model is evaluvated , to see if there is any room for improvement in accuracy. But the accuracy was 0.74"
      ]
    },
    {
      "cell_type": "code",
      "metadata": {
        "id": "wDHMBePd0O7z",
        "colab_type": "code",
        "colab": {}
      },
      "source": [
        "base_model = tf.keras.applications.DenseNet121(weights='imagenet', include_top=False, input_shape=(224, 224, 3))"
      ],
      "execution_count": 0,
      "outputs": []
    },
    {
      "cell_type": "code",
      "metadata": {
        "id": "8nqkB66x0Wsu",
        "colab_type": "code",
        "colab": {}
      },
      "source": [
        "x = base_model.output\n",
        "x = GlobalAveragePooling2D()(x) \n",
        "x = Dense(512, activation='relu')(x)\n",
        "predictions = Dense(5, activation='sigmoid')(x)\n",
        "model_densenet = Model(inputs=base_model.input, outputs=predictions)\n",
        "len(model_densenet.layers)"
      ],
      "execution_count": 0,
      "outputs": []
    },
    {
      "cell_type": "code",
      "metadata": {
        "id": "UAlEuGag1jLB",
        "colab_type": "code",
        "outputId": "a315098a-3c04-46fa-cdf5-7086554093f2",
        "colab": {
          "base_uri": "https://localhost:8080/",
          "height": 1000
        }
      },
      "source": [
        "for layer in base_model.layers:\n",
        "    layer.trainable = False\n",
        "\n",
        "for layer in model_densenet.layers:\n",
        "    print(layer.name ,layer.trainable)\n",
        "  "
      ],
      "execution_count": 108,
      "outputs": [
        {
          "output_type": "stream",
          "text": [
            "input_5 False\n",
            "zero_padding2d_2 False\n",
            "conv1/conv False\n",
            "conv1/bn False\n",
            "conv1/relu False\n",
            "zero_padding2d_3 False\n",
            "pool1 False\n",
            "conv2_block1_0_bn False\n",
            "conv2_block1_0_relu False\n",
            "conv2_block1_1_conv False\n",
            "conv2_block1_1_bn False\n",
            "conv2_block1_1_relu False\n",
            "conv2_block1_2_conv False\n",
            "conv2_block1_concat False\n",
            "conv2_block2_0_bn False\n",
            "conv2_block2_0_relu False\n",
            "conv2_block2_1_conv False\n",
            "conv2_block2_1_bn False\n",
            "conv2_block2_1_relu False\n",
            "conv2_block2_2_conv False\n",
            "conv2_block2_concat False\n",
            "conv2_block3_0_bn False\n",
            "conv2_block3_0_relu False\n",
            "conv2_block3_1_conv False\n",
            "conv2_block3_1_bn False\n",
            "conv2_block3_1_relu False\n",
            "conv2_block3_2_conv False\n",
            "conv2_block3_concat False\n",
            "conv2_block4_0_bn False\n",
            "conv2_block4_0_relu False\n",
            "conv2_block4_1_conv False\n",
            "conv2_block4_1_bn False\n",
            "conv2_block4_1_relu False\n",
            "conv2_block4_2_conv False\n",
            "conv2_block4_concat False\n",
            "conv2_block5_0_bn False\n",
            "conv2_block5_0_relu False\n",
            "conv2_block5_1_conv False\n",
            "conv2_block5_1_bn False\n",
            "conv2_block5_1_relu False\n",
            "conv2_block5_2_conv False\n",
            "conv2_block5_concat False\n",
            "conv2_block6_0_bn False\n",
            "conv2_block6_0_relu False\n",
            "conv2_block6_1_conv False\n",
            "conv2_block6_1_bn False\n",
            "conv2_block6_1_relu False\n",
            "conv2_block6_2_conv False\n",
            "conv2_block6_concat False\n",
            "pool2_bn False\n",
            "pool2_relu False\n",
            "pool2_conv False\n",
            "pool2_pool False\n",
            "conv3_block1_0_bn False\n",
            "conv3_block1_0_relu False\n",
            "conv3_block1_1_conv False\n",
            "conv3_block1_1_bn False\n",
            "conv3_block1_1_relu False\n",
            "conv3_block1_2_conv False\n",
            "conv3_block1_concat False\n",
            "conv3_block2_0_bn False\n",
            "conv3_block2_0_relu False\n",
            "conv3_block2_1_conv False\n",
            "conv3_block2_1_bn False\n",
            "conv3_block2_1_relu False\n",
            "conv3_block2_2_conv False\n",
            "conv3_block2_concat False\n",
            "conv3_block3_0_bn False\n",
            "conv3_block3_0_relu False\n",
            "conv3_block3_1_conv False\n",
            "conv3_block3_1_bn False\n",
            "conv3_block3_1_relu False\n",
            "conv3_block3_2_conv False\n",
            "conv3_block3_concat False\n",
            "conv3_block4_0_bn False\n",
            "conv3_block4_0_relu False\n",
            "conv3_block4_1_conv False\n",
            "conv3_block4_1_bn False\n",
            "conv3_block4_1_relu False\n",
            "conv3_block4_2_conv False\n",
            "conv3_block4_concat False\n",
            "conv3_block5_0_bn False\n",
            "conv3_block5_0_relu False\n",
            "conv3_block5_1_conv False\n",
            "conv3_block5_1_bn False\n",
            "conv3_block5_1_relu False\n",
            "conv3_block5_2_conv False\n",
            "conv3_block5_concat False\n",
            "conv3_block6_0_bn False\n",
            "conv3_block6_0_relu False\n",
            "conv3_block6_1_conv False\n",
            "conv3_block6_1_bn False\n",
            "conv3_block6_1_relu False\n",
            "conv3_block6_2_conv False\n",
            "conv3_block6_concat False\n",
            "conv3_block7_0_bn False\n",
            "conv3_block7_0_relu False\n",
            "conv3_block7_1_conv False\n",
            "conv3_block7_1_bn False\n",
            "conv3_block7_1_relu False\n",
            "conv3_block7_2_conv False\n",
            "conv3_block7_concat False\n",
            "conv3_block8_0_bn False\n",
            "conv3_block8_0_relu False\n",
            "conv3_block8_1_conv False\n",
            "conv3_block8_1_bn False\n",
            "conv3_block8_1_relu False\n",
            "conv3_block8_2_conv False\n",
            "conv3_block8_concat False\n",
            "conv3_block9_0_bn False\n",
            "conv3_block9_0_relu False\n",
            "conv3_block9_1_conv False\n",
            "conv3_block9_1_bn False\n",
            "conv3_block9_1_relu False\n",
            "conv3_block9_2_conv False\n",
            "conv3_block9_concat False\n",
            "conv3_block10_0_bn False\n",
            "conv3_block10_0_relu False\n",
            "conv3_block10_1_conv False\n",
            "conv3_block10_1_bn False\n",
            "conv3_block10_1_relu False\n",
            "conv3_block10_2_conv False\n",
            "conv3_block10_concat False\n",
            "conv3_block11_0_bn False\n",
            "conv3_block11_0_relu False\n",
            "conv3_block11_1_conv False\n",
            "conv3_block11_1_bn False\n",
            "conv3_block11_1_relu False\n",
            "conv3_block11_2_conv False\n",
            "conv3_block11_concat False\n",
            "conv3_block12_0_bn False\n",
            "conv3_block12_0_relu False\n",
            "conv3_block12_1_conv False\n",
            "conv3_block12_1_bn False\n",
            "conv3_block12_1_relu False\n",
            "conv3_block12_2_conv False\n",
            "conv3_block12_concat False\n",
            "pool3_bn False\n",
            "pool3_relu False\n",
            "pool3_conv False\n",
            "pool3_pool False\n",
            "conv4_block1_0_bn False\n",
            "conv4_block1_0_relu False\n",
            "conv4_block1_1_conv False\n",
            "conv4_block1_1_bn False\n",
            "conv4_block1_1_relu False\n",
            "conv4_block1_2_conv False\n",
            "conv4_block1_concat False\n",
            "conv4_block2_0_bn False\n",
            "conv4_block2_0_relu False\n",
            "conv4_block2_1_conv False\n",
            "conv4_block2_1_bn False\n",
            "conv4_block2_1_relu False\n",
            "conv4_block2_2_conv False\n",
            "conv4_block2_concat False\n",
            "conv4_block3_0_bn False\n",
            "conv4_block3_0_relu False\n",
            "conv4_block3_1_conv False\n",
            "conv4_block3_1_bn False\n",
            "conv4_block3_1_relu False\n",
            "conv4_block3_2_conv False\n",
            "conv4_block3_concat False\n",
            "conv4_block4_0_bn False\n",
            "conv4_block4_0_relu False\n",
            "conv4_block4_1_conv False\n",
            "conv4_block4_1_bn False\n",
            "conv4_block4_1_relu False\n",
            "conv4_block4_2_conv False\n",
            "conv4_block4_concat False\n",
            "conv4_block5_0_bn False\n",
            "conv4_block5_0_relu False\n",
            "conv4_block5_1_conv False\n",
            "conv4_block5_1_bn False\n",
            "conv4_block5_1_relu False\n",
            "conv4_block5_2_conv False\n",
            "conv4_block5_concat False\n",
            "conv4_block6_0_bn False\n",
            "conv4_block6_0_relu False\n",
            "conv4_block6_1_conv False\n",
            "conv4_block6_1_bn False\n",
            "conv4_block6_1_relu False\n",
            "conv4_block6_2_conv False\n",
            "conv4_block6_concat False\n",
            "conv4_block7_0_bn False\n",
            "conv4_block7_0_relu False\n",
            "conv4_block7_1_conv False\n",
            "conv4_block7_1_bn False\n",
            "conv4_block7_1_relu False\n",
            "conv4_block7_2_conv False\n",
            "conv4_block7_concat False\n",
            "conv4_block8_0_bn False\n",
            "conv4_block8_0_relu False\n",
            "conv4_block8_1_conv False\n",
            "conv4_block8_1_bn False\n",
            "conv4_block8_1_relu False\n",
            "conv4_block8_2_conv False\n",
            "conv4_block8_concat False\n",
            "conv4_block9_0_bn False\n",
            "conv4_block9_0_relu False\n",
            "conv4_block9_1_conv False\n",
            "conv4_block9_1_bn False\n",
            "conv4_block9_1_relu False\n",
            "conv4_block9_2_conv False\n",
            "conv4_block9_concat False\n",
            "conv4_block10_0_bn False\n",
            "conv4_block10_0_relu False\n",
            "conv4_block10_1_conv False\n",
            "conv4_block10_1_bn False\n",
            "conv4_block10_1_relu False\n",
            "conv4_block10_2_conv False\n",
            "conv4_block10_concat False\n",
            "conv4_block11_0_bn False\n",
            "conv4_block11_0_relu False\n",
            "conv4_block11_1_conv False\n",
            "conv4_block11_1_bn False\n",
            "conv4_block11_1_relu False\n",
            "conv4_block11_2_conv False\n",
            "conv4_block11_concat False\n",
            "conv4_block12_0_bn False\n",
            "conv4_block12_0_relu False\n",
            "conv4_block12_1_conv False\n",
            "conv4_block12_1_bn False\n",
            "conv4_block12_1_relu False\n",
            "conv4_block12_2_conv False\n",
            "conv4_block12_concat False\n",
            "conv4_block13_0_bn False\n",
            "conv4_block13_0_relu False\n",
            "conv4_block13_1_conv False\n",
            "conv4_block13_1_bn False\n",
            "conv4_block13_1_relu False\n",
            "conv4_block13_2_conv False\n",
            "conv4_block13_concat False\n",
            "conv4_block14_0_bn False\n",
            "conv4_block14_0_relu False\n",
            "conv4_block14_1_conv False\n",
            "conv4_block14_1_bn False\n",
            "conv4_block14_1_relu False\n",
            "conv4_block14_2_conv False\n",
            "conv4_block14_concat False\n",
            "conv4_block15_0_bn False\n",
            "conv4_block15_0_relu False\n",
            "conv4_block15_1_conv False\n",
            "conv4_block15_1_bn False\n",
            "conv4_block15_1_relu False\n",
            "conv4_block15_2_conv False\n",
            "conv4_block15_concat False\n",
            "conv4_block16_0_bn False\n",
            "conv4_block16_0_relu False\n",
            "conv4_block16_1_conv False\n",
            "conv4_block16_1_bn False\n",
            "conv4_block16_1_relu False\n",
            "conv4_block16_2_conv False\n",
            "conv4_block16_concat False\n",
            "conv4_block17_0_bn False\n",
            "conv4_block17_0_relu False\n",
            "conv4_block17_1_conv False\n",
            "conv4_block17_1_bn False\n",
            "conv4_block17_1_relu False\n",
            "conv4_block17_2_conv False\n",
            "conv4_block17_concat False\n",
            "conv4_block18_0_bn False\n",
            "conv4_block18_0_relu False\n",
            "conv4_block18_1_conv False\n",
            "conv4_block18_1_bn False\n",
            "conv4_block18_1_relu False\n",
            "conv4_block18_2_conv False\n",
            "conv4_block18_concat False\n",
            "conv4_block19_0_bn False\n",
            "conv4_block19_0_relu False\n",
            "conv4_block19_1_conv False\n",
            "conv4_block19_1_bn False\n",
            "conv4_block19_1_relu False\n",
            "conv4_block19_2_conv False\n",
            "conv4_block19_concat False\n",
            "conv4_block20_0_bn False\n",
            "conv4_block20_0_relu False\n",
            "conv4_block20_1_conv False\n",
            "conv4_block20_1_bn False\n",
            "conv4_block20_1_relu False\n",
            "conv4_block20_2_conv False\n",
            "conv4_block20_concat False\n",
            "conv4_block21_0_bn False\n",
            "conv4_block21_0_relu False\n",
            "conv4_block21_1_conv False\n",
            "conv4_block21_1_bn False\n",
            "conv4_block21_1_relu False\n",
            "conv4_block21_2_conv False\n",
            "conv4_block21_concat False\n",
            "conv4_block22_0_bn False\n",
            "conv4_block22_0_relu False\n",
            "conv4_block22_1_conv False\n",
            "conv4_block22_1_bn False\n",
            "conv4_block22_1_relu False\n",
            "conv4_block22_2_conv False\n",
            "conv4_block22_concat False\n",
            "conv4_block23_0_bn False\n",
            "conv4_block23_0_relu False\n",
            "conv4_block23_1_conv False\n",
            "conv4_block23_1_bn False\n",
            "conv4_block23_1_relu False\n",
            "conv4_block23_2_conv False\n",
            "conv4_block23_concat False\n",
            "conv4_block24_0_bn False\n",
            "conv4_block24_0_relu False\n",
            "conv4_block24_1_conv False\n",
            "conv4_block24_1_bn False\n",
            "conv4_block24_1_relu False\n",
            "conv4_block24_2_conv False\n",
            "conv4_block24_concat False\n",
            "pool4_bn False\n",
            "pool4_relu False\n",
            "pool4_conv False\n",
            "pool4_pool False\n",
            "conv5_block1_0_bn False\n",
            "conv5_block1_0_relu False\n",
            "conv5_block1_1_conv False\n",
            "conv5_block1_1_bn False\n",
            "conv5_block1_1_relu False\n",
            "conv5_block1_2_conv False\n",
            "conv5_block1_concat False\n",
            "conv5_block2_0_bn False\n",
            "conv5_block2_0_relu False\n",
            "conv5_block2_1_conv False\n",
            "conv5_block2_1_bn False\n",
            "conv5_block2_1_relu False\n",
            "conv5_block2_2_conv False\n",
            "conv5_block2_concat False\n",
            "conv5_block3_0_bn False\n",
            "conv5_block3_0_relu False\n",
            "conv5_block3_1_conv False\n",
            "conv5_block3_1_bn False\n",
            "conv5_block3_1_relu False\n",
            "conv5_block3_2_conv False\n",
            "conv5_block3_concat False\n",
            "conv5_block4_0_bn False\n",
            "conv5_block4_0_relu False\n",
            "conv5_block4_1_conv False\n",
            "conv5_block4_1_bn False\n",
            "conv5_block4_1_relu False\n",
            "conv5_block4_2_conv False\n",
            "conv5_block4_concat False\n",
            "conv5_block5_0_bn False\n",
            "conv5_block5_0_relu False\n",
            "conv5_block5_1_conv False\n",
            "conv5_block5_1_bn False\n",
            "conv5_block5_1_relu False\n",
            "conv5_block5_2_conv False\n",
            "conv5_block5_concat False\n",
            "conv5_block6_0_bn False\n",
            "conv5_block6_0_relu False\n",
            "conv5_block6_1_conv False\n",
            "conv5_block6_1_bn False\n",
            "conv5_block6_1_relu False\n",
            "conv5_block6_2_conv False\n",
            "conv5_block6_concat False\n",
            "conv5_block7_0_bn False\n",
            "conv5_block7_0_relu False\n",
            "conv5_block7_1_conv False\n",
            "conv5_block7_1_bn False\n",
            "conv5_block7_1_relu False\n",
            "conv5_block7_2_conv False\n",
            "conv5_block7_concat False\n",
            "conv5_block8_0_bn False\n",
            "conv5_block8_0_relu False\n",
            "conv5_block8_1_conv False\n",
            "conv5_block8_1_bn False\n",
            "conv5_block8_1_relu False\n",
            "conv5_block8_2_conv False\n",
            "conv5_block8_concat False\n",
            "conv5_block9_0_bn False\n",
            "conv5_block9_0_relu False\n",
            "conv5_block9_1_conv False\n",
            "conv5_block9_1_bn False\n",
            "conv5_block9_1_relu False\n",
            "conv5_block9_2_conv False\n",
            "conv5_block9_concat False\n",
            "conv5_block10_0_bn False\n",
            "conv5_block10_0_relu False\n",
            "conv5_block10_1_conv False\n",
            "conv5_block10_1_bn False\n",
            "conv5_block10_1_relu False\n",
            "conv5_block10_2_conv False\n",
            "conv5_block10_concat False\n",
            "conv5_block11_0_bn False\n",
            "conv5_block11_0_relu False\n",
            "conv5_block11_1_conv False\n",
            "conv5_block11_1_bn False\n",
            "conv5_block11_1_relu False\n",
            "conv5_block11_2_conv False\n",
            "conv5_block11_concat False\n",
            "conv5_block12_0_bn False\n",
            "conv5_block12_0_relu False\n",
            "conv5_block12_1_conv False\n",
            "conv5_block12_1_bn False\n",
            "conv5_block12_1_relu False\n",
            "conv5_block12_2_conv False\n",
            "conv5_block12_concat False\n",
            "conv5_block13_0_bn False\n",
            "conv5_block13_0_relu False\n",
            "conv5_block13_1_conv False\n",
            "conv5_block13_1_bn False\n",
            "conv5_block13_1_relu False\n",
            "conv5_block13_2_conv False\n",
            "conv5_block13_concat False\n",
            "conv5_block14_0_bn False\n",
            "conv5_block14_0_relu False\n",
            "conv5_block14_1_conv False\n",
            "conv5_block14_1_bn False\n",
            "conv5_block14_1_relu False\n",
            "conv5_block14_2_conv False\n",
            "conv5_block14_concat False\n",
            "conv5_block15_0_bn False\n",
            "conv5_block15_0_relu False\n",
            "conv5_block15_1_conv False\n",
            "conv5_block15_1_bn False\n",
            "conv5_block15_1_relu False\n",
            "conv5_block15_2_conv False\n",
            "conv5_block15_concat False\n",
            "conv5_block16_0_bn False\n",
            "conv5_block16_0_relu False\n",
            "conv5_block16_1_conv False\n",
            "conv5_block16_1_bn False\n",
            "conv5_block16_1_relu False\n",
            "conv5_block16_2_conv False\n",
            "conv5_block16_concat False\n",
            "bn False\n",
            "relu False\n",
            "global_average_pooling2d_4 True\n",
            "dense_21 True\n",
            "dense_22 True\n"
          ],
          "name": "stdout"
        }
      ]
    },
    {
      "cell_type": "code",
      "metadata": {
        "id": "ruyMYKa_Qn3e",
        "colab_type": "code",
        "colab": {}
      },
      "source": [
        "from tensorflow.keras.optimizers import Adam"
      ],
      "execution_count": 0,
      "outputs": []
    },
    {
      "cell_type": "code",
      "metadata": {
        "id": "N1LytcyBVHIT",
        "colab_type": "code",
        "colab": {}
      },
      "source": [
        "model_densenet.compile(optimizer= Adam(lr=.0001), loss='binary_crossentropy',metrics=['accuracy'])"
      ],
      "execution_count": 0,
      "outputs": []
    },
    {
      "cell_type": "code",
      "metadata": {
        "id": "7iUJhCW5lCN2",
        "colab_type": "code",
        "colab": {}
      },
      "source": [
        "from tensorflow.keras.callbacks import ModelCheckpoint, Callback\n",
        "from sklearn.metrics import cohen_kappa_score, accuracy_score"
      ],
      "execution_count": 0,
      "outputs": []
    },
    {
      "cell_type": "code",
      "metadata": {
        "id": "_4s51HKUnR4M",
        "colab_type": "code",
        "colab": {}
      },
      "source": [
        "BATCH_SIZE = 32"
      ],
      "execution_count": 0,
      "outputs": []
    },
    {
      "cell_type": "code",
      "metadata": {
        "id": "lLyxj2XldOGY",
        "colab_type": "code",
        "colab": {}
      },
      "source": [
        "class Metrics(Callback):\n",
        "    def on_train_begin(self, logs={}):\n",
        "        self.val_kappas = []\n",
        "        self.validation_data = (X_test, y_test)\n",
        "\n",
        "    def on_epoch_end(self, epoch, logs={}):\n",
        "        #print(self.validation_data)\n",
        "        X_val, y_val = self.validation_data[:2]\n",
        "        y_val = y_val.sum(axis=1) - 1\n",
        "        \n",
        "        y_pred = self.model.predict(X_test) > 0.5\n",
        "        y_pred = y_pred.astype(int).sum(axis=1) - 1\n",
        "\n",
        "        _val_kappa = cohen_kappa_score(\n",
        "            y_val,\n",
        "            y_pred, \n",
        "            weights='quadratic'\n",
        "        )\n",
        "\n",
        "        self.val_kappas.append(_val_kappa)\n",
        "\n",
        "        print(f\"val_kappa: {_val_kappa:.4f}\")\n",
        "        \n",
        "        if _val_kappa == max(self.val_kappas):\n",
        "            print(\"Validation Kappa has improved. Saving model.\")\n",
        "            self.model.save('model.h5')\n",
        "\n",
        "        return"
      ],
      "execution_count": 0,
      "outputs": []
    },
    {
      "cell_type": "code",
      "metadata": {
        "id": "cOcDCKE7TNyo",
        "colab_type": "code",
        "outputId": "91f300dd-02cb-4969-dece-e9a957183d86",
        "colab": {
          "base_uri": "https://localhost:8080/",
          "height": 238
        }
      },
      "source": [
        "model.predict(X_test)"
      ],
      "execution_count": 0,
      "outputs": [
        {
          "output_type": "execute_result",
          "data": {
            "text/plain": [
              "array([[9.99990046e-01, 3.03387642e-05, 6.87837601e-05, 2.11596489e-05,\n",
              "        8.88109207e-05],\n",
              "       [1.30662322e-02, 3.61480594e-01, 4.54559982e-01, 1.41799450e-04,\n",
              "        1.82780623e-03],\n",
              "       [9.99975204e-01, 4.73037362e-03, 5.75184822e-06, 1.49011612e-07,\n",
              "        5.66244125e-07],\n",
              "       ...,\n",
              "       [4.65623021e-01, 6.07750773e-01, 8.06215703e-02, 1.61290169e-04,\n",
              "        3.22737098e-02],\n",
              "       [1.05199724e-01, 9.23617482e-01, 7.13301599e-02, 5.76108694e-04,\n",
              "        2.88271010e-02],\n",
              "       [9.99999702e-01, 1.52885914e-05, 2.59280205e-06, 2.05636024e-06,\n",
              "        7.86781311e-06]], dtype=float32)"
            ]
          },
          "metadata": {
            "tags": []
          },
          "execution_count": 43
        }
      ]
    },
    {
      "cell_type": "code",
      "metadata": {
        "id": "hzdDyypldVZW",
        "colab_type": "code",
        "outputId": "7c138dfe-50f4-47e6-9649-0d39878d726f",
        "colab": {
          "base_uri": "https://localhost:8080/",
          "height": 1000
        }
      },
      "source": [
        "kappa_metrics = Metrics()\n",
        "\n",
        "history_kappa = model_densenet.fit(\n",
        "    datagen.flow(X_train, y_train, batch_size=32),\n",
        "    epochs=15,\n",
        "    validation_data=(X_test, y_test),\n",
        "    callbacks=[kappa_metrics]\n",
        ")"
      ],
      "execution_count": 116,
      "outputs": [
        {
          "output_type": "stream",
          "text": [
            "Epoch 1/15\n",
            "85/86 [============================>.] - ETA: 0s - loss: 0.1943 - acc: 0.9187Epoch 1/15\n",
            "916/86 [===============================================================================================================================================================================================================================================================================================================================] - 10s 11ms/sample - loss: 2.0999 - acc: 0.8004\n",
            "val_kappa: 0.0000\n",
            "Validation Kappa has improved. Saving model.\n",
            "86/86 [==============================] - 60s 695ms/step - loss: 0.1943 - acc: 0.9186 - val_loss: 2.2821 - val_acc: 0.8004\n",
            "Epoch 2/15\n",
            "85/86 [============================>.] - ETA: 0s - loss: 0.1917 - acc: 0.9193Epoch 1/15\n",
            "916/86 [===============================================================================================================================================================================================================================================================================================================================] - 6s 7ms/sample - loss: 2.1787 - acc: 0.7983\n",
            "val_kappa: 0.0000\n",
            "Validation Kappa has improved. Saving model.\n",
            "86/86 [==============================] - 41s 480ms/step - loss: 0.1918 - acc: 0.9192 - val_loss: 2.4000 - val_acc: 0.7983\n",
            "Epoch 3/15\n",
            "85/86 [============================>.] - ETA: 0s - loss: 0.1963 - acc: 0.9181Epoch 1/15\n",
            "916/86 [===============================================================================================================================================================================================================================================================================================================================] - 6s 7ms/sample - loss: 2.1131 - acc: 0.8022\n",
            "val_kappa: 0.0000\n",
            "Validation Kappa has improved. Saving model.\n",
            "86/86 [==============================] - 41s 477ms/step - loss: 0.1963 - acc: 0.9180 - val_loss: 2.3088 - val_acc: 0.8022\n",
            "Epoch 4/15\n",
            "85/86 [============================>.] - ETA: 0s - loss: 0.1898 - acc: 0.9206Epoch 1/15\n",
            "916/86 [===============================================================================================================================================================================================================================================================================================================================] - 6s 7ms/sample - loss: 2.2369 - acc: 0.7943\n",
            "val_kappa: 0.0000\n",
            "Validation Kappa has improved. Saving model.\n",
            "86/86 [==============================] - 42s 485ms/step - loss: 0.1899 - acc: 0.9203 - val_loss: 2.4733 - val_acc: 0.7943\n",
            "Epoch 5/15\n",
            "85/86 [============================>.] - ETA: 0s - loss: 0.1908 - acc: 0.9206Epoch 1/15\n",
            "916/86 [===============================================================================================================================================================================================================================================================================================================================] - 6s 7ms/sample - loss: 2.1050 - acc: 0.8068\n",
            "val_kappa: 0.0000\n",
            "Validation Kappa has improved. Saving model.\n",
            "86/86 [==============================] - 41s 478ms/step - loss: 0.1903 - acc: 0.9209 - val_loss: 2.2571 - val_acc: 0.8068\n",
            "Epoch 6/15\n",
            "85/86 [============================>.] - ETA: 0s - loss: 0.1890 - acc: 0.9205Epoch 1/15\n",
            "916/86 [===============================================================================================================================================================================================================================================================================================================================] - 6s 7ms/sample - loss: 2.2195 - acc: 0.7832\n",
            "val_kappa: 0.0000\n",
            "Validation Kappa has improved. Saving model.\n",
            "86/86 [==============================] - 41s 480ms/step - loss: 0.1890 - acc: 0.9203 - val_loss: 2.4711 - val_acc: 0.7832\n",
            "Epoch 7/15\n",
            "85/86 [============================>.] - ETA: 0s - loss: 0.1887 - acc: 0.9206Epoch 1/15\n",
            "916/86 [===============================================================================================================================================================================================================================================================================================================================] - 6s 7ms/sample - loss: 2.1010 - acc: 0.7989\n",
            "val_kappa: 0.0000\n",
            "Validation Kappa has improved. Saving model.\n",
            "86/86 [==============================] - 41s 482ms/step - loss: 0.1887 - acc: 0.9206 - val_loss: 2.3079 - val_acc: 0.7989\n",
            "Epoch 8/15\n",
            "85/86 [============================>.] - ETA: 0s - loss: 0.1862 - acc: 0.9212Epoch 1/15\n",
            "916/86 [===============================================================================================================================================================================================================================================================================================================================] - 6s 7ms/sample - loss: 2.1678 - acc: 0.7830\n",
            "val_kappa: 0.0000\n",
            "Validation Kappa has improved. Saving model.\n",
            "86/86 [==============================] - 40s 471ms/step - loss: 0.1856 - acc: 0.9218 - val_loss: 2.4203 - val_acc: 0.7830\n",
            "Epoch 9/15\n",
            "85/86 [============================>.] - ETA: 0s - loss: 0.1858 - acc: 0.9219Epoch 1/15\n",
            "916/86 [===============================================================================================================================================================================================================================================================================================================================] - 6s 7ms/sample - loss: 2.1705 - acc: 0.7937\n",
            "val_kappa: 0.0000\n",
            "Validation Kappa has improved. Saving model.\n",
            "86/86 [==============================] - 40s 466ms/step - loss: 0.1858 - acc: 0.9218 - val_loss: 2.3828 - val_acc: 0.7937\n",
            "Epoch 10/15\n",
            "85/86 [============================>.] - ETA: 0s - loss: 0.1920 - acc: 0.9186Epoch 1/15\n",
            "916/86 [===============================================================================================================================================================================================================================================================================================================================] - 6s 7ms/sample - loss: 2.2357 - acc: 0.7867\n",
            "val_kappa: 0.0000\n",
            "Validation Kappa has improved. Saving model.\n",
            "86/86 [==============================] - 40s 464ms/step - loss: 0.1915 - acc: 0.9190 - val_loss: 2.4837 - val_acc: 0.7867\n",
            "Epoch 11/15\n",
            "85/86 [============================>.] - ETA: 0s - loss: 0.1868 - acc: 0.9219Epoch 1/15\n",
            "916/86 [===============================================================================================================================================================================================================================================================================================================================] - 6s 7ms/sample - loss: 2.3973 - acc: 0.7771\n",
            "val_kappa: 0.0000\n",
            "Validation Kappa has improved. Saving model.\n",
            "86/86 [==============================] - 39s 456ms/step - loss: 0.1871 - acc: 0.9216 - val_loss: 2.6847 - val_acc: 0.7771\n",
            "Epoch 12/15\n",
            "85/86 [============================>.] - ETA: 0s - loss: 0.1816 - acc: 0.9236Epoch 1/15\n",
            "916/86 [===============================================================================================================================================================================================================================================================================================================================] - 6s 7ms/sample - loss: 2.4124 - acc: 0.7566\n",
            "val_kappa: 0.0000\n",
            "Validation Kappa has improved. Saving model.\n",
            "86/86 [==============================] - 39s 458ms/step - loss: 0.1821 - acc: 0.9234 - val_loss: 2.7095 - val_acc: 0.7566\n",
            "Epoch 13/15\n",
            "85/86 [============================>.] - ETA: 0s - loss: 0.1850 - acc: 0.9230Epoch 1/15\n",
            "916/86 [===============================================================================================================================================================================================================================================================================================================================] - 6s 7ms/sample - loss: 2.3242 - acc: 0.7755\n",
            "val_kappa: 0.0000\n",
            "Validation Kappa has improved. Saving model.\n",
            "86/86 [==============================] - 40s 462ms/step - loss: 0.1849 - acc: 0.9230 - val_loss: 2.5784 - val_acc: 0.7755\n",
            "Epoch 14/15\n",
            "85/86 [============================>.] - ETA: 0s - loss: 0.1815 - acc: 0.9248Epoch 1/15\n",
            "916/86 [===============================================================================================================================================================================================================================================================================================================================] - 6s 7ms/sample - loss: 2.2805 - acc: 0.7834\n",
            "val_kappa: 0.0000\n",
            "Validation Kappa has improved. Saving model.\n",
            "86/86 [==============================] - 40s 466ms/step - loss: 0.1816 - acc: 0.9244 - val_loss: 2.5281 - val_acc: 0.7834\n",
            "Epoch 15/15\n",
            "85/86 [============================>.] - ETA: 0s - loss: 0.1805 - acc: 0.9239Epoch 1/15\n",
            "916/86 [===============================================================================================================================================================================================================================================================================================================================] - 6s 7ms/sample - loss: 2.4755 - acc: 0.7483\n",
            "val_kappa: 0.0000\n",
            "Validation Kappa has improved. Saving model.\n",
            "86/86 [==============================] - 38s 447ms/step - loss: 0.1803 - acc: 0.9241 - val_loss: 2.7650 - val_acc: 0.7483\n"
          ],
          "name": "stdout"
        }
      ]
    },
    {
      "cell_type": "markdown",
      "metadata": {
        "id": "qqWEEyBMXyL0",
        "colab_type": "text"
      },
      "source": [
        "**Saving Model**"
      ]
    },
    {
      "cell_type": "markdown",
      "metadata": {
        "id": "PAcbrTWpX2ce",
        "colab_type": "text"
      },
      "source": [
        "The VGG16 learning Transfermodel is saved for the deployment"
      ]
    },
    {
      "cell_type": "code",
      "metadata": {
        "id": "scsrQPmuWkJh",
        "colab_type": "code",
        "colab": {}
      },
      "source": [
        "model.save('/content/drive/My Drive/Capstone/model_vgg16.h5')"
      ],
      "execution_count": 0,
      "outputs": []
    }
  ]
}