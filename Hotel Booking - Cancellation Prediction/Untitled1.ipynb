{
 "cells": [
  {
   "cell_type": "code",
   "execution_count": 10,
   "metadata": {},
   "outputs": [],
   "source": [
    "import pandas as pd\n",
    "df1 = pd.read_csv(\"download-2.csv\")"
   ]
  },
  {
   "cell_type": "code",
   "execution_count": 11,
   "metadata": {},
   "outputs": [
    {
     "data": {
      "text/html": [
       "<div>\n",
       "<style scoped>\n",
       "    .dataframe tbody tr th:only-of-type {\n",
       "        vertical-align: middle;\n",
       "    }\n",
       "\n",
       "    .dataframe tbody tr th {\n",
       "        vertical-align: top;\n",
       "    }\n",
       "\n",
       "    .dataframe thead th {\n",
       "        text-align: right;\n",
       "    }\n",
       "</style>\n",
       "<table border=\"1\" class=\"dataframe\">\n",
       "  <thead>\n",
       "    <tr style=\"text-align: right;\">\n",
       "      <th></th>\n",
       "      <th>Age</th>\n",
       "      <th>Gender</th>\n",
       "      <th>Engineer</th>\n",
       "      <th>MBA</th>\n",
       "      <th>Work Exp</th>\n",
       "      <th>Salary</th>\n",
       "      <th>Distance</th>\n",
       "      <th>license</th>\n",
       "      <th>Opt_service</th>\n",
       "    </tr>\n",
       "  </thead>\n",
       "  <tbody>\n",
       "    <tr>\n",
       "      <td>0</td>\n",
       "      <td>28</td>\n",
       "      <td>Male</td>\n",
       "      <td>1</td>\n",
       "      <td>0</td>\n",
       "      <td>5</td>\n",
       "      <td>14.4</td>\n",
       "      <td>5.1</td>\n",
       "      <td>0</td>\n",
       "      <td>0</td>\n",
       "    </tr>\n",
       "    <tr>\n",
       "      <td>1</td>\n",
       "      <td>24</td>\n",
       "      <td>Male</td>\n",
       "      <td>1</td>\n",
       "      <td>0</td>\n",
       "      <td>6</td>\n",
       "      <td>10.6</td>\n",
       "      <td>6.1</td>\n",
       "      <td>0</td>\n",
       "      <td>0</td>\n",
       "    </tr>\n",
       "    <tr>\n",
       "      <td>2</td>\n",
       "      <td>27</td>\n",
       "      <td>Female</td>\n",
       "      <td>1</td>\n",
       "      <td>0</td>\n",
       "      <td>9</td>\n",
       "      <td>15.5</td>\n",
       "      <td>6.1</td>\n",
       "      <td>0</td>\n",
       "      <td>0</td>\n",
       "    </tr>\n",
       "    <tr>\n",
       "      <td>3</td>\n",
       "      <td>25</td>\n",
       "      <td>Male</td>\n",
       "      <td>0</td>\n",
       "      <td>0</td>\n",
       "      <td>1</td>\n",
       "      <td>7.6</td>\n",
       "      <td>6.3</td>\n",
       "      <td>0</td>\n",
       "      <td>0</td>\n",
       "    </tr>\n",
       "    <tr>\n",
       "      <td>4</td>\n",
       "      <td>25</td>\n",
       "      <td>Female</td>\n",
       "      <td>0</td>\n",
       "      <td>0</td>\n",
       "      <td>3</td>\n",
       "      <td>9.6</td>\n",
       "      <td>6.7</td>\n",
       "      <td>0</td>\n",
       "      <td>0</td>\n",
       "    </tr>\n",
       "  </tbody>\n",
       "</table>\n",
       "</div>"
      ],
      "text/plain": [
       "   Age  Gender  Engineer  MBA  Work Exp  Salary  Distance  license  \\\n",
       "0   28    Male         1    0         5    14.4       5.1        0   \n",
       "1   24    Male         1    0         6    10.6       6.1        0   \n",
       "2   27  Female         1    0         9    15.5       6.1        0   \n",
       "3   25    Male         0    0         1     7.6       6.3        0   \n",
       "4   25  Female         0    0         3     9.6       6.7        0   \n",
       "\n",
       "   Opt_service  \n",
       "0            0  \n",
       "1            0  \n",
       "2            0  \n",
       "3            0  \n",
       "4            0  "
      ]
     },
     "execution_count": 11,
     "metadata": {},
     "output_type": "execute_result"
    }
   ],
   "source": [
    "df1.head()"
   ]
  },
  {
   "cell_type": "code",
   "execution_count": 12,
   "metadata": {},
   "outputs": [
    {
     "data": {
      "text/html": [
       "<div>\n",
       "<style scoped>\n",
       "    .dataframe tbody tr th:only-of-type {\n",
       "        vertical-align: middle;\n",
       "    }\n",
       "\n",
       "    .dataframe tbody tr th {\n",
       "        vertical-align: top;\n",
       "    }\n",
       "\n",
       "    .dataframe thead th {\n",
       "        text-align: right;\n",
       "    }\n",
       "</style>\n",
       "<table border=\"1\" class=\"dataframe\">\n",
       "  <thead>\n",
       "    <tr style=\"text-align: right;\">\n",
       "      <th></th>\n",
       "      <th>Age</th>\n",
       "      <th>Engineer</th>\n",
       "      <th>MBA</th>\n",
       "      <th>Work Exp</th>\n",
       "      <th>Salary</th>\n",
       "      <th>Distance</th>\n",
       "      <th>license</th>\n",
       "      <th>Opt_service</th>\n",
       "    </tr>\n",
       "  </thead>\n",
       "  <tbody>\n",
       "    <tr>\n",
       "      <td>Age</td>\n",
       "      <td>1.000000</td>\n",
       "      <td>0.082666</td>\n",
       "      <td>-0.001980</td>\n",
       "      <td>0.924430</td>\n",
       "      <td>0.857784</td>\n",
       "      <td>0.377019</td>\n",
       "      <td>0.391177</td>\n",
       "      <td>0.683498</td>\n",
       "    </tr>\n",
       "    <tr>\n",
       "      <td>Engineer</td>\n",
       "      <td>0.082666</td>\n",
       "      <td>1.000000</td>\n",
       "      <td>0.067597</td>\n",
       "      <td>0.079911</td>\n",
       "      <td>0.079428</td>\n",
       "      <td>0.060616</td>\n",
       "      <td>0.008227</td>\n",
       "      <td>0.075514</td>\n",
       "    </tr>\n",
       "    <tr>\n",
       "      <td>MBA</td>\n",
       "      <td>-0.001980</td>\n",
       "      <td>0.067597</td>\n",
       "      <td>1.000000</td>\n",
       "      <td>0.039443</td>\n",
       "      <td>0.028627</td>\n",
       "      <td>0.051624</td>\n",
       "      <td>0.007739</td>\n",
       "      <td>-0.002494</td>\n",
       "    </tr>\n",
       "    <tr>\n",
       "      <td>Work Exp</td>\n",
       "      <td>0.924430</td>\n",
       "      <td>0.079911</td>\n",
       "      <td>0.039443</td>\n",
       "      <td>1.000000</td>\n",
       "      <td>0.931810</td>\n",
       "      <td>0.395161</td>\n",
       "      <td>0.389882</td>\n",
       "      <td>0.731563</td>\n",
       "    </tr>\n",
       "    <tr>\n",
       "      <td>Salary</td>\n",
       "      <td>0.857784</td>\n",
       "      <td>0.079428</td>\n",
       "      <td>0.028627</td>\n",
       "      <td>0.931810</td>\n",
       "      <td>1.000000</td>\n",
       "      <td>0.475367</td>\n",
       "      <td>0.457207</td>\n",
       "      <td>0.810703</td>\n",
       "    </tr>\n",
       "    <tr>\n",
       "      <td>Distance</td>\n",
       "      <td>0.377019</td>\n",
       "      <td>0.060616</td>\n",
       "      <td>0.051624</td>\n",
       "      <td>0.395161</td>\n",
       "      <td>0.475367</td>\n",
       "      <td>1.000000</td>\n",
       "      <td>0.309882</td>\n",
       "      <td>0.548475</td>\n",
       "    </tr>\n",
       "    <tr>\n",
       "      <td>license</td>\n",
       "      <td>0.391177</td>\n",
       "      <td>0.008227</td>\n",
       "      <td>0.007739</td>\n",
       "      <td>0.389882</td>\n",
       "      <td>0.457207</td>\n",
       "      <td>0.309882</td>\n",
       "      <td>1.000000</td>\n",
       "      <td>0.487126</td>\n",
       "    </tr>\n",
       "    <tr>\n",
       "      <td>Opt_service</td>\n",
       "      <td>0.683498</td>\n",
       "      <td>0.075514</td>\n",
       "      <td>-0.002494</td>\n",
       "      <td>0.731563</td>\n",
       "      <td>0.810703</td>\n",
       "      <td>0.548475</td>\n",
       "      <td>0.487126</td>\n",
       "      <td>1.000000</td>\n",
       "    </tr>\n",
       "  </tbody>\n",
       "</table>\n",
       "</div>"
      ],
      "text/plain": [
       "                  Age  Engineer       MBA  Work Exp    Salary  Distance  \\\n",
       "Age          1.000000  0.082666 -0.001980  0.924430  0.857784  0.377019   \n",
       "Engineer     0.082666  1.000000  0.067597  0.079911  0.079428  0.060616   \n",
       "MBA         -0.001980  0.067597  1.000000  0.039443  0.028627  0.051624   \n",
       "Work Exp     0.924430  0.079911  0.039443  1.000000  0.931810  0.395161   \n",
       "Salary       0.857784  0.079428  0.028627  0.931810  1.000000  0.475367   \n",
       "Distance     0.377019  0.060616  0.051624  0.395161  0.475367  1.000000   \n",
       "license      0.391177  0.008227  0.007739  0.389882  0.457207  0.309882   \n",
       "Opt_service  0.683498  0.075514 -0.002494  0.731563  0.810703  0.548475   \n",
       "\n",
       "              license  Opt_service  \n",
       "Age          0.391177     0.683498  \n",
       "Engineer     0.008227     0.075514  \n",
       "MBA          0.007739    -0.002494  \n",
       "Work Exp     0.389882     0.731563  \n",
       "Salary       0.457207     0.810703  \n",
       "Distance     0.309882     0.548475  \n",
       "license      1.000000     0.487126  \n",
       "Opt_service  0.487126     1.000000  "
      ]
     },
     "execution_count": 12,
     "metadata": {},
     "output_type": "execute_result"
    }
   ],
   "source": [
    "df1.corr()"
   ]
  },
  {
   "cell_type": "code",
   "execution_count": 14,
   "metadata": {},
   "outputs": [],
   "source": [
    "df1.Gender.replace(to_replace=['Male', 'Female'], value=[0, 1],inplace=True)"
   ]
  },
  {
   "cell_type": "code",
   "execution_count": 16,
   "metadata": {},
   "outputs": [
    {
     "data": {
      "text/plain": [
       "Index(['Age', 'Gender', 'Engineer', 'MBA', 'Work Exp', 'Salary', 'Distance',\n",
       "       'license', 'Opt_service'],\n",
       "      dtype='object')"
      ]
     },
     "execution_count": 16,
     "metadata": {},
     "output_type": "execute_result"
    }
   ],
   "source": [
    "df1.columns"
   ]
  },
  {
   "cell_type": "code",
   "execution_count": 18,
   "metadata": {},
   "outputs": [],
   "source": [
    "X = df1[['Age', 'Gender', 'Engineer', 'MBA', 'Work Exp', 'Salary', 'Distance',\n",
    "       'license']]\n",
    "#X = df1.drop(['booking_status'],axis=1)\n",
    "# the dependent variable\n",
    "y = df1[['Opt_service']]"
   ]
  },
  {
   "cell_type": "code",
   "execution_count": 19,
   "metadata": {},
   "outputs": [],
   "source": [
    "from sklearn.model_selection import train_test_split\n",
    "X_train, X_test, y_train, y_test = train_test_split(\n",
    " X, y, test_size=0.33, random_state=42)"
   ]
  },
  {
   "cell_type": "code",
   "execution_count": 28,
   "metadata": {},
   "outputs": [
    {
     "data": {
      "text/plain": [
       "0    127\n",
       "1     11\n",
       "Name: Opt_service, dtype: int64"
      ]
     },
     "execution_count": 28,
     "metadata": {},
     "output_type": "execute_result"
    }
   ],
   "source": [
    "y_test['Opt_service'].value_counts()"
   ]
  },
  {
   "cell_type": "code",
   "execution_count": null,
   "metadata": {},
   "outputs": [],
   "source": []
  }
 ],
 "metadata": {
  "kernelspec": {
   "display_name": "Python 3",
   "language": "python",
   "name": "python3"
  },
  "language_info": {
   "codemirror_mode": {
    "name": "ipython",
    "version": 3
   },
   "file_extension": ".py",
   "mimetype": "text/x-python",
   "name": "python",
   "nbconvert_exporter": "python",
   "pygments_lexer": "ipython3",
   "version": "3.7.4"
  }
 },
 "nbformat": 4,
 "nbformat_minor": 2
}
